{
 "cells": [
  {
   "cell_type": "code",
   "execution_count": null,
   "id": "47dcab65",
   "metadata": {},
   "outputs": [],
   "source": [
    "import pandas as pd\n",
    "import numpy as np\n",
    "import matplotlib.pyplot as plt\n",
    "import sys\n",
    "import re\n",
    "import math\n",
    "import os\n",
    "import glob\n",
    "\n",
    "import matplotlib\n",
    "matplotlib.use('module://ipympl.backend_nbagg')\n",
    "%matplotlib widget\n",
    "\n",
    "# import PyQt5\n",
    "# import os\n",
    "# os.environ[\"QT_API\"] = \"pyqt5\""
   ]
  },
  {
   "cell_type": "code",
   "execution_count": null,
   "id": "b0eb3bee",
   "metadata": {},
   "outputs": [],
   "source": [
    "sys.path.append(\"/Users/pnr5sh/Documents/phd/mmmp/\")\n",
    "import sidchaini.sidhelpers as sidhelpers"
   ]
  },
  {
   "cell_type": "code",
   "execution_count": null,
   "id": "9f5c33fd",
   "metadata": {},
   "outputs": [],
   "source": [
    "#reading in meta data from sid's dir\n",
    "header = ['Obj. ID', 'IAU name', 'Internal name/s', 'Obj. RA', 'Obj. DEC', 'Obj. Type',\n",
    "          'Redshift', 'Spec. ID', 'Obs-date', 'JD', 'Phase (days)', 'From', 'Telescope',\n",
    "          'Instrument', 'Observer/s', 'Reducer/s', 'Source group', 'Public', 'Associated groups',\n",
    "          'End prop. period', 'Ascii file', 'Fits file', 'Spec. type', 'Spec. quality',\n",
    "          'Extinction-Corrected', 'WL Medium','WL Units', 'Flux Unit Coefficient', 'Spec. units',\n",
    "          'Flux Calibrated By', 'Exp-time', 'Aperture (slit)', 'HA', 'Airmass', 'Dichroic', 'Grism',\n",
    "          'Grating', 'Blaze', 'Lambda-min', 'Lambda-max', 'Del-Lambda', 'Contrib', 'Publish', 'Remarks',\n",
    "          'Created by', 'Creation date']\n",
    "all_spec_meta = pd.read_csv('../sidchaini/1. download ALL wise data/wiserep_spectra_combined.csv', header='infer')# names=header, delimiter=', ', skiprows=1)\n",
    "all_spec_meta.columns"
   ]
  },
  {
   "cell_type": "code",
   "execution_count": null,
   "id": "761cc671",
   "metadata": {},
   "outputs": [],
   "source": [
    "# filters for specific types\n",
    "multi_types = (all_spec_meta['Obj. Type']=='SN IIb')|(all_spec_meta['Obj. Type']=='SN Ib')|(all_spec_meta['Obj. Type']=='SN Ic')|(all_spec_meta['Obj. Type']=='SLSN-I')|(all_spec_meta['Obj. Type']=='SLSN-II')|(all_spec_meta['Obj. Type']=='SN IIn')\n",
    "\n",
    "#filters for ZTF/P60 data\n",
    "p60 = (all_spec_meta['Telescope']=='P60')\n",
    "sedm = (all_spec_meta['Instrument']=='SEDM')\n",
    "\n",
    "#creating filters based on types for big DF\n",
    "iib = (all_spec_meta['Obj. Type']=='SN IIb')\n",
    "ib = (all_spec_meta['Obj. Type']=='SN Ib')\n",
    "ic = (all_spec_meta['Obj. Type']=='SN Ic')\n",
    "slsni = (all_spec_meta['Obj. Type']=='SLSN-I')\n",
    "slsnii = (all_spec_meta['Obj. Type']=='SLSN-II')\n",
    "iin = (all_spec_meta['Obj. Type']=='SN IIn')"
   ]
  },
  {
   "cell_type": "code",
   "execution_count": null,
   "id": "38bc505b",
   "metadata": {},
   "outputs": [],
   "source": [
    "# creating df of only objects meeting our target types, from ZTF \n",
    "mp_spec_df = all_spec_meta.loc[multi_types&p60&sedm]"
   ]
  },
  {
   "cell_type": "code",
   "execution_count": null,
   "id": "a31d5027",
   "metadata": {},
   "outputs": [],
   "source": [
    "types_str = ['SN IIb', 'SN Ib', 'SN Ic', 'SLSN-I']\n",
    "types_flags = [iib, ib, ic, slsni]\n",
    "\n",
    "for i,types in enumerate(types_flags):\n",
    "    objs = all_spec_meta.loc[types&p60&sedm,'IAU name'].unique().tolist() #list of IIb names\n",
    "\n",
    "    ras, decs, jd_starts, jd_ends, obj_name = [],[],[],[],[]\n",
    "    for j in range(len(objs)):\n",
    "        ra = all_spec_meta.loc[types&p60&sedm&(all_spec_meta['IAU name']==objs[j]), 'Obj. RA'].iloc[0]"
   ]
  },
  {
   "cell_type": "code",
   "execution_count": null,
   "id": "b97f880e",
   "metadata": {},
   "outputs": [],
   "source": [
    "# #read in ztf lc data into DF and also header info\n",
    "# #isolate ra/dec from header and cross-match to mp_spec_df values to find corresponding SN\n",
    "# #rename file \n",
    "\n",
    "# datadir = './ztf_fp_data/ib/'\n",
    "\n",
    "# filenames = [datadir+f for f in os.listdir(datadir)]\n",
    "\n",
    "# ra_str = '# Requested input R.A. = '\n",
    "# dec_str = '# Requested input Dec. = '\n",
    "# for i,filename in enumerate(filenames):\n",
    "#     ra = float()\n",
    "#     dec = float()\n",
    "#     with open(filename, 'r') as file:\n",
    "#         header = [next(file) for x in range(54)]\n",
    "#         for line in header:\n",
    "#             if line.startswith(ra_str):\n",
    "#                 ra = float(line[len(ra_str):-8])\n",
    "#             if line.startswith(dec_str):\n",
    "#                 dec = float(line[len(dec_str):-8])\n",
    "#     idx = [mp_spec_df['Obj. RA'].sub(ra).abs().idxmin()] # list of index matching the ra\n",
    "#     if len(idx)>0:\n",
    "#         name = mp_spec_df.loc[idx[0],'IAU name'][3:]\n",
    "#         savefile = datadir+name+'_fp_lc.txt'\n",
    "#         #rename the file w/ the IAU name\n",
    "#         os.system(f\"cp {filename} {savefile}\")\n",
    "#     else:\n",
    "#         print(f\"Unable to find closest match to RA={ra}\")"
   ]
  },
  {
   "cell_type": "code",
   "execution_count": null,
   "id": "bf1df365",
   "metadata": {},
   "outputs": [],
   "source": [
    "# #check if the matched file names match the object names\n",
    "\n",
    "# li = mp_spec_df.loc[mp_spec_df['Obj. Type']=='SN Ib', 'IAU name'].sort_values().unique()\n",
    "# for l in li:\n",
    "#     print(l)"
   ]
  },
  {
   "cell_type": "code",
   "execution_count": null,
   "id": "03bf3734",
   "metadata": {},
   "outputs": [],
   "source": [
    "datadir = './ztf_fp_data/iib/'\n",
    "files = glob.glob(datadir+'*_fp_lc.txt')\n",
    "ztf_info_df = pd.read_csv('ztf_fp_info_for_SN IIb.csv')\n",
    "\n",
    "sn_names, lc_dfs = [],[]\n",
    "for file in files:\n",
    "    sn_name = file[18:-10] #NOTE: FIRST INDEX CHANGES W/ DATADIR NAME LENGTH\n",
    "    sn_names.append(sn_name)\n",
    "    \n",
    "    cols = ['index', 'field', 'ccdid', 'qid', 'filter', 'pid', 'infobitssci', 'sciinpseeing', 'scibckgnd', 'scisigpix',\n",
    "            'zpmaginpsci', 'zpmaginpsciunc', 'zpmaginpscirms', 'clrcoeff', 'clrcoeffunc', 'ncalmatches', 'exptime',\n",
    "            'adpctdif1', 'adpctdif2', 'diffmaglim', 'zpdiff', 'programid', 'jd', 'rfid', 'forcediffimflux', 'forcediffimfluxunc',\n",
    "            'forcediffimsnr', 'forcediffimchisq', 'forcediffimfluxap', 'forcediffimfluxuncap', 'forcediffimsnrap', 'aperturecorr',\n",
    "            'dnearestrefsrc', 'nearestrefmag', 'nearestrefmagunc', 'nearestrefchi', 'nearestrefsharp', 'refjdstart', 'refjdend', 'procstatus']\n",
    "    df = pd.read_csv(file, names=cols, header=None, sep=\" \", skiprows=54)\n",
    "    df = df.set_index(df['index'])  # manually setting indeces\n",
    "    df = df.drop(columns=['index']) # drop duplicated index \n",
    "\n",
    "    # cut df down to -50 days to +365 days centered on date of first spectra\n",
    "    # time window included in ztf_fp_info*csv files for each obj type\n",
    "    obj = ztf_info_df.loc[ztf_info_df['obj_name'].str[3:]==sn_name]\n",
    "    start_jd = obj['jd_start'].iloc[0]\n",
    "    end_jd = obj['jd_end'].iloc[0]\n",
    "    df_cut = df.loc[(df['jd']<end_jd)&(df['jd']>start_jd)] #only selecting points that fall within specified time window\n",
    "    df_cut = df_cut.reset_index(drop=True)\n",
    "    df_cut = df_cut.infer_objects()\n",
    "    lc_dfs.append(df_cut)"
   ]
  },
  {
   "cell_type": "code",
   "execution_count": null,
   "id": "16f63ca9",
   "metadata": {},
   "outputs": [],
   "source": [
    "\n",
    "# %matplotlib qt\n",
    "plt.figure()\n",
    "plt.scatter(lc_dfs[0]['jd'], lc_dfs[0]['forcediffimflux'])\n",
    "plt.show()\n",
    "# plt.xlim(lc_dfs[0]['jd'].iloc[0]-50, lc_dfs[0]['jd'].iloc[0]+75)\n",
    "\n",
    "# plt.ylim(-1000, 1000)"
   ]
  },
  {
   "cell_type": "code",
   "execution_count": null,
   "id": "27f84287",
   "metadata": {},
   "outputs": [],
   "source": []
  }
 ],
 "metadata": {
  "kernelspec": {
   "display_name": "astro",
   "language": "python",
   "name": "python3"
  },
  "language_info": {
   "codemirror_mode": {
    "name": "ipython",
    "version": 3
   },
   "file_extension": ".py",
   "mimetype": "text/x-python",
   "name": "python",
   "nbconvert_exporter": "python",
   "pygments_lexer": "ipython3",
   "version": "3.11.0"
  }
 },
 "nbformat": 4,
 "nbformat_minor": 5
}
