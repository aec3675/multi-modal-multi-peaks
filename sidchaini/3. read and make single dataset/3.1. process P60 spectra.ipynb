{
 "cells": [
  {
   "cell_type": "code",
   "execution_count": 1,
   "id": "d2c9b319-7b3c-45d6-b3b8-f7b2978ba55d",
   "metadata": {
    "execution": {
     "iopub.execute_input": "2025-04-05T22:13:08.595614Z",
     "iopub.status.busy": "2025-04-05T22:13:08.594615Z",
     "iopub.status.idle": "2025-04-05T22:13:08.615491Z",
     "shell.execute_reply": "2025-04-05T22:13:08.612131Z",
     "shell.execute_reply.started": "2025-04-05T22:13:08.595563Z"
    }
   },
   "outputs": [],
   "source": [
    "allcols=set()\n",
    "allcolsls = []"
   ]
  },
  {
   "cell_type": "code",
   "execution_count": 2,
   "id": "d1e3310c-1c71-490f-9de5-c3709bb48330",
   "metadata": {
    "execution": {
     "iopub.execute_input": "2025-04-05T22:13:08.621845Z",
     "iopub.status.busy": "2025-04-05T22:13:08.620968Z",
     "iopub.status.idle": "2025-04-05T22:13:09.294721Z",
     "shell.execute_reply": "2025-04-05T22:13:09.294205Z",
     "shell.execute_reply.started": "2025-04-05T22:13:08.621826Z"
    }
   },
   "outputs": [],
   "source": [
    "import numpy as np\n",
    "import pandas as pd\n",
    "import pylab as plt\n",
    "from tqdm.auto import tqdm\n",
    "from astropy.io import ascii"
   ]
  },
  {
   "cell_type": "code",
   "execution_count": 3,
   "id": "33eff351-301d-4856-8bb1-90529afe020c",
   "metadata": {
    "execution": {
     "iopub.execute_input": "2025-04-05T22:13:09.295225Z",
     "iopub.status.busy": "2025-04-05T22:13:09.295101Z",
     "iopub.status.idle": "2025-04-05T22:13:10.139631Z",
     "shell.execute_reply": "2025-04-05T22:13:10.138364Z",
     "shell.execute_reply.started": "2025-04-05T22:13:09.295209Z"
    }
   },
   "outputs": [],
   "source": [
    "import sys\n",
    "sys.path.append(\"../\")\n",
    "import sidhelpers"
   ]
  },
  {
   "cell_type": "markdown",
   "id": "09742d0d-6b88-4e9d-851c-48791d8b2a90",
   "metadata": {},
   "source": [
    "## 1. See how many spectra (%) can be opened by Astropy"
   ]
  },
  {
   "cell_type": "code",
   "execution_count": 4,
   "id": "e94c1ca4-2d75-46a6-8242-b0edb1bb55f8",
   "metadata": {
    "execution": {
     "iopub.execute_input": "2025-04-05T22:13:10.144011Z",
     "iopub.status.busy": "2025-04-05T22:13:10.142886Z",
     "iopub.status.idle": "2025-04-05T22:13:10.469991Z",
     "shell.execute_reply": "2025-04-05T22:13:10.469553Z",
     "shell.execute_reply.started": "2025-04-05T22:13:10.143976Z"
    }
   },
   "outputs": [],
   "source": [
    "# Read spectra metadata\n",
    "spectra_info = pd.read_csv(\"../1. download ALL wise data/wiserep_spectra_combined.csv\")\n",
    "\n",
    "# keep p60 only\n",
    "spectra_info = spectra_info[spectra_info[\"Telescope\"] == \"P60\"]"
   ]
  },
  {
   "cell_type": "code",
   "execution_count": 5,
   "id": "09a6eb40-de9c-43e5-bad4-33a9041b1f96",
   "metadata": {
    "execution": {
     "iopub.execute_input": "2025-04-05T22:13:10.471259Z",
     "iopub.status.busy": "2025-04-05T22:13:10.471176Z",
     "iopub.status.idle": "2025-04-05T22:13:10.475559Z",
     "shell.execute_reply": "2025-04-05T22:13:10.475304Z",
     "shell.execute_reply.started": "2025-04-05T22:13:10.471250Z"
    },
    "scrolled": true
   },
   "outputs": [
    {
     "data": {
      "text/plain": [
       "Obj. Type\n",
       "SN Ia                4769\n",
       "SN II                 782\n",
       "SN Ic                  92\n",
       "SN Ia-91T-like         90\n",
       "SN IIn                 62\n",
       "SN IIb                 54\n",
       "SN Ib                  53\n",
       "SN Ic-BL               52\n",
       "SN IIP                 51\n",
       "SN Ia-91bg-like        31\n",
       "TDE                    30\n",
       "SN Ia-pec              27\n",
       "SN                     22\n",
       "CV                     20\n",
       "Nova                   18\n",
       "SLSN-II                15\n",
       "SN Ib/c                15\n",
       "SN Ibn                 14\n",
       "SN I                   14\n",
       "SLSN-I                 13\n",
       "AGN                    12\n",
       "SN Icn                 10\n",
       "SN Iax[02cx-like]       9\n",
       "SN Ia-CSM               9\n",
       "Galaxy                  3\n",
       "SN II-pec               3\n",
       "QSO                     3\n",
       "SN Ib-Ca-rich           2\n",
       "ILRT                    1\n",
       "SN IIL                  1\n",
       "LBV                     1\n",
       "SN Ic-Ca-rich           1\n",
       "SN Ic-pec               1\n",
       "Computed-Ia             1\n",
       "FBOT                    1\n",
       "SN Ia-SC                1\n",
       "Name: count, dtype: int64"
      ]
     },
     "execution_count": 5,
     "metadata": {},
     "output_type": "execute_result"
    }
   ],
   "source": [
    "spectra_info[\"Obj. Type\"].value_counts()"
   ]
  },
  {
   "cell_type": "code",
   "execution_count": 6,
   "id": "2ed26946-0b4c-4855-9b58-848f5d799816",
   "metadata": {
    "execution": {
     "iopub.execute_input": "2025-04-05T22:13:10.477400Z",
     "iopub.status.busy": "2025-04-05T22:13:10.476850Z",
     "iopub.status.idle": "2025-04-05T22:13:10.482387Z",
     "shell.execute_reply": "2025-04-05T22:13:10.481801Z",
     "shell.execute_reply.started": "2025-04-05T22:13:10.477382Z"
    }
   },
   "outputs": [],
   "source": [
    "filenames = spectra_info[\"Ascii file\"].values"
   ]
  },
  {
   "cell_type": "code",
   "execution_count": 7,
   "id": "5819ea7b-3e80-45b1-a445-43104165a071",
   "metadata": {
    "execution": {
     "iopub.execute_input": "2025-04-05T22:13:10.482864Z",
     "iopub.status.busy": "2025-04-05T22:13:10.482782Z",
     "iopub.status.idle": "2025-04-05T22:13:10.489496Z",
     "shell.execute_reply": "2025-04-05T22:13:10.488934Z",
     "shell.execute_reply.started": "2025-04-05T22:13:10.482855Z"
    }
   },
   "outputs": [],
   "source": [
    "# df = ascii.read(f\"../1. download ALL wise data/wiserep_data/spectra/{fn}\").to_pandas()"
   ]
  },
  {
   "cell_type": "code",
   "execution_count": 8,
   "id": "54efcb5d-3b28-437c-b1d9-565ce4704f2f",
   "metadata": {
    "execution": {
     "iopub.execute_input": "2025-04-05T22:13:10.490437Z",
     "iopub.status.busy": "2025-04-05T22:13:10.490077Z",
     "iopub.status.idle": "2025-04-05T22:13:10.493782Z",
     "shell.execute_reply": "2025-04-05T22:13:10.493319Z",
     "shell.execute_reply.started": "2025-04-05T22:13:10.490420Z"
    }
   },
   "outputs": [],
   "source": [
    "# spectra_info[\"Spec. units\"].value_counts().index[0]"
   ]
  },
  {
   "cell_type": "code",
   "execution_count": 9,
   "id": "0130c9db-f1a7-47aa-9555-f3588d705de7",
   "metadata": {
    "execution": {
     "iopub.execute_input": "2025-04-05T22:13:10.494197Z",
     "iopub.status.busy": "2025-04-05T22:13:10.494116Z",
     "iopub.status.idle": "2025-04-05T22:14:10.830298Z",
     "shell.execute_reply": "2025-04-05T22:14:10.829845Z",
     "shell.execute_reply.started": "2025-04-05T22:13:10.494188Z"
    }
   },
   "outputs": [
    {
     "data": {
      "application/vnd.jupyter.widget-view+json": {
       "model_id": "da0fd0a47c71430ca6af3340447337cd",
       "version_major": 2,
       "version_minor": 0
      },
      "text/plain": [
       "  0%|          | 0/6304 [00:00<?, ?it/s]"
      ]
     },
     "metadata": {},
     "output_type": "display_data"
    }
   ],
   "source": [
    "# most efficient way to iterate\n",
    "# https://stackoverflow.com/questions/7837722/what-is-the-most-efficient-way-to-loop-through-dataframes-with-pandas\n",
    "\n",
    "flux_counter = 0\n",
    "readerror_counter = 0\n",
    "errs = []\n",
    "\n",
    "for fn, wl_unit, spec_unit, flux_ucoeff, lambda_min, lambda_max, del_lambda in tqdm(zip(\n",
    "    spectra_info[\"Ascii file\"],\n",
    "    spectra_info[\"WL Units\"],\n",
    "    spectra_info[\"Spec. units\"],\n",
    "    spectra_info[\"Flux Unit Coefficient\"],\n",
    "    spectra_info[\"Lambda-min\"],\n",
    "    spectra_info[\"Lambda-max\"],\n",
    "    spectra_info[\"Del-Lambda\"],\n",
    "), total=len(spectra_info)):\n",
    "    try:\n",
    "        df = ascii.read(f\"../1. download ALL wise data/wiserep_data/spectra/{fn}\").to_pandas()\n",
    "        allcols.update(df.columns)\n",
    "        allcolsls = allcolsls + list(df.columns)\n",
    "    except Exception as ee:\n",
    "        readerror_counter = readerror_counter + 1\n",
    "        errs.append([fn,ee])\n",
    "        continue\n",
    "    try:\n",
    "        sidhelpers.check_df(df, wl_unit, spec_unit, lambda_min, lambda_max, del_lambda)\n",
    "    except Exception as e:\n",
    "        errs.append([fn,e])\n",
    "        \n",
    "        if e==\"Flux is not positive!\":\n",
    "            flux_counter=flux_counter+1\n",
    "        continue"
   ]
  },
  {
   "cell_type": "code",
   "execution_count": 10,
   "id": "3114393f-48b7-4f62-9d6e-a599eee60c35",
   "metadata": {
    "execution": {
     "iopub.execute_input": "2025-04-05T22:14:10.831002Z",
     "iopub.status.busy": "2025-04-05T22:14:10.830913Z",
     "iopub.status.idle": "2025-04-05T22:14:10.835022Z",
     "shell.execute_reply": "2025-04-05T22:14:10.834337Z",
     "shell.execute_reply.started": "2025-04-05T22:14:10.830992Z"
    }
   },
   "outputs": [
    {
     "data": {
      "text/plain": [
       "0"
      ]
     },
     "execution_count": 10,
     "metadata": {},
     "output_type": "execute_result"
    }
   ],
   "source": [
    "flux_counter"
   ]
  },
  {
   "cell_type": "code",
   "execution_count": 11,
   "id": "b90f5841-445b-40e9-aa54-d55dc9e0d95c",
   "metadata": {
    "execution": {
     "iopub.execute_input": "2025-04-05T22:14:10.836043Z",
     "iopub.status.busy": "2025-04-05T22:14:10.835574Z",
     "iopub.status.idle": "2025-04-05T22:14:10.846678Z",
     "shell.execute_reply": "2025-04-05T22:14:10.846265Z",
     "shell.execute_reply.started": "2025-04-05T22:14:10.836027Z"
    }
   },
   "outputs": [
    {
     "data": {
      "text/html": [
       "<div>\n",
       "<style scoped>\n",
       "    .dataframe tbody tr th:only-of-type {\n",
       "        vertical-align: middle;\n",
       "    }\n",
       "\n",
       "    .dataframe tbody tr th {\n",
       "        vertical-align: top;\n",
       "    }\n",
       "\n",
       "    .dataframe thead th {\n",
       "        text-align: right;\n",
       "    }\n",
       "</style>\n",
       "<table border=\"1\" class=\"dataframe\">\n",
       "  <thead>\n",
       "    <tr style=\"text-align: right;\">\n",
       "      <th></th>\n",
       "      <th>columns</th>\n",
       "    </tr>\n",
       "  </thead>\n",
       "  <tbody>\n",
       "    <tr>\n",
       "      <th>0</th>\n",
       "      <td>obswave</td>\n",
       "    </tr>\n",
       "    <tr>\n",
       "      <th>1</th>\n",
       "      <td>FILENAME:</td>\n",
       "    </tr>\n",
       "    <tr>\n",
       "      <th>2</th>\n",
       "      <td>col3</td>\n",
       "    </tr>\n",
       "    <tr>\n",
       "      <th>3</th>\n",
       "      <td>idk</td>\n",
       "    </tr>\n",
       "    <tr>\n",
       "      <th>4</th>\n",
       "      <td>P60</td>\n",
       "    </tr>\n",
       "    <tr>\n",
       "      <th>5</th>\n",
       "      <td>col2</td>\n",
       "    </tr>\n",
       "    <tr>\n",
       "      <th>6</th>\n",
       "      <td>flam</td>\n",
       "    </tr>\n",
       "    <tr>\n",
       "      <th>7</th>\n",
       "      <td>col1</td>\n",
       "    </tr>\n",
       "    <tr>\n",
       "      <th>8</th>\n",
       "      <td>flux</td>\n",
       "    </tr>\n",
       "    <tr>\n",
       "      <th>9</th>\n",
       "      <td>ZTF18abcezmh_20180703_P60_v1.ascii</td>\n",
       "    </tr>\n",
       "    <tr>\n",
       "      <th>10</th>\n",
       "      <td>TELESCOPE:</td>\n",
       "    </tr>\n",
       "    <tr>\n",
       "      <th>11</th>\n",
       "      <td>wavelength</td>\n",
       "    </tr>\n",
       "  </tbody>\n",
       "</table>\n",
       "</div>"
      ],
      "text/plain": [
       "                               columns\n",
       "0                              obswave\n",
       "1                            FILENAME:\n",
       "2                                 col3\n",
       "3                                  idk\n",
       "4                                  P60\n",
       "5                                 col2\n",
       "6                                 flam\n",
       "7                                 col1\n",
       "8                                 flux\n",
       "9   ZTF18abcezmh_20180703_P60_v1.ascii\n",
       "10                          TELESCOPE:\n",
       "11                          wavelength"
      ]
     },
     "execution_count": 11,
     "metadata": {},
     "output_type": "execute_result"
    }
   ],
   "source": [
    "df_unique = pd.DataFrame({\"columns\": list(allcols)})\n",
    "df_unique.to_csv(\"unique_columns_p60_05april.csv\", index=False)\n",
    "df_unique"
   ]
  },
  {
   "cell_type": "code",
   "execution_count": 12,
   "id": "73c821a0-20d4-4f30-9b3a-d00867bb2280",
   "metadata": {
    "execution": {
     "iopub.execute_input": "2025-04-05T22:14:10.847331Z",
     "iopub.status.busy": "2025-04-05T22:14:10.847199Z",
     "iopub.status.idle": "2025-04-05T22:14:10.850066Z",
     "shell.execute_reply": "2025-04-05T22:14:10.849458Z",
     "shell.execute_reply.started": "2025-04-05T22:14:10.847318Z"
    }
   },
   "outputs": [
    {
     "data": {
      "text/plain": [
       "30"
      ]
     },
     "execution_count": 12,
     "metadata": {},
     "output_type": "execute_result"
    }
   ],
   "source": [
    "readerror_counter"
   ]
  },
  {
   "cell_type": "code",
   "execution_count": 13,
   "id": "4aab5cbe-787b-4b39-ba13-501fa40f6bf7",
   "metadata": {
    "execution": {
     "iopub.execute_input": "2025-04-05T22:14:10.850921Z",
     "iopub.status.busy": "2025-04-05T22:14:10.850834Z",
     "iopub.status.idle": "2025-04-05T22:14:10.856219Z",
     "shell.execute_reply": "2025-04-05T22:14:10.855475Z",
     "shell.execute_reply.started": "2025-04-05T22:14:10.850912Z"
    }
   },
   "outputs": [],
   "source": [
    "errdf = pd.DataFrame(errs, columns=[\"Ascii file\", \"error\"]).set_index(\"Ascii file\")"
   ]
  },
  {
   "cell_type": "code",
   "execution_count": 14,
   "id": "d3b90cf4-2593-4bff-b6b0-61700d71e986",
   "metadata": {
    "execution": {
     "iopub.execute_input": "2025-04-05T22:14:10.868972Z",
     "iopub.status.busy": "2025-04-05T22:14:10.868843Z",
     "iopub.status.idle": "2025-04-05T22:14:10.889296Z",
     "shell.execute_reply": "2025-04-05T22:14:10.889025Z",
     "shell.execute_reply.started": "2025-04-05T22:14:10.868959Z"
    }
   },
   "outputs": [],
   "source": [
    "errdf.to_csv(\"errdf_05april.csv\")"
   ]
  },
  {
   "cell_type": "code",
   "execution_count": 15,
   "id": "f5165cb2-f0ec-4d4b-9967-192f9b180c82",
   "metadata": {
    "execution": {
     "iopub.execute_input": "2025-04-05T22:14:10.889851Z",
     "iopub.status.busy": "2025-04-05T22:14:10.889763Z",
     "iopub.status.idle": "2025-04-05T22:14:10.895141Z",
     "shell.execute_reply": "2025-04-05T22:14:10.894470Z",
     "shell.execute_reply.started": "2025-04-05T22:14:10.889842Z"
    }
   },
   "outputs": [
    {
     "data": {
      "text/html": [
       "<div>\n",
       "<style scoped>\n",
       "    .dataframe tbody tr th:only-of-type {\n",
       "        vertical-align: middle;\n",
       "    }\n",
       "\n",
       "    .dataframe tbody tr th {\n",
       "        vertical-align: top;\n",
       "    }\n",
       "\n",
       "    .dataframe thead th {\n",
       "        text-align: right;\n",
       "    }\n",
       "</style>\n",
       "<table border=\"1\" class=\"dataframe\">\n",
       "  <thead>\n",
       "    <tr style=\"text-align: right;\">\n",
       "      <th></th>\n",
       "      <th>error</th>\n",
       "    </tr>\n",
       "    <tr>\n",
       "      <th>Ascii file</th>\n",
       "      <th></th>\n",
       "    </tr>\n",
       "  </thead>\n",
       "  <tbody>\n",
       "    <tr>\n",
       "      <th>2017gxc_2017-09-30_04-13-40_P60_SEDM_None.txt</th>\n",
       "      <td>Spectral unit conversion from 'Other' not impl...</td>\n",
       "    </tr>\n",
       "    <tr>\n",
       "      <th>2017gxc_2017-10-01_04-11-10_P60_SEDM_None.txt</th>\n",
       "      <td>Spectral unit conversion from 'Other' not impl...</td>\n",
       "    </tr>\n",
       "    <tr>\n",
       "      <th>iPTF16fcg_2016-09-06_00-00-00.000000_P60_SEDM_iPTF.ascii</th>\n",
       "      <td>Flux is not positive!</td>\n",
       "    </tr>\n",
       "    <tr>\n",
       "      <th>SN2016fcg_2016-09-06_11-06-02_P60_SEDM_TNS.ascii</th>\n",
       "      <td>Flux is not positive!</td>\n",
       "    </tr>\n",
       "    <tr>\n",
       "      <th>2018cfw_2018-06-10_09-21-07_P60_SEDM_None.txt</th>\n",
       "      <td>Spectral unit conversion from 'Other' not impl...</td>\n",
       "    </tr>\n",
       "    <tr>\n",
       "      <th>...</th>\n",
       "      <td>...</td>\n",
       "    </tr>\n",
       "    <tr>\n",
       "      <th>SN2025cku_2025-02-27_10-53-27_P60_SEDM_TNS.ascii</th>\n",
       "      <td>Flux is not positive!</td>\n",
       "    </tr>\n",
       "    <tr>\n",
       "      <th>SN2025yd_2025-03-05_09-56-24_P60_SEDM_TNS.ascii</th>\n",
       "      <td>Flux is not positive!</td>\n",
       "    </tr>\n",
       "    <tr>\n",
       "      <th>SN2025cjg_2025-03-05_05-59-26_P60_SEDM_TNS.ascii</th>\n",
       "      <td>Flux is not positive!</td>\n",
       "    </tr>\n",
       "    <tr>\n",
       "      <th>SN2025bvf_2025-03-09_08-57-53_P60_SEDM_TNS.ascii</th>\n",
       "      <td>Flux is not positive!</td>\n",
       "    </tr>\n",
       "    <tr>\n",
       "      <th>SN2025dge_2025-03-10_05-20-41_P60_SEDM_TNS.ascii</th>\n",
       "      <td>Flux is not positive!</td>\n",
       "    </tr>\n",
       "  </tbody>\n",
       "</table>\n",
       "<p>2340 rows × 1 columns</p>\n",
       "</div>"
      ],
      "text/plain": [
       "                                                                                                error\n",
       "Ascii file                                                                                           \n",
       "2017gxc_2017-09-30_04-13-40_P60_SEDM_None.txt       Spectral unit conversion from 'Other' not impl...\n",
       "2017gxc_2017-10-01_04-11-10_P60_SEDM_None.txt       Spectral unit conversion from 'Other' not impl...\n",
       "iPTF16fcg_2016-09-06_00-00-00.000000_P60_SEDM_i...                              Flux is not positive!\n",
       "SN2016fcg_2016-09-06_11-06-02_P60_SEDM_TNS.ascii                                Flux is not positive!\n",
       "2018cfw_2018-06-10_09-21-07_P60_SEDM_None.txt       Spectral unit conversion from 'Other' not impl...\n",
       "...                                                                                               ...\n",
       "SN2025cku_2025-02-27_10-53-27_P60_SEDM_TNS.ascii                                Flux is not positive!\n",
       "SN2025yd_2025-03-05_09-56-24_P60_SEDM_TNS.ascii                                 Flux is not positive!\n",
       "SN2025cjg_2025-03-05_05-59-26_P60_SEDM_TNS.ascii                                Flux is not positive!\n",
       "SN2025bvf_2025-03-09_08-57-53_P60_SEDM_TNS.ascii                                Flux is not positive!\n",
       "SN2025dge_2025-03-10_05-20-41_P60_SEDM_TNS.ascii                                Flux is not positive!\n",
       "\n",
       "[2340 rows x 1 columns]"
      ]
     },
     "execution_count": 15,
     "metadata": {},
     "output_type": "execute_result"
    }
   ],
   "source": [
    "errdf"
   ]
  },
  {
   "cell_type": "code",
   "execution_count": 18,
   "id": "61c7f23e-a0fa-43bc-8b4f-d0e988028fb1",
   "metadata": {
    "execution": {
     "iopub.execute_input": "2025-04-06T02:06:33.853677Z",
     "iopub.status.busy": "2025-04-06T02:06:33.849105Z",
     "iopub.status.idle": "2025-04-06T02:06:34.204660Z",
     "shell.execute_reply": "2025-04-06T02:06:34.203668Z",
     "shell.execute_reply.started": "2025-04-06T02:06:33.853469Z"
    }
   },
   "outputs": [
    {
     "name": "stdout",
     "output_type": "stream",
     "text": [
      "cat: SN2025cku_2025-02-27_10-53-27_P60_SEDM_TNS.ascii: No such file or directory\n"
     ]
    }
   ],
   "source": [
    "!cat SN2025cku_2025-02-27_10-53-27_P60_SEDM_TNS.ascii\t"
   ]
  },
  {
   "cell_type": "code",
   "execution_count": 16,
   "id": "b4e1caf9-9278-4c75-a6e3-af3d6cfa66d7",
   "metadata": {
    "execution": {
     "iopub.execute_input": "2025-04-05T22:14:10.896129Z",
     "iopub.status.busy": "2025-04-05T22:14:10.895868Z",
     "iopub.status.idle": "2025-04-05T22:14:10.901820Z",
     "shell.execute_reply": "2025-04-05T22:14:10.900741Z",
     "shell.execute_reply.started": "2025-04-05T22:14:10.896102Z"
    }
   },
   "outputs": [
    {
     "data": {
      "text/html": [
       "<div>\n",
       "<style scoped>\n",
       "    .dataframe tbody tr th:only-of-type {\n",
       "        vertical-align: middle;\n",
       "    }\n",
       "\n",
       "    .dataframe tbody tr th {\n",
       "        vertical-align: top;\n",
       "    }\n",
       "\n",
       "    .dataframe thead th {\n",
       "        text-align: right;\n",
       "    }\n",
       "</style>\n",
       "<table border=\"1\" class=\"dataframe\">\n",
       "  <thead>\n",
       "    <tr style=\"text-align: right;\">\n",
       "      <th></th>\n",
       "      <th>error</th>\n",
       "    </tr>\n",
       "    <tr>\n",
       "      <th>Ascii file</th>\n",
       "      <th></th>\n",
       "    </tr>\n",
       "  </thead>\n",
       "  <tbody>\n",
       "  </tbody>\n",
       "</table>\n",
       "</div>"
      ],
      "text/plain": [
       "Empty DataFrame\n",
       "Columns: [error]\n",
       "Index: []"
      ]
     },
     "execution_count": 16,
     "metadata": {},
     "output_type": "execute_result"
    }
   ],
   "source": [
    "errdf[errdf[\"error\"]==\"Flux is not positive!\"]"
   ]
  },
  {
   "cell_type": "code",
   "execution_count": 17,
   "id": "8a7ee0a9-295c-436d-afcb-b81e4921f47f",
   "metadata": {
    "execution": {
     "iopub.execute_input": "2025-04-05T22:14:10.902875Z",
     "iopub.status.busy": "2025-04-05T22:14:10.902608Z",
     "iopub.status.idle": "2025-04-05T22:14:10.907998Z",
     "shell.execute_reply": "2025-04-05T22:14:10.907670Z",
     "shell.execute_reply.started": "2025-04-05T22:14:10.902859Z"
    }
   },
   "outputs": [
    {
     "name": "stdout",
     "output_type": "stream",
     "text": [
      "Flux density at 5500.0 Angstrom:\n",
      "1.0 mJy = 9.910494479338844e-16 erg / (Angstrom s cm2)\n"
     ]
    }
   ],
   "source": [
    "import astropy.units as u\n",
    "import astropy.constants as const\n",
    "from astropy.units import equivalencies\n",
    "\n",
    "# Define the flux in mJy\n",
    "flux_mJy = 1.0 * u.mJy  # Example value of 1 mJy\n",
    "\n",
    "# To convert between frequency and wavelength units, we need to specify the wavelength\n",
    "wavelength = 5500 * u.AA  # Example: optical wavelength at 5500 Angstroms\n",
    "\n",
    "# Create the equivalency between frequency and wavelength flux densities\n",
    "# This accounts for the non-linear relationship between frequency and wavelength\n",
    "fnu_to_flambda = u.spectral_density(wavelength)\n",
    "\n",
    "# Do the conversion\n",
    "flux_flambda = flux_mJy.to(u.erg / u.s / u.cm**2 / u.AA, equivalencies=fnu_to_flambda)\n",
    "\n",
    "print(f\"Flux density at {wavelength}:\")\n",
    "print(f\"{flux_mJy} = {flux_flambda}\")"
   ]
  },
  {
   "cell_type": "code",
   "execution_count": null,
   "id": "45ad04ee-4ccb-413b-b98d-ae79101d844b",
   "metadata": {},
   "outputs": [],
   "source": []
  }
 ],
 "metadata": {
  "kernelspec": {
   "display_name": "Python 3 (ipykernel)",
   "language": "python",
   "name": "python3"
  },
  "language_info": {
   "codemirror_mode": {
    "name": "ipython",
    "version": 3
   },
   "file_extension": ".py",
   "mimetype": "text/x-python",
   "name": "python",
   "nbconvert_exporter": "python",
   "pygments_lexer": "ipython3",
   "version": "3.11.11"
  }
 },
 "nbformat": 4,
 "nbformat_minor": 5
}
