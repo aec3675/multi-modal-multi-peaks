{
 "cells": [
  {
   "cell_type": "code",
   "execution_count": 1,
   "id": "d1e3310c-1c71-490f-9de5-c3709bb48330",
   "metadata": {
    "execution": {
     "iopub.execute_input": "2025-03-14T16:23:21.955449Z",
     "iopub.status.busy": "2025-03-14T16:23:21.955047Z",
     "iopub.status.idle": "2025-03-14T16:23:22.849186Z",
     "shell.execute_reply": "2025-03-14T16:23:22.848906Z",
     "shell.execute_reply.started": "2025-03-14T16:23:21.955361Z"
    }
   },
   "outputs": [],
   "source": [
    "import numpy as np\n",
    "import pandas as pd\n",
    "import pylab as plt\n",
    "from tqdm.auto import tqdm\n",
    "from astropy.io import ascii"
   ]
  },
  {
   "cell_type": "markdown",
   "id": "09742d0d-6b88-4e9d-851c-48791d8b2a90",
   "metadata": {},
   "source": [
    "## 1. See how many spectra (%) can be opened by Astropy"
   ]
  },
  {
   "cell_type": "code",
   "execution_count": 2,
   "id": "e94c1ca4-2d75-46a6-8242-b0edb1bb55f8",
   "metadata": {
    "execution": {
     "iopub.execute_input": "2025-03-14T16:23:22.849567Z",
     "iopub.status.busy": "2025-03-14T16:23:22.849486Z",
     "iopub.status.idle": "2025-03-14T16:23:23.116516Z",
     "shell.execute_reply": "2025-03-14T16:23:23.116194Z",
     "shell.execute_reply.started": "2025-03-14T16:23:22.849558Z"
    }
   },
   "outputs": [],
   "source": [
    "# Read spectra metadata\n",
    "spectra_info = pd.read_csv(\"../1. download ALL wise data/wiserep_spectra_combined.csv\")\n",
    "\n",
    "# keep p60 only\n",
    "spectra_info = spectra_info[spectra_info[\"Telescope\"] == \"P60\"]"
   ]
  },
  {
   "cell_type": "code",
   "execution_count": 3,
   "id": "09a6eb40-de9c-43e5-bad4-33a9041b1f96",
   "metadata": {
    "execution": {
     "iopub.execute_input": "2025-03-14T16:23:23.117215Z",
     "iopub.status.busy": "2025-03-14T16:23:23.117126Z",
     "iopub.status.idle": "2025-03-14T16:23:23.157140Z",
     "shell.execute_reply": "2025-03-14T16:23:23.156878Z",
     "shell.execute_reply.started": "2025-03-14T16:23:23.117206Z"
    },
    "scrolled": true
   },
   "outputs": [
    {
     "data": {
      "text/plain": [
       "Obj. Type\n",
       "SN Ia                4769\n",
       "SN II                 782\n",
       "SN Ic                  92\n",
       "SN Ia-91T-like         90\n",
       "SN IIn                 62\n",
       "SN IIb                 54\n",
       "SN Ib                  53\n",
       "SN Ic-BL               52\n",
       "SN IIP                 51\n",
       "SN Ia-91bg-like        31\n",
       "TDE                    30\n",
       "SN Ia-pec              27\n",
       "SN                     22\n",
       "CV                     20\n",
       "Nova                   18\n",
       "SLSN-II                15\n",
       "SN Ib/c                15\n",
       "SN Ibn                 14\n",
       "SN I                   14\n",
       "SLSN-I                 13\n",
       "AGN                    12\n",
       "SN Icn                 10\n",
       "SN Iax[02cx-like]       9\n",
       "SN Ia-CSM               9\n",
       "Galaxy                  3\n",
       "SN II-pec               3\n",
       "QSO                     3\n",
       "SN Ib-Ca-rich           2\n",
       "ILRT                    1\n",
       "SN IIL                  1\n",
       "LBV                     1\n",
       "SN Ic-Ca-rich           1\n",
       "SN Ic-pec               1\n",
       "Computed-Ia             1\n",
       "FBOT                    1\n",
       "SN Ia-SC                1\n",
       "Name: count, dtype: int64"
      ]
     },
     "execution_count": 3,
     "metadata": {},
     "output_type": "execute_result"
    }
   ],
   "source": [
    "spectra_info[\"Obj. Type\"].value_counts()"
   ]
  },
  {
   "cell_type": "code",
   "execution_count": 4,
   "id": "2ed26946-0b4c-4855-9b58-848f5d799816",
   "metadata": {
    "execution": {
     "iopub.execute_input": "2025-03-14T16:23:23.157569Z",
     "iopub.status.busy": "2025-03-14T16:23:23.157495Z",
     "iopub.status.idle": "2025-03-14T16:23:23.159498Z",
     "shell.execute_reply": "2025-03-14T16:23:23.159186Z",
     "shell.execute_reply.started": "2025-03-14T16:23:23.157560Z"
    }
   },
   "outputs": [],
   "source": [
    "filenames = spectra_info[\"Ascii file\"].values"
   ]
  },
  {
   "cell_type": "code",
   "execution_count": 6,
   "id": "b7b9bcc4-e345-41f8-ac18-2e472389a1e4",
   "metadata": {
    "execution": {
     "iopub.execute_input": "2025-03-14T16:28:10.577008Z",
     "iopub.status.busy": "2025-03-14T16:28:10.576335Z",
     "iopub.status.idle": "2025-03-14T16:28:10.584431Z",
     "shell.execute_reply": "2025-03-14T16:28:10.583384Z",
     "shell.execute_reply.started": "2025-03-14T16:28:10.576960Z"
    }
   },
   "outputs": [],
   "source": [
    "# most efficient way to iterate\n",
    "# https://stackoverflow.com/questions/7837722/what-is-the-most-efficient-way-to-loop-through-dataframes-with-pandas\n",
    "\n",
    "for fn, wl_unit, spec_unit, flux_ucoeff, lambda_min, lambda_max, del_lambda in zip(\n",
    "    spectra_info[\"Ascii file\"],\n",
    "    spectra_info[\"WL Units\"],\n",
    "    spectra_info[\"Spec. units\"],\n",
    "    spectra_info[\"Flux Unit Coefficient\"],\n",
    "    spectra_info[\"Lambda-min\"],\n",
    "    spectra_info[\"Lambda-max\"],\n",
    "    spectra_info[\"Del-Lambda\"],\n",
    "):\n",
    "    break"
   ]
  },
  {
   "cell_type": "code",
   "execution_count": 7,
   "id": "5819ea7b-3e80-45b1-a445-43104165a071",
   "metadata": {
    "execution": {
     "iopub.execute_input": "2025-03-14T16:28:30.882021Z",
     "iopub.status.busy": "2025-03-14T16:28:30.881372Z",
     "iopub.status.idle": "2025-03-14T16:28:30.904603Z",
     "shell.execute_reply": "2025-03-14T16:28:30.903893Z",
     "shell.execute_reply.started": "2025-03-14T16:28:30.881984Z"
    }
   },
   "outputs": [],
   "source": [
    "df = ascii.read(f\"../1. download ALL wise data/wiserep_data/spectra/{fn}\").to_pandas()"
   ]
  },
  {
   "cell_type": "code",
   "execution_count": 32,
   "id": "54efcb5d-3b28-437c-b1d9-565ce4704f2f",
   "metadata": {
    "execution": {
     "iopub.execute_input": "2025-03-14T17:34:14.908439Z",
     "iopub.status.busy": "2025-03-14T17:34:14.908094Z",
     "iopub.status.idle": "2025-03-14T17:34:14.923457Z",
     "shell.execute_reply": "2025-03-14T17:34:14.921982Z",
     "shell.execute_reply.started": "2025-03-14T17:34:14.908416Z"
    }
   },
   "outputs": [
    {
     "data": {
      "text/plain": [
       "'erg cm(-2) sec(-1) Ang(-1)'"
      ]
     },
     "execution_count": 32,
     "metadata": {},
     "output_type": "execute_result"
    }
   ],
   "source": [
    "spectra_info[\"Spec. units\"].value_counts().index[0]"
   ]
  },
  {
   "cell_type": "code",
   "execution_count": 8,
   "id": "96d00a35-7e77-4c27-bc08-8671723e3208",
   "metadata": {
    "execution": {
     "iopub.execute_input": "2025-03-14T16:28:32.022254Z",
     "iopub.status.busy": "2025-03-14T16:28:32.021586Z",
     "iopub.status.idle": "2025-03-14T16:28:32.047953Z",
     "shell.execute_reply": "2025-03-14T16:28:32.047549Z",
     "shell.execute_reply.started": "2025-03-14T16:28:32.022205Z"
    }
   },
   "outputs": [
    {
     "data": {
      "text/html": [
       "<div>\n",
       "<style scoped>\n",
       "    .dataframe tbody tr th:only-of-type {\n",
       "        vertical-align: middle;\n",
       "    }\n",
       "\n",
       "    .dataframe tbody tr th {\n",
       "        vertical-align: top;\n",
       "    }\n",
       "\n",
       "    .dataframe thead th {\n",
       "        text-align: right;\n",
       "    }\n",
       "</style>\n",
       "<table border=\"1\" class=\"dataframe\">\n",
       "  <thead>\n",
       "    <tr style=\"text-align: right;\">\n",
       "      <th></th>\n",
       "      <th>TELESCOPE:</th>\n",
       "      <th>P60</th>\n",
       "    </tr>\n",
       "  </thead>\n",
       "  <tbody>\n",
       "    <tr>\n",
       "      <th>0</th>\n",
       "      <td>3806.7</td>\n",
       "      <td>4.013300e-16</td>\n",
       "    </tr>\n",
       "    <tr>\n",
       "      <th>1</th>\n",
       "      <td>3822.6</td>\n",
       "      <td>5.601300e-16</td>\n",
       "    </tr>\n",
       "    <tr>\n",
       "      <th>2</th>\n",
       "      <td>3838.6</td>\n",
       "      <td>3.514100e-16</td>\n",
       "    </tr>\n",
       "    <tr>\n",
       "      <th>3</th>\n",
       "      <td>3854.7</td>\n",
       "      <td>4.781600e-17</td>\n",
       "    </tr>\n",
       "    <tr>\n",
       "      <th>4</th>\n",
       "      <td>3870.8</td>\n",
       "      <td>1.581700e-16</td>\n",
       "    </tr>\n",
       "    <tr>\n",
       "      <th>...</th>\n",
       "      <td>...</td>\n",
       "      <td>...</td>\n",
       "    </tr>\n",
       "    <tr>\n",
       "      <th>207</th>\n",
       "      <td>9034.6</td>\n",
       "      <td>1.118400e-16</td>\n",
       "    </tr>\n",
       "    <tr>\n",
       "      <th>208</th>\n",
       "      <td>9072.4</td>\n",
       "      <td>1.216200e-16</td>\n",
       "    </tr>\n",
       "    <tr>\n",
       "      <th>209</th>\n",
       "      <td>9110.4</td>\n",
       "      <td>1.166500e-16</td>\n",
       "    </tr>\n",
       "    <tr>\n",
       "      <th>210</th>\n",
       "      <td>9148.5</td>\n",
       "      <td>1.249800e-16</td>\n",
       "    </tr>\n",
       "    <tr>\n",
       "      <th>211</th>\n",
       "      <td>9186.8</td>\n",
       "      <td>1.274400e-16</td>\n",
       "    </tr>\n",
       "  </tbody>\n",
       "</table>\n",
       "<p>212 rows × 2 columns</p>\n",
       "</div>"
      ],
      "text/plain": [
       "     TELESCOPE:           P60\n",
       "0        3806.7  4.013300e-16\n",
       "1        3822.6  5.601300e-16\n",
       "2        3838.6  3.514100e-16\n",
       "3        3854.7  4.781600e-17\n",
       "4        3870.8  1.581700e-16\n",
       "..          ...           ...\n",
       "207      9034.6  1.118400e-16\n",
       "208      9072.4  1.216200e-16\n",
       "209      9110.4  1.166500e-16\n",
       "210      9148.5  1.249800e-16\n",
       "211      9186.8  1.274400e-16\n",
       "\n",
       "[212 rows x 2 columns]"
      ]
     },
     "execution_count": 8,
     "metadata": {},
     "output_type": "execute_result"
    }
   ],
   "source": [
    "handcrafted_wl_min = 999 # angstrom\n",
    "handcrafted_wl_max = 15_000 # angstrom\n",
    "\n",
    "def check_wavelength_increasing(wavelengths):\n",
    "    # wavelenths is a 1d array\n",
    "    is_increasing = np.all(np.diff(wavelengths) > 0)\n",
    "    return is_increasing\n",
    "\n",
    "def check_flux_positive(flux):\n",
    "    # flux is a 1d array\n",
    "    is_positive = np.all(flux > 0)\n",
    "    return is_positive\n",
    "\n",
    "\n",
    "def check_df(df, wl_unit, spec_unit, lambda_min, lambda_max, del_lambda):\n",
    "    # Check no. of readings make sense\n",
    "    n_samples = int((lambda_max - lambda_min) // del_lambda)\n",
    "    assert n_samples == df.shape[0]\n",
    "\n",
    "    if df.shape[1] == 2:\n",
    "        check_df2cols(\n",
    "            df, wl_unit, spec_unit, lambda_min, lambda_max, del_lambda, n_samples\n",
    "        )\n",
    "    else:\n",
    "        pass\n",
    "        # Raise warning not supported yet\n",
    "\n",
    "\n",
    "def check_df2cols(df, wl_unit, spec_unit, lambda_min, lambda_max, del_lambda):\n",
    "    wavelength, flux = df.iloc[:, 0].to_numpy(), df.iloc[:, 1].to_numpy()\n",
    "\n",
    "    # Check wavelength range is correct\n",
    "    assert wavelength[0] == lambda_min\n",
    "    assert wavelength[-1] == lambda_max\n",
    "\n",
    "    # Check wavelength is monotonically increasing\n",
    "    assert check_wavelength_increasing(wavelength)\n",
    "\n",
    "    # Check wavelength units are in angstrom and if not, convert\n",
    "    if wl_unit!=\"Angstrom\":\n",
    "        if wl_unit==\"Micrometre\":\n",
    "            wavelength=wavelength*10_000 #convert to angstrom\n",
    "        if wl_unit==\"nm:\n",
    "            wavelength=wavelength*10 #convert to angstrom\n",
    "        else:\n",
    "            raise NotImplementedError # add message and mention wl_unit\n",
    "\n",
    "    # Check wavelength is in a range that make sense\n",
    "    assert wavelength[0] > handcrafted_wl_min\n",
    "    assert wavelength[-1] < handcrafted_wl_max\n",
    "\n",
    "    # Check flux units and convert \n",
    "    if spec_unit!=\"erg cm(-2) sec(-1) Ang(-1)\":\n",
    "        # if spec_unit==\"mJy\":\n",
    "        #     flux = ### \n",
    "        # else:\n",
    "            # raise NotImplementedError # add message and mention spec_unit\n",
    "        raise NotImplementedError # add message and mention spec_unit\n",
    "    \n",
    "    # Check if flux are all positive\n",
    "    assert check_flux_positive(flux)    "
   ]
  },
  {
   "cell_type": "code",
   "execution_count": 34,
   "id": "8a7ee0a9-295c-436d-afcb-b81e4921f47f",
   "metadata": {
    "execution": {
     "iopub.execute_input": "2025-03-14T17:47:52.458880Z",
     "iopub.status.busy": "2025-03-14T17:47:52.457681Z",
     "iopub.status.idle": "2025-03-14T17:47:52.484436Z",
     "shell.execute_reply": "2025-03-14T17:47:52.482955Z",
     "shell.execute_reply.started": "2025-03-14T17:47:52.458845Z"
    }
   },
   "outputs": [
    {
     "name": "stdout",
     "output_type": "stream",
     "text": [
      "Flux density at 5500.0 Angstrom:\n",
      "1.0 mJy = 9.910494479338844e-16 erg / (Angstrom s cm2)\n"
     ]
    }
   ],
   "source": [
    "import astropy.units as u\n",
    "import astropy.constants as const\n",
    "from astropy.units import equivalencies\n",
    "\n",
    "# Define the flux in mJy\n",
    "flux_mJy = 1.0 * u.mJy  # Example value of 1 mJy\n",
    "\n",
    "# To convert between frequency and wavelength units, we need to specify the wavelength\n",
    "wavelength = 5500 * u.AA  # Example: optical wavelength at 5500 Angstroms\n",
    "\n",
    "# Create the equivalency between frequency and wavelength flux densities\n",
    "# This accounts for the non-linear relationship between frequency and wavelength\n",
    "fnu_to_flambda = u.spectral_density(wavelength)\n",
    "\n",
    "# Do the conversion\n",
    "flux_flambda = flux_mJy.to(u.erg / u.s / u.cm**2 / u.AA, equivalencies=fnu_to_flambda)\n",
    "\n",
    "print(f\"Flux density at {wavelength}:\")\n",
    "print(f\"{flux_mJy} = {flux_flambda}\")"
   ]
  },
  {
   "cell_type": "code",
   "execution_count": null,
   "id": "45ad04ee-4ccb-413b-b98d-ae79101d844b",
   "metadata": {},
   "outputs": [],
   "source": []
  }
 ],
 "metadata": {
  "kernelspec": {
   "display_name": "Python 3 (ipykernel)",
   "language": "python",
   "name": "python3"
  },
  "language_info": {
   "codemirror_mode": {
    "name": "ipython",
    "version": 3
   },
   "file_extension": ".py",
   "mimetype": "text/x-python",
   "name": "python",
   "nbconvert_exporter": "python",
   "pygments_lexer": "ipython3",
   "version": "3.11.11"
  }
 },
 "nbformat": 4,
 "nbformat_minor": 5
}
