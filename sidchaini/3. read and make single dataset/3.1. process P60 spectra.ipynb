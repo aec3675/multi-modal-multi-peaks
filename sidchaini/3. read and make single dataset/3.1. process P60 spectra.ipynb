{
 "cells": [
  {
   "cell_type": "code",
   "execution_count": 17,
   "id": "d2c9b319-7b3c-45d6-b3b8-f7b2978ba55d",
   "metadata": {
    "execution": {
     "iopub.execute_input": "2025-04-17T16:58:44.187779Z",
     "iopub.status.busy": "2025-04-17T16:58:44.186006Z",
     "iopub.status.idle": "2025-04-17T16:58:44.372020Z",
     "shell.execute_reply": "2025-04-17T16:58:44.369752Z",
     "shell.execute_reply.started": "2025-04-17T16:58:44.187729Z"
    }
   },
   "outputs": [],
   "source": [
    "allcols = set()\n",
    "allcolsls = []"
   ]
  },
  {
   "cell_type": "code",
   "execution_count": 18,
   "id": "d1e3310c-1c71-490f-9de5-c3709bb48330",
   "metadata": {
    "execution": {
     "iopub.execute_input": "2025-04-17T16:58:44.379483Z",
     "iopub.status.busy": "2025-04-17T16:58:44.379114Z",
     "iopub.status.idle": "2025-04-17T16:58:44.395603Z",
     "shell.execute_reply": "2025-04-17T16:58:44.394994Z",
     "shell.execute_reply.started": "2025-04-17T16:58:44.379470Z"
    }
   },
   "outputs": [],
   "source": [
    "import numpy as np\n",
    "import pandas as pd\n",
    "import pylab as plt\n",
    "from tqdm.auto import tqdm\n",
    "from astropy.io import ascii"
   ]
  },
  {
   "cell_type": "code",
   "execution_count": 19,
   "id": "33eff351-301d-4856-8bb1-90529afe020c",
   "metadata": {
    "execution": {
     "iopub.execute_input": "2025-04-17T16:58:44.478160Z",
     "iopub.status.busy": "2025-04-17T16:58:44.476760Z",
     "iopub.status.idle": "2025-04-17T16:58:44.488862Z",
     "shell.execute_reply": "2025-04-17T16:58:44.488317Z",
     "shell.execute_reply.started": "2025-04-17T16:58:44.478141Z"
    }
   },
   "outputs": [],
   "source": [
    "import sys\n",
    "\n",
    "sys.path.append(\"../\")\n",
    "import sidhelpers"
   ]
  },
  {
   "cell_type": "markdown",
   "id": "09742d0d-6b88-4e9d-851c-48791d8b2a90",
   "metadata": {},
   "source": [
    "## 1. See how many spectra (%) can be opened by Astropy"
   ]
  },
  {
   "cell_type": "code",
   "execution_count": 20,
   "id": "e94c1ca4-2d75-46a6-8242-b0edb1bb55f8",
   "metadata": {
    "execution": {
     "iopub.execute_input": "2025-04-17T16:58:46.275003Z",
     "iopub.status.busy": "2025-04-17T16:58:46.274097Z",
     "iopub.status.idle": "2025-04-17T16:58:47.021987Z",
     "shell.execute_reply": "2025-04-17T16:58:47.021644Z",
     "shell.execute_reply.started": "2025-04-17T16:58:46.274972Z"
    }
   },
   "outputs": [],
   "source": [
    "# Read spectra metadata\n",
    "spectra_info = pd.read_csv(\"../1. download ALL wise data/wiserep_spectra_combined.csv\")\n",
    "\n",
    "# keep p60 only\n",
    "spectra_info = spectra_info[spectra_info[\"Telescope\"] == \"P60\"]"
   ]
  },
  {
   "cell_type": "code",
   "execution_count": 21,
   "id": "09a6eb40-de9c-43e5-bad4-33a9041b1f96",
   "metadata": {
    "execution": {
     "iopub.execute_input": "2025-04-17T16:58:48.631866Z",
     "iopub.status.busy": "2025-04-17T16:58:48.631520Z",
     "iopub.status.idle": "2025-04-17T16:58:48.684187Z",
     "shell.execute_reply": "2025-04-17T16:58:48.682285Z",
     "shell.execute_reply.started": "2025-04-17T16:58:48.631844Z"
    }
   },
   "outputs": [
    {
     "data": {
      "text/plain": [
       "Obj. Type\n",
       "SN Ia                4769\n",
       "SN II                 782\n",
       "SN Ic                  92\n",
       "SN Ia-91T-like         90\n",
       "SN IIn                 62\n",
       "SN IIb                 54\n",
       "SN Ib                  53\n",
       "SN Ic-BL               52\n",
       "SN IIP                 51\n",
       "SN Ia-91bg-like        31\n",
       "TDE                    30\n",
       "SN Ia-pec              27\n",
       "SN                     22\n",
       "CV                     20\n",
       "Nova                   18\n",
       "SLSN-II                15\n",
       "SN Ib/c                15\n",
       "SN Ibn                 14\n",
       "SN I                   14\n",
       "SLSN-I                 13\n",
       "AGN                    12\n",
       "SN Icn                 10\n",
       "SN Iax[02cx-like]       9\n",
       "SN Ia-CSM               9\n",
       "Galaxy                  3\n",
       "SN II-pec               3\n",
       "QSO                     3\n",
       "SN Ib-Ca-rich           2\n",
       "ILRT                    1\n",
       "SN IIL                  1\n",
       "LBV                     1\n",
       "SN Ic-Ca-rich           1\n",
       "SN Ic-pec               1\n",
       "Computed-Ia             1\n",
       "FBOT                    1\n",
       "SN Ia-SC                1\n",
       "Name: count, dtype: int64"
      ]
     },
     "execution_count": 21,
     "metadata": {},
     "output_type": "execute_result"
    }
   ],
   "source": [
    "spectra_info[\"Obj. Type\"].value_counts()"
   ]
  },
  {
   "cell_type": "code",
   "execution_count": 6,
   "id": "2ed26946-0b4c-4855-9b58-848f5d799816",
   "metadata": {
    "execution": {
     "iopub.execute_input": "2025-04-16T21:41:51.118819Z",
     "iopub.status.busy": "2025-04-16T21:41:51.118594Z",
     "iopub.status.idle": "2025-04-16T21:41:51.122823Z",
     "shell.execute_reply": "2025-04-16T21:41:51.121490Z",
     "shell.execute_reply.started": "2025-04-16T21:41:51.118807Z"
    }
   },
   "outputs": [],
   "source": [
    "filenames = spectra_info[\"Ascii file\"].values"
   ]
  },
  {
   "cell_type": "code",
   "execution_count": 7,
   "id": "5819ea7b-3e80-45b1-a445-43104165a071",
   "metadata": {
    "execution": {
     "iopub.execute_input": "2025-04-16T21:41:51.123489Z",
     "iopub.status.busy": "2025-04-16T21:41:51.123322Z",
     "iopub.status.idle": "2025-04-16T21:41:51.129747Z",
     "shell.execute_reply": "2025-04-16T21:41:51.127289Z",
     "shell.execute_reply.started": "2025-04-16T21:41:51.123408Z"
    }
   },
   "outputs": [],
   "source": [
    "# df = ascii.read(f\"../1. download ALL wise data/wiserep_data/spectra/{fn}\").to_pandas()"
   ]
  },
  {
   "cell_type": "code",
   "execution_count": 8,
   "id": "54efcb5d-3b28-437c-b1d9-565ce4704f2f",
   "metadata": {
    "execution": {
     "iopub.execute_input": "2025-04-16T21:41:51.131378Z",
     "iopub.status.busy": "2025-04-16T21:41:51.131154Z",
     "iopub.status.idle": "2025-04-16T21:41:51.137136Z",
     "shell.execute_reply": "2025-04-16T21:41:51.135476Z",
     "shell.execute_reply.started": "2025-04-16T21:41:51.131366Z"
    }
   },
   "outputs": [],
   "source": [
    "# spectra_info[\"Spec. units\"].value_counts().index[0]"
   ]
  },
  {
   "cell_type": "code",
   "execution_count": 9,
   "id": "0130c9db-f1a7-47aa-9555-f3588d705de7",
   "metadata": {
    "execution": {
     "iopub.execute_input": "2025-04-16T21:42:05.865170Z",
     "iopub.status.busy": "2025-04-16T21:42:05.864372Z",
     "iopub.status.idle": "2025-04-16T22:28:19.062280Z",
     "shell.execute_reply": "2025-04-16T22:28:19.061759Z",
     "shell.execute_reply.started": "2025-04-16T21:42:05.865123Z"
    }
   },
   "outputs": [
    {
     "data": {
      "application/vnd.jupyter.widget-view+json": {
       "model_id": "0470739a42314b83b42b0d6fb34ddc06",
       "version_major": 2,
       "version_minor": 0
      },
      "text/plain": [
       "  0%|          | 0/54005 [00:00<?, ?it/s]"
      ]
     },
     "metadata": {},
     "output_type": "display_data"
    },
    {
     "name": "stderr",
     "output_type": "stream",
     "text": [
      "WARNING: OverflowError converting to FloatType in column col2, possibly resulting in degraded precision. [astropy.io.ascii.fastbasic]\n",
      "WARNING: UnitsWarning: 'mW/m2/0.1nm' did not parse as cds unit: Syntax error If this is meant to be a custom unit, define it with 'u.def_unit'. To have it recognized inside a file reader or other code, enable it with 'u.add_enabled_units'. For details, see https://docs.astropy.org/en/latest/units/combining_and_defining.html [astropy.units.core]\n"
     ]
    }
   ],
   "source": [
    "# most efficient way to iterate\n",
    "# https://stackoverflow.com/questions/7837722/what-is-the-most-efficient-way-to-loop-through-dataframes-with-pandas\n",
    "\n",
    "flux_counter = 0\n",
    "readerror_counter = 0\n",
    "errs = []\n",
    "\n",
    "for fn, wl_unit, spec_unit, flux_ucoeff, lambda_min, lambda_max, del_lambda in tqdm(\n",
    "    zip(\n",
    "        spectra_info[\"Ascii file\"],\n",
    "        spectra_info[\"WL Units\"],\n",
    "        spectra_info[\"Spec. units\"],\n",
    "        spectra_info[\"Flux Unit Coefficient\"],\n",
    "        spectra_info[\"Lambda-min\"],\n",
    "        spectra_info[\"Lambda-max\"],\n",
    "        spectra_info[\"Del-Lambda\"],\n",
    "    ),\n",
    "    total=len(spectra_info),\n",
    "):\n",
    "    try:\n",
    "        df = sidhelpers.read_spectra(\n",
    "            f\"../1. download ALL wise data/wiserep_data/spectra/{fn}\"\n",
    "        )\n",
    "        allcols.update(df.columns)\n",
    "        allcolsls = allcolsls + list(df.columns)\n",
    "    except Exception as ee:\n",
    "        readerror_counter = readerror_counter + 1\n",
    "        errs.append([fn, ee])\n",
    "        continue\n",
    "    try:\n",
    "        sidhelpers.check_spectrafile(df, wl_unit, spec_unit, lambda_min, lambda_max, del_lambda)\n",
    "    except Exception as e:\n",
    "        errs.append([fn, e])\n",
    "\n",
    "        if e == \"Flux is not positive!\":\n",
    "            flux_counter = flux_counter + 1\n",
    "        continue"
   ]
  },
  {
   "cell_type": "code",
   "execution_count": 10,
   "id": "3114393f-48b7-4f62-9d6e-a599eee60c35",
   "metadata": {
    "execution": {
     "iopub.execute_input": "2025-04-16T22:28:19.064053Z",
     "iopub.status.busy": "2025-04-16T22:28:19.063682Z",
     "iopub.status.idle": "2025-04-16T22:28:19.069871Z",
     "shell.execute_reply": "2025-04-16T22:28:19.069401Z",
     "shell.execute_reply.started": "2025-04-16T22:28:19.064035Z"
    }
   },
   "outputs": [
    {
     "data": {
      "text/plain": [
       "0"
      ]
     },
     "execution_count": 10,
     "metadata": {},
     "output_type": "execute_result"
    }
   ],
   "source": [
    "flux_counter"
   ]
  },
  {
   "cell_type": "code",
   "execution_count": 11,
   "id": "b90f5841-445b-40e9-aa54-d55dc9e0d95c",
   "metadata": {
    "execution": {
     "iopub.execute_input": "2025-04-16T22:28:19.070460Z",
     "iopub.status.busy": "2025-04-16T22:28:19.070371Z",
     "iopub.status.idle": "2025-04-16T22:28:19.093597Z",
     "shell.execute_reply": "2025-04-16T22:28:19.093229Z",
     "shell.execute_reply.started": "2025-04-16T22:28:19.070453Z"
    }
   },
   "outputs": [
    {
     "data": {
      "text/html": [
       "<div>\n",
       "<style scoped>\n",
       "    .dataframe tbody tr th:only-of-type {\n",
       "        vertical-align: middle;\n",
       "    }\n",
       "\n",
       "    .dataframe tbody tr th {\n",
       "        vertical-align: top;\n",
       "    }\n",
       "\n",
       "    .dataframe thead th {\n",
       "        text-align: right;\n",
       "    }\n",
       "</style>\n",
       "<table border=\"1\" class=\"dataframe\">\n",
       "  <thead>\n",
       "    <tr style=\"text-align: right;\">\n",
       "      <th></th>\n",
       "      <th>columns</th>\n",
       "    </tr>\n",
       "  </thead>\n",
       "  <tbody>\n",
       "    <tr>\n",
       "      <th>0</th>\n",
       "      <td>flux_density</td>\n",
       "    </tr>\n",
       "    <tr>\n",
       "      <th>1</th>\n",
       "      <td>True</td>\n",
       "    </tr>\n",
       "    <tr>\n",
       "      <th>2</th>\n",
       "      <td>OBJECT</td>\n",
       "    </tr>\n",
       "    <tr>\n",
       "      <th>3</th>\n",
       "      <td>ATLASgqg</td>\n",
       "    </tr>\n",
       "    <tr>\n",
       "      <th>4</th>\n",
       "      <td>tpk</td>\n",
       "    </tr>\n",
       "    <tr>\n",
       "      <th>...</th>\n",
       "      <td>...</td>\n",
       "    </tr>\n",
       "    <tr>\n",
       "      <th>500</th>\n",
       "      <td>vacuum_wave</td>\n",
       "    </tr>\n",
       "    <tr>\n",
       "      <th>501</th>\n",
       "      <td>AT2020zlp</td>\n",
       "    </tr>\n",
       "    <tr>\n",
       "      <th>502</th>\n",
       "      <td>AT2020tul</td>\n",
       "    </tr>\n",
       "    <tr>\n",
       "      <th>503</th>\n",
       "      <td>Wavelength_Angstrom</td>\n",
       "    </tr>\n",
       "    <tr>\n",
       "      <th>504</th>\n",
       "      <td>ATLAS20idt</td>\n",
       "    </tr>\n",
       "  </tbody>\n",
       "</table>\n",
       "<p>505 rows × 1 columns</p>\n",
       "</div>"
      ],
      "text/plain": [
       "                 columns\n",
       "0           flux_density\n",
       "1                   True\n",
       "2                 OBJECT\n",
       "3               ATLASgqg\n",
       "4                    tpk\n",
       "..                   ...\n",
       "500          vacuum_wave\n",
       "501            AT2020zlp\n",
       "502            AT2020tul\n",
       "503  Wavelength_Angstrom\n",
       "504           ATLAS20idt\n",
       "\n",
       "[505 rows x 1 columns]"
      ]
     },
     "execution_count": 11,
     "metadata": {},
     "output_type": "execute_result"
    }
   ],
   "source": [
    "df_unique = pd.DataFrame({\"columns\": list(allcols)})\n",
    "df_unique.to_csv(\"unique_columns_ALL_16april.csv\", index=False)\n",
    "df_unique"
   ]
  },
  {
   "cell_type": "code",
   "execution_count": 12,
   "id": "4aab5cbe-787b-4b39-ba13-501fa40f6bf7",
   "metadata": {
    "execution": {
     "iopub.execute_input": "2025-04-16T22:28:19.099876Z",
     "iopub.status.busy": "2025-04-16T22:28:19.099361Z",
     "iopub.status.idle": "2025-04-16T22:28:19.116001Z",
     "shell.execute_reply": "2025-04-16T22:28:19.114801Z",
     "shell.execute_reply.started": "2025-04-16T22:28:19.099864Z"
    }
   },
   "outputs": [],
   "source": [
    "errdf = pd.DataFrame(errs, columns=[\"Ascii file\", \"error\"]).set_index(\"Ascii file\")"
   ]
  },
  {
   "cell_type": "code",
   "execution_count": 13,
   "id": "d3b90cf4-2593-4bff-b6b0-61700d71e986",
   "metadata": {
    "execution": {
     "iopub.execute_input": "2025-04-16T22:28:19.116541Z",
     "iopub.status.busy": "2025-04-16T22:28:19.116433Z",
     "iopub.status.idle": "2025-04-16T22:28:19.561764Z",
     "shell.execute_reply": "2025-04-16T22:28:19.561412Z",
     "shell.execute_reply.started": "2025-04-16T22:28:19.116532Z"
    }
   },
   "outputs": [],
   "source": [
    "errdf.to_csv(\"errdf_16april.csv\")"
   ]
  },
  {
   "cell_type": "code",
   "execution_count": 14,
   "id": "f5165cb2-f0ec-4d4b-9967-192f9b180c82",
   "metadata": {
    "execution": {
     "iopub.execute_input": "2025-04-16T22:28:19.562555Z",
     "iopub.status.busy": "2025-04-16T22:28:19.562342Z",
     "iopub.status.idle": "2025-04-16T22:28:19.569530Z",
     "shell.execute_reply": "2025-04-16T22:28:19.568776Z",
     "shell.execute_reply.started": "2025-04-16T22:28:19.562544Z"
    }
   },
   "outputs": [
    {
     "data": {
      "text/html": [
       "<div>\n",
       "<style scoped>\n",
       "    .dataframe tbody tr th:only-of-type {\n",
       "        vertical-align: middle;\n",
       "    }\n",
       "\n",
       "    .dataframe tbody tr th {\n",
       "        vertical-align: top;\n",
       "    }\n",
       "\n",
       "    .dataframe thead th {\n",
       "        text-align: right;\n",
       "    }\n",
       "</style>\n",
       "<table border=\"1\" class=\"dataframe\">\n",
       "  <thead>\n",
       "    <tr style=\"text-align: right;\">\n",
       "      <th></th>\n",
       "      <th>error</th>\n",
       "    </tr>\n",
       "    <tr>\n",
       "      <th>Ascii file</th>\n",
       "      <th></th>\n",
       "    </tr>\n",
       "  </thead>\n",
       "  <tbody>\n",
       "    <tr>\n",
       "      <th>2006kv_2006-10-18_05-27-54_ESO-NTT_EMMI_NTT-NOT.ascii</th>\n",
       "      <td>Flux units are Other and don't follow an expec...</td>\n",
       "    </tr>\n",
       "    <tr>\n",
       "      <th>NN3518_2015-10-21_07-32-31_VLT-UT2_X-Shooter_None.txt</th>\n",
       "      <td>Last wavelength 24789.6 exceeds maximum allowe...</td>\n",
       "    </tr>\n",
       "    <tr>\n",
       "      <th>PTF10qyr_2010-08-17_00-00-00_Lick-3m_KAST_PTF.ascii</th>\n",
       "      <td>Flux units are Other and don't follow an expec...</td>\n",
       "    </tr>\n",
       "    <tr>\n",
       "      <th>SN2005ad_2005-03-11_00-00-00_Keck1_LRIS_LOSS.flm</th>\n",
       "      <td>Flux units are Other and don't follow an expec...</td>\n",
       "    </tr>\n",
       "    <tr>\n",
       "      <th>1998en_1998-11-25_08-11-02_Lick-3m_KAST_BSNIP.flm</th>\n",
       "      <td>Flux units are Other and don't follow an expec...</td>\n",
       "    </tr>\n",
       "    <tr>\n",
       "      <th>...</th>\n",
       "      <td>...</td>\n",
       "    </tr>\n",
       "    <tr>\n",
       "      <th>SN2022kae_2022-12-04_00-00-00_MMT_BINOSPEC_TNS.dat</th>\n",
       "      <td>All spectrum readers failed:\\nread: \\nERROR: U...</td>\n",
       "    </tr>\n",
       "    <tr>\n",
       "      <th>SN2024aewt_2024-12-27_13-01-14_UH88_SNIFS_TNS.dat</th>\n",
       "      <td>Flux is not positive!</td>\n",
       "    </tr>\n",
       "    <tr>\n",
       "      <th>SN2025zi_2025-01-23_01-02-59_Magellan-Baade_IMACS_TNS.dat</th>\n",
       "      <td>All spectrum readers failed:\\nread: \\nERROR: U...</td>\n",
       "    </tr>\n",
       "    <tr>\n",
       "      <th>SN2025ann_2025-02-02_13-13-12_P200_NGPS_TNS.ascii</th>\n",
       "      <td>Wavelengths are not monotonically increasing</td>\n",
       "    </tr>\n",
       "    <tr>\n",
       "      <th>SN2025bvm_2025-02-28_03-35-00_TNG_DOLORES_TNS.txt</th>\n",
       "      <td>Expected 2033 rows based on wavelength range, ...</td>\n",
       "    </tr>\n",
       "  </tbody>\n",
       "</table>\n",
       "<p>9078 rows × 1 columns</p>\n",
       "</div>"
      ],
      "text/plain": [
       "                                                                                                error\n",
       "Ascii file                                                                                           \n",
       "2006kv_2006-10-18_05-27-54_ESO-NTT_EMMI_NTT-NOT...  Flux units are Other and don't follow an expec...\n",
       "NN3518_2015-10-21_07-32-31_VLT-UT2_X-Shooter_No...  Last wavelength 24789.6 exceeds maximum allowe...\n",
       "PTF10qyr_2010-08-17_00-00-00_Lick-3m_KAST_PTF.a...  Flux units are Other and don't follow an expec...\n",
       "SN2005ad_2005-03-11_00-00-00_Keck1_LRIS_LOSS.flm    Flux units are Other and don't follow an expec...\n",
       "1998en_1998-11-25_08-11-02_Lick-3m_KAST_BSNIP.flm   Flux units are Other and don't follow an expec...\n",
       "...                                                                                               ...\n",
       "SN2022kae_2022-12-04_00-00-00_MMT_BINOSPEC_TNS.dat  All spectrum readers failed:\\nread: \\nERROR: U...\n",
       "SN2024aewt_2024-12-27_13-01-14_UH88_SNIFS_TNS.dat                               Flux is not positive!\n",
       "SN2025zi_2025-01-23_01-02-59_Magellan-Baade_IMA...  All spectrum readers failed:\\nread: \\nERROR: U...\n",
       "SN2025ann_2025-02-02_13-13-12_P200_NGPS_TNS.ascii        Wavelengths are not monotonically increasing\n",
       "SN2025bvm_2025-02-28_03-35-00_TNG_DOLORES_TNS.txt   Expected 2033 rows based on wavelength range, ...\n",
       "\n",
       "[9078 rows x 1 columns]"
      ]
     },
     "execution_count": 14,
     "metadata": {},
     "output_type": "execute_result"
    }
   ],
   "source": [
    "errdf"
   ]
  },
  {
   "cell_type": "code",
   "execution_count": 15,
   "id": "8a7ee0a9-295c-436d-afcb-b81e4921f47f",
   "metadata": {
    "execution": {
     "iopub.execute_input": "2025-04-16T22:28:19.570824Z",
     "iopub.status.busy": "2025-04-16T22:28:19.570716Z",
     "iopub.status.idle": "2025-04-16T22:28:19.574754Z",
     "shell.execute_reply": "2025-04-16T22:28:19.573970Z",
     "shell.execute_reply.started": "2025-04-16T22:28:19.570815Z"
    }
   },
   "outputs": [],
   "source": [
    "# import astropy.units as u\n",
    "# import astropy.constants as const\n",
    "# from astropy.units import equivalencies\n",
    "\n",
    "# # Define the flux in mJy\n",
    "# flux_mJy = 1.0 * u.mJy  # Example value of 1 mJy\n",
    "\n",
    "# # To convert between frequency and wavelength units, we need to specify the wavelength\n",
    "# wavelength = 5500 * u.AA  # Example: optical wavelength at 5500 Angstroms\n",
    "\n",
    "# # Create the equivalency between frequency and wavelength flux densities\n",
    "# # This accounts for the non-linear relationship between frequency and wavelength\n",
    "# fnu_to_flambda = u.spectral_density(wavelength)\n",
    "\n",
    "# # Do the conversion\n",
    "# flux_flambda = flux_mJy.to(u.erg / u.s / u.cm**2 / u.AA, equivalencies=fnu_to_flambda)\n",
    "\n",
    "# print(f\"Flux density at {wavelength}:\")\n",
    "# print(f\"{flux_mJy} = {flux_flambda}\")"
   ]
  }
 ],
 "metadata": {
  "kernelspec": {
   "display_name": "Python 3 (ipykernel)",
   "language": "python",
   "name": "python3"
  },
  "language_info": {
   "codemirror_mode": {
    "name": "ipython",
    "version": 3
   },
   "file_extension": ".py",
   "mimetype": "text/x-python",
   "name": "python",
   "nbconvert_exporter": "python",
   "pygments_lexer": "ipython3",
   "version": "3.11.11"
  }
 },
 "nbformat": 4,
 "nbformat_minor": 5
}
