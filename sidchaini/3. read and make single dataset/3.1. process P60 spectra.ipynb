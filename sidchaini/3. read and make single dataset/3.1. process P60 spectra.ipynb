{
 "cells": [
  {
   "cell_type": "code",
   "execution_count": 1,
   "id": "d2c9b319-7b3c-45d6-b3b8-f7b2978ba55d",
   "metadata": {
    "execution": {
     "iopub.execute_input": "2025-04-18T23:11:24.840157Z",
     "iopub.status.busy": "2025-04-18T23:11:24.839440Z",
     "iopub.status.idle": "2025-04-18T23:11:24.854640Z",
     "shell.execute_reply": "2025-04-18T23:11:24.853484Z",
     "shell.execute_reply.started": "2025-04-18T23:11:24.840107Z"
    }
   },
   "outputs": [],
   "source": [
    "allcols = set()\n",
    "allcolsls = []"
   ]
  },
  {
   "cell_type": "code",
   "execution_count": 2,
   "id": "d1e3310c-1c71-490f-9de5-c3709bb48330",
   "metadata": {
    "execution": {
     "iopub.execute_input": "2025-04-18T23:11:24.857209Z",
     "iopub.status.busy": "2025-04-18T23:11:24.857090Z",
     "iopub.status.idle": "2025-04-18T23:11:25.737335Z",
     "shell.execute_reply": "2025-04-18T23:11:25.737003Z",
     "shell.execute_reply.started": "2025-04-18T23:11:24.857200Z"
    }
   },
   "outputs": [],
   "source": [
    "import numpy as np\n",
    "import pandas as pd\n",
    "import pylab as plt\n",
    "from tqdm.auto import tqdm\n",
    "from astropy.io import ascii\n",
    "import warnings\n",
    "import os"
   ]
  },
  {
   "cell_type": "code",
   "execution_count": 3,
   "id": "33eff351-301d-4856-8bb1-90529afe020c",
   "metadata": {
    "execution": {
     "iopub.execute_input": "2025-04-18T23:11:25.737770Z",
     "iopub.status.busy": "2025-04-18T23:11:25.737682Z",
     "iopub.status.idle": "2025-04-18T23:11:26.249720Z",
     "shell.execute_reply": "2025-04-18T23:11:26.249433Z",
     "shell.execute_reply.started": "2025-04-18T23:11:25.737759Z"
    }
   },
   "outputs": [],
   "source": [
    "import sys\n",
    "\n",
    "sys.path.append(\"../\")\n",
    "import sidhelpers"
   ]
  },
  {
   "cell_type": "markdown",
   "id": "09742d0d-6b88-4e9d-851c-48791d8b2a90",
   "metadata": {},
   "source": [
    "## 1. See how many spectra (%) can be opened by Astropy"
   ]
  },
  {
   "cell_type": "code",
   "execution_count": 4,
   "id": "e94c1ca4-2d75-46a6-8242-b0edb1bb55f8",
   "metadata": {
    "execution": {
     "iopub.execute_input": "2025-04-18T23:11:26.260245Z",
     "iopub.status.busy": "2025-04-18T23:11:26.259650Z",
     "iopub.status.idle": "2025-04-18T23:11:26.533728Z",
     "shell.execute_reply": "2025-04-18T23:11:26.533462Z",
     "shell.execute_reply.started": "2025-04-18T23:11:26.260129Z"
    }
   },
   "outputs": [],
   "source": [
    "# Read spectra metadata\n",
    "spectra_info = pd.read_csv(\"../1. download ALL wise data/wiserep_spectra_combined.csv\")\n",
    "\n",
    "# keep p60 only\n",
    "# spectra_info = spectra_info[spectra_info[\"Telescope\"] == \"P60\"]\n",
    "\n",
    "# spectra_info = pd.read_csv(\"../1. download ALL wise data/wiserep_spectra_combined.csv\")\n",
    "# spectra_info = spectra_info.iloc[:500]"
   ]
  },
  {
   "cell_type": "code",
   "execution_count": 5,
   "id": "09a6eb40-de9c-43e5-bad4-33a9041b1f96",
   "metadata": {
    "execution": {
     "iopub.execute_input": "2025-04-18T23:11:26.534175Z",
     "iopub.status.busy": "2025-04-18T23:11:26.534090Z",
     "iopub.status.idle": "2025-04-18T23:11:26.541721Z",
     "shell.execute_reply": "2025-04-18T23:11:26.540636Z",
     "shell.execute_reply.started": "2025-04-18T23:11:26.534166Z"
    }
   },
   "outputs": [
    {
     "data": {
      "text/plain": [
       "Obj. Type\n",
       "SN Ia         26168\n",
       "SN II          6925\n",
       "SN IIn         2328\n",
       "SN Ic          1854\n",
       "SN IIP         1835\n",
       "              ...  \n",
       "TDE-H-He          2\n",
       "NA/Unknown        2\n",
       "Light-Echo        1\n",
       "SN Ien            1\n",
       "Blazar            1\n",
       "Name: count, Length: 65, dtype: int64"
      ]
     },
     "execution_count": 5,
     "metadata": {},
     "output_type": "execute_result"
    }
   ],
   "source": [
    "spectra_info[\"Obj. Type\"].value_counts()"
   ]
  },
  {
   "cell_type": "code",
   "execution_count": 6,
   "id": "2ed26946-0b4c-4855-9b58-848f5d799816",
   "metadata": {
    "execution": {
     "iopub.execute_input": "2025-04-18T23:11:26.543065Z",
     "iopub.status.busy": "2025-04-18T23:11:26.542895Z",
     "iopub.status.idle": "2025-04-18T23:11:26.546957Z",
     "shell.execute_reply": "2025-04-18T23:11:26.546568Z",
     "shell.execute_reply.started": "2025-04-18T23:11:26.543055Z"
    }
   },
   "outputs": [],
   "source": [
    "filenames = spectra_info[\"Ascii file\"].values"
   ]
  },
  {
   "cell_type": "code",
   "execution_count": 7,
   "id": "5819ea7b-3e80-45b1-a445-43104165a071",
   "metadata": {
    "execution": {
     "iopub.execute_input": "2025-04-18T23:11:26.547367Z",
     "iopub.status.busy": "2025-04-18T23:11:26.547282Z",
     "iopub.status.idle": "2025-04-18T23:11:26.550275Z",
     "shell.execute_reply": "2025-04-18T23:11:26.549848Z",
     "shell.execute_reply.started": "2025-04-18T23:11:26.547359Z"
    }
   },
   "outputs": [],
   "source": [
    "# df = ascii.read(f\"../1. download ALL wise data/wiserep_data/spectra/{fn}\").to_pandas()"
   ]
  },
  {
   "cell_type": "code",
   "execution_count": 8,
   "id": "54efcb5d-3b28-437c-b1d9-565ce4704f2f",
   "metadata": {
    "execution": {
     "iopub.execute_input": "2025-04-18T23:11:26.550876Z",
     "iopub.status.busy": "2025-04-18T23:11:26.550788Z",
     "iopub.status.idle": "2025-04-18T23:11:26.556563Z",
     "shell.execute_reply": "2025-04-18T23:11:26.555553Z",
     "shell.execute_reply.started": "2025-04-18T23:11:26.550866Z"
    }
   },
   "outputs": [],
   "source": [
    "# spectra_info[\"Spec. units\"].value_counts().index[0]"
   ]
  },
  {
   "cell_type": "code",
   "execution_count": 9,
   "id": "0130c9db-f1a7-47aa-9555-f3588d705de7",
   "metadata": {
    "execution": {
     "iopub.execute_input": "2025-04-18T23:11:26.558571Z",
     "iopub.status.busy": "2025-04-18T23:11:26.557991Z",
     "iopub.status.idle": "2025-04-18T23:54:03.804827Z",
     "shell.execute_reply": "2025-04-18T23:54:03.804538Z",
     "shell.execute_reply.started": "2025-04-18T23:11:26.558549Z"
    }
   },
   "outputs": [
    {
     "data": {
      "application/vnd.jupyter.widget-view+json": {
       "model_id": "3e4d13c843bd4fe689a112e09f94846f",
       "version_major": 2,
       "version_minor": 0
      },
      "text/plain": [
       "  0%|          | 0/54005 [00:00<?, ?it/s]"
      ]
     },
     "metadata": {},
     "output_type": "display_data"
    }
   ],
   "source": [
    "# most efficient way to iterate\n",
    "# https://stackoverflow.com/questions/7837722/what-is-the-most-efficient-way-to-loop-through-dataframes-with-pandas\n",
    "\n",
    "flux_counter = 0\n",
    "readerror_counter = 0\n",
    "errs = []\n",
    "captured_warnings = []\n",
    "\n",
    "for fn, wl_unit, spec_unit, flux_ucoeff, lambda_min, lambda_max, del_lambda in tqdm(\n",
    "    zip(\n",
    "        spectra_info[\"Ascii file\"],\n",
    "        spectra_info[\"WL Units\"],\n",
    "        spectra_info[\"Spec. units\"],\n",
    "        spectra_info[\"Flux Unit Coefficient\"],\n",
    "        spectra_info[\"Lambda-min\"],\n",
    "        spectra_info[\"Lambda-max\"],\n",
    "        spectra_info[\"Del-Lambda\"],\n",
    "    ),\n",
    "    total=len(spectra_info),\n",
    "):\n",
    "    with warnings.catch_warnings(record=True) as warning_list:\n",
    "        warnings.simplefilter(\"always\")\n",
    "\n",
    "        try:\n",
    "            # --- File Reading ---\n",
    "            df = sidhelpers.read_spectra(\n",
    "                f\"../1. download ALL wise data/wiserep_data/spectra/{fn}\"\n",
    "            )\n",
    "            allcols.update(df.columns)\n",
    "            allcolsls = allcolsls + list(df.columns)\n",
    "\n",
    "            # --- Validation ---\n",
    "            # Put check_spectrafile inside the 'with' block as well,\n",
    "            # as it can also generate warnings (e.g., unit conversion).\n",
    "            sidhelpers.check_spectrafile(df, wl_unit, spec_unit, lambda_min, lambda_max, del_lambda)\n",
    "\n",
    "        except Exception as e:\n",
    "            # Handle errors as before (capture or count based on type)\n",
    "            # Apply the fix for error message checking we discussed previously:\n",
    "            if \"Error 11.\" in str(e): # Check for flux unit errors (11.1 or 11.2)\n",
    "                flux_counter += 1\n",
    "            elif isinstance(e, ValueError) and \"Error 2.\" in str(e): # Check for read errors (2.1 or 2.2)\n",
    "                 readerror_counter += 1\n",
    "            # Catch all other validation errors\n",
    "            errs.append([fn, e])\n",
    "            # Continue to the next file even if an error occurs\n",
    "            continue\n",
    "\n",
    "    for w in warning_list:\n",
    "        captured_warnings.append({\n",
    "            'spectra_fn': fn,\n",
    "            'warning_category': w.category.__name__,\n",
    "            'warning_message': str(w.message),\n",
    "            'source_file': os.path.basename(w.filename), # Get just the filename part\n",
    "            'source_lineno': w.lineno\n",
    "        })\n"
   ]
  },
  {
   "cell_type": "code",
   "execution_count": 10,
   "id": "3114393f-48b7-4f62-9d6e-a599eee60c35",
   "metadata": {
    "execution": {
     "iopub.execute_input": "2025-04-18T23:54:03.807941Z",
     "iopub.status.busy": "2025-04-18T23:54:03.807794Z",
     "iopub.status.idle": "2025-04-18T23:54:04.245695Z",
     "shell.execute_reply": "2025-04-18T23:54:04.245425Z",
     "shell.execute_reply.started": "2025-04-18T23:54:03.807916Z"
    }
   },
   "outputs": [
    {
     "name": "stdout",
     "output_type": "stream",
     "text": [
      "Saved 8943 errors to errdf_18april.csv\n"
     ]
    }
   ],
   "source": [
    "# Convert errors to DataFrame (as before)\n",
    "errdf = pd.DataFrame(errs, columns=[\"Ascii file\", \"error\"])\n",
    "if not errdf.empty:\n",
    "    errdf = errdf.set_index(\"Ascii file\")\n",
    "    errdf.to_csv(\"errdf_19april.csv\")\n",
    "    print(f\"Saved {len(errdf)} errors to errdf_18april.csv\")\n",
    "else:\n",
    "    print(\"No errors encountered.\")"
   ]
  },
  {
   "cell_type": "code",
   "execution_count": 11,
   "id": "e761228e-b505-4333-a165-79fdc5e0a516",
   "metadata": {
    "execution": {
     "iopub.execute_input": "2025-04-18T23:54:04.246294Z",
     "iopub.status.busy": "2025-04-18T23:54:04.246210Z",
     "iopub.status.idle": "2025-04-18T23:54:04.846698Z",
     "shell.execute_reply": "2025-04-18T23:54:04.845580Z",
     "shell.execute_reply.started": "2025-04-18T23:54:04.246286Z"
    }
   },
   "outputs": [
    {
     "name": "stdout",
     "output_type": "stream",
     "text": [
      "Saved 38886 warnings to warnings_log_18april.csv\n"
     ]
    }
   ],
   "source": [
    "# Convert captured warnings to DataFrame\n",
    "warnings_df = pd.DataFrame(captured_warnings)\n",
    "if not warnings_df.empty:\n",
    "    warnings_df.to_csv(\"warnings_log_19april.csv\", index=False)\n",
    "    print(f\"Saved {len(warnings_df)} warnings to warnings_log_18april.csv\")\n",
    "else:\n",
    "    print(\"No warnings captured.\")"
   ]
  },
  {
   "cell_type": "code",
   "execution_count": 12,
   "id": "48367518-f9c7-4eb3-9948-4cf5e0bc3be9",
   "metadata": {
    "execution": {
     "iopub.execute_input": "2025-04-18T23:54:04.847931Z",
     "iopub.status.busy": "2025-04-18T23:54:04.847639Z",
     "iopub.status.idle": "2025-04-18T23:54:04.861261Z",
     "shell.execute_reply": "2025-04-18T23:54:04.859409Z",
     "shell.execute_reply.started": "2025-04-18T23:54:04.847918Z"
    }
   },
   "outputs": [],
   "source": [
    "df_unique = pd.DataFrame({\"columns\": list(allcols)})\n",
    "df_unique.to_csv(\"unique_columns_ALL_19april.csv\", index=False)\n",
    "# df_unique"
   ]
  },
  {
   "cell_type": "code",
   "execution_count": 13,
   "id": "c5ab58d1-280a-4020-9cf0-009d8c816f88",
   "metadata": {
    "execution": {
     "iopub.execute_input": "2025-04-18T23:54:04.862035Z",
     "iopub.status.busy": "2025-04-18T23:54:04.861926Z",
     "iopub.status.idle": "2025-04-18T23:54:04.876232Z",
     "shell.execute_reply": "2025-04-18T23:54:04.873058Z",
     "shell.execute_reply.started": "2025-04-18T23:54:04.862026Z"
    }
   },
   "outputs": [
    {
     "name": "stdout",
     "output_type": "stream",
     "text": [
      "Summary Counts:\n",
      "\n",
      "Files Processed: 54005\n",
      "Total Validation Errors (logged in errdf): 8943\n",
      "-\tRead Errors (counted): 975\n",
      "-\tFlux Unit Validation Errors (counted): 5241\n",
      "\n",
      "Warnings Captured (logged in warnings_df): 38886\n"
     ]
    }
   ],
   "source": [
    "print(f\"Summary Counts:\")\n",
    "print(f\"\\nFiles Processed: {len(spectra_info)}\")\n",
    "print(f\"Total Validation Errors (logged in errdf): {len(errdf)}\") # Estimate based on errdf content\n",
    "print(f\"-\\tRead Errors (counted): {readerror_counter}\") # Note: This counts Error 2.1/2.2 specifically\n",
    "print(f\"-\\tFlux Unit Validation Errors (counted): {flux_counter}\")\n",
    "print(f\"\\nWarnings Captured (logged in warnings_df): {len(warnings_df)}\")\n"
   ]
  },
  {
   "cell_type": "code",
   "execution_count": 14,
   "id": "8a7ee0a9-295c-436d-afcb-b81e4921f47f",
   "metadata": {
    "execution": {
     "iopub.execute_input": "2025-04-18T23:54:04.881430Z",
     "iopub.status.busy": "2025-04-18T23:54:04.877782Z",
     "iopub.status.idle": "2025-04-18T23:54:04.891170Z",
     "shell.execute_reply": "2025-04-18T23:54:04.889703Z",
     "shell.execute_reply.started": "2025-04-18T23:54:04.881363Z"
    }
   },
   "outputs": [],
   "source": [
    "# import astropy.units as u\n",
    "# import astropy.constants as const\n",
    "# from astropy.units import equivalencies\n",
    "\n",
    "# # Define the flux in mJy\n",
    "# flux_mJy = 1.0 * u.mJy  # Example value of 1 mJy\n",
    "\n",
    "# # To convert between frequency and wavelength units, we need to specify the wavelength\n",
    "# wavelength = 5500 * u.AA  # Example: optical wavelength at 5500 Angstroms\n",
    "\n",
    "# # Create the equivalency between frequency and wavelength flux densities\n",
    "# # This accounts for the non-linear relationship between frequency and wavelength\n",
    "# fnu_to_flambda = u.spectral_density(wavelength)\n",
    "\n",
    "# # Do the conversion\n",
    "# flux_flambda = flux_mJy.to(u.erg / u.s / u.cm**2 / u.AA, equivalencies=fnu_to_flambda)\n",
    "\n",
    "# print(f\"Flux density at {wavelength}:\")\n",
    "# print(f\"{flux_mJy} = {flux_flambda}\")"
   ]
  }
 ],
 "metadata": {
  "kernelspec": {
   "display_name": "Python 3 (ipykernel)",
   "language": "python",
   "name": "python3"
  },
  "language_info": {
   "codemirror_mode": {
    "name": "ipython",
    "version": 3
   },
   "file_extension": ".py",
   "mimetype": "text/x-python",
   "name": "python",
   "nbconvert_exporter": "python",
   "pygments_lexer": "ipython3",
   "version": "3.11.11"
  }
 },
 "nbformat": 4,
 "nbformat_minor": 5
}
