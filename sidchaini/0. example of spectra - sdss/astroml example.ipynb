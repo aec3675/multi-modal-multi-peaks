{
 "cells": [
  {
   "cell_type": "code",
   "execution_count": 1,
   "id": "56c87adb-2bee-41d4-81c3-8a17b3e10d01",
   "metadata": {
    "execution": {
     "iopub.execute_input": "2025-03-10T15:19:28.594231Z",
     "iopub.status.busy": "2025-03-10T15:19:28.593559Z",
     "iopub.status.idle": "2025-03-10T15:19:29.236115Z",
     "shell.execute_reply": "2025-03-10T15:19:29.235812Z",
     "shell.execute_reply.started": "2025-03-10T15:19:28.594197Z"
    }
   },
   "outputs": [],
   "source": [
    "import numpy as np\n",
    "from astropy.io import fits"
   ]
  },
  {
   "cell_type": "markdown",
   "id": "7c59804a-e358-4351-9764-db5b8d548562",
   "metadata": {},
   "source": [
    "## Opt 1: AstroPy IO - FITS"
   ]
  },
  {
   "cell_type": "code",
   "execution_count": 2,
   "id": "9132af1e-f053-4cad-8e1c-f9b2162fecad",
   "metadata": {
    "execution": {
     "iopub.execute_input": "2025-03-10T15:19:29.236888Z",
     "iopub.status.busy": "2025-03-10T15:19:29.236776Z",
     "iopub.status.idle": "2025-03-10T15:19:29.242719Z",
     "shell.execute_reply": "2025-03-10T15:19:29.242370Z",
     "shell.execute_reply.started": "2025-03-10T15:19:29.236879Z"
    }
   },
   "outputs": [],
   "source": [
    "# This fits file was downloaded automaticall with astroml based on the book's chapter 1 example\n",
    "hdulist = fits.open(\"spSpec-53166-1615-513.fit\")"
   ]
  },
  {
   "cell_type": "code",
   "execution_count": 3,
   "id": "bb3f71fd-792b-44ee-8665-4a646eee34d5",
   "metadata": {
    "execution": {
     "iopub.execute_input": "2025-03-10T15:19:29.359914Z",
     "iopub.status.busy": "2025-03-10T15:19:29.359588Z",
     "iopub.status.idle": "2025-03-10T15:19:29.365977Z",
     "shell.execute_reply": "2025-03-10T15:19:29.365529Z",
     "shell.execute_reply.started": "2025-03-10T15:19:29.359883Z"
    }
   },
   "outputs": [
    {
     "name": "stdout",
     "output_type": "stream",
     "text": [
      "7\n"
     ]
    }
   ],
   "source": [
    "print(len(hdulist))"
   ]
  },
  {
   "cell_type": "code",
   "execution_count": 4,
   "id": "f56875a2-df97-4efa-b950-edd91f996e3d",
   "metadata": {
    "execution": {
     "iopub.execute_input": "2025-03-10T15:19:29.702838Z",
     "iopub.status.busy": "2025-03-10T15:19:29.702135Z",
     "iopub.status.idle": "2025-03-10T15:19:29.711091Z",
     "shell.execute_reply": "2025-03-10T15:19:29.709885Z",
     "shell.execute_reply.started": "2025-03-10T15:19:29.702804Z"
    }
   },
   "outputs": [
    {
     "name": "stdout",
     "output_type": "stream",
     "text": [
      "<astropy.io.fits.hdu.image.PrimaryHDU object at 0x107f39e90>\n",
      "<astropy.io.fits.hdu.table.BinTableHDU object at 0x107f4aa90>\n",
      "<astropy.io.fits.hdu.table.BinTableHDU object at 0x107f54490>\n",
      "<astropy.io.fits.hdu.table.BinTableHDU object at 0x107f55310>\n",
      "<astropy.io.fits.hdu.table.BinTableHDU object at 0x107f564d0>\n",
      "<astropy.io.fits.hdu.table.BinTableHDU object at 0x107f572d0>\n",
      "<astropy.io.fits.hdu.table.BinTableHDU object at 0x107f57cd0>\n"
     ]
    }
   ],
   "source": [
    "for i in hdulist:\n",
    "    print(i)"
   ]
  },
  {
   "cell_type": "code",
   "execution_count": 5,
   "id": "0290e084-0a59-4605-8c7f-431adaf59475",
   "metadata": {
    "execution": {
     "iopub.execute_input": "2025-03-10T15:19:29.924139Z",
     "iopub.status.busy": "2025-03-10T15:19:29.923540Z",
     "iopub.status.idle": "2025-03-10T15:19:29.946722Z",
     "shell.execute_reply": "2025-03-10T15:19:29.946111Z",
     "shell.execute_reply.started": "2025-03-10T15:19:29.924105Z"
    },
    "scrolled": true
   },
   "outputs": [
    {
     "data": {
      "text/plain": [
       "SIMPLE  =                    T                                                  \n",
       "BITPIX  =                  -32                                                  \n",
       "NAXIS   =                    2                                                  \n",
       "NAXIS1  =                 3856                                                  \n",
       "NAXIS2  =                    5                                                  \n",
       "EXTEND  =                    T /                                                \n",
       "TAI     =        4593557832.61 / 1st row - Number of seconds since Nov 17 1858  \n",
       "RA      =            187.46463 / 1st row - Right ascension of telescope boresigh\n",
       "DEC     =            12.487701 / 1st row - Declination of telescope boresight (d\n",
       "EQUINOX =              2000.00 /                                                \n",
       "RADECSYS= 'FK5     '           /                                                \n",
       "AZ      =        300.020823333 / 1st row - Azimuth  (encoder) of tele (0=N?) (de\n",
       "ALT     =        56.0378723333 / 1st row - Altitude (encoder) of tele        (de\n",
       "AIRMASS =              1.15830 /                                                \n",
       "FOCUS   =            60.000000 / 1st row - Focus piston (microns?)              \n",
       "DATE-OBS= '2004-06-10'         / 1st row - TAI date                             \n",
       "TAIHMS  = '04:01:06.29'        / 1st row - TAI time (HH:MM:SS.SS) (TAI-UT = appr\n",
       "TIMESYS = 'tai     '           / TAI, not UTC                                   \n",
       "TAI-BEG =        4593555888.00 / Exposure Start Time                            \n",
       "TAI-END =        4593558651.00 / Exposure End Time                              \n",
       "MJD     =                53166 / MJD of observation                             \n",
       "MJDLIST = '53166   '           /                                                \n",
       "VERSION = 'v3_138_0'           / version of IOP                                 \n",
       "CAMVER  = 'SPEC1 v4_8'         / Camera code version                            \n",
       "OBSERVER= 'jcb     '                                                            \n",
       "OBSCOMM = 'science '                                                            \n",
       "TELESCOP= 'SDSS 2.5-M'         / Sloan Digital Sky Survey                       \n",
       "NEXP    =                   12 / Number of exposures in this file               \n",
       "BESTEXP =                27097 /                                                \n",
       "EXPID01 = 'b1-00027096-00027094-00027095' / ID string for exposure 1            \n",
       "EXPID02 = 'b1-00027097-00027094-00027095' / ID string for exposure 2            \n",
       "EXPID03 = 'b1-00027098-00027094-00027095' / ID string for exposure 3            \n",
       "EXPID04 = 'b2-00027096-00027094-00027095' / ID string for exposure 4            \n",
       "EXPID05 = 'b2-00027097-00027094-00027095' / ID string for exposure 5            \n",
       "EXPID06 = 'b2-00027098-00027094-00027095' / ID string for exposure 6            \n",
       "EXPID07 = 'r1-00027096-00027094-00027095' / ID string for exposure 7            \n",
       "EXPID08 = 'r1-00027097-00027094-00027095' / ID string for exposure 8            \n",
       "EXPID09 = 'r1-00027098-00027094-00027095' / ID string for exposure 9            \n",
       "EXPID10 = 'r2-00027096-00027094-00027095' / ID string for exposure 10           \n",
       "EXPID11 = 'r2-00027097-00027094-00027095' / ID string for exposure 11           \n",
       "EXPID12 = 'r2-00027098-00027094-00027095' / ID string for exposure 12           \n",
       "NEXP_B1 =                    3 / b1 camera number of exposures                  \n",
       "NEXP_B2 =                    3 / b2 camera number of exposures                  \n",
       "NEXP_R1 =                    3 / r1 camera number of exposures                  \n",
       "NEXP_R2 =                    3 / r2 camera number of exposures                  \n",
       "EXPT_B1 =              2400.30 / b1 camera exposure time (seconds)              \n",
       "EXPT_B2 =              2400.30 / b2 camera exposure time (seconds)              \n",
       "EXPT_R1 =              2400.30 / r1 camera exposure time (seconds)              \n",
       "EXPT_R2 =              2400.30 / r2 camera exposure time (seconds)              \n",
       "EXPTIME =              2400.30 / Minimum of exposure times for all cameras      \n",
       "SPCOADD = 'Tue Feb 19 20:33:22 2008' / SPCOADD finished                         \n",
       "FLAVOR  = 'science '           / Flavor of this sequence (e.g., dome f          \n",
       "QUALITY = 'excellent'          / night/image quality                            \n",
       "RADEG   = 1.87464100000000E+02 / Right Ascension. (degrees)                     \n",
       "DECDEG  = 1.24877500000000E+01 / Declination. (degrees)                         \n",
       "PLATEID =                 1615 / Plate Id                                       \n",
       "TILEID  =                 1140 / Tile Id                                        \n",
       "CARTID  =                    5 /Cartridge used in this plugging                 \n",
       "REDDEN  = '0.0796 0.0586 0.0425 0.0322 0.0228' / Median reddening vector for pla\n",
       "MAPID   =              5316001 / Map Id                                         \n",
       "NAME    = '1615-53160-01'      / Name of target; PlateId-MJD-Mapper Re          \n",
       "NGUIDE  =              27.0000 / Number of guider frames during exposure        \n",
       "SEEING20=              1.22667 / 20% seeing during exposure (arcsec)            \n",
       "SEEING50=              1.32667 / 50% seeing during exposure (arcsec)            \n",
       "SEEING80=              1.47667 / 80% seeing during exposure (arcsec)            \n",
       "RMSOFF20=       0.132410666667 / 20% RMS offset of guide fibers (arcsec)        \n",
       "RMSOFF50=       0.250306333333 / 50% RMS offset of guide fibers (arcsec)        \n",
       "RMSOFF80=       0.378881333333 / 80% RMS offset of guide fibers (arcsec)        \n",
       "COLBIN  =                    1 / Binning factor perpendicular to the c          \n",
       "ROWBIN  =                    1 / Binning factor perpendicular to the r          \n",
       "PROGRAM = 'binning 1   1 '     / Identifying name for CCD program               \n",
       "SECFOCUS= 6.00000000000000E+01 / Secondary Mirror Position as reported          \n",
       "GUIDEIMG= '/data/spectro/guider/gimg0208.fits' / Last archived guider image     \n",
       "WTIME   =        1086840891.67 / weatherData(timeStamp)                         \n",
       "AIRTEMP =        14.6333333333 / weatherData(airtemp)                           \n",
       "DEWPOINT=       -6.43333333333 / weatherData(dewpoint)                          \n",
       "DEWDEP  =        21.0666666667 / weatherData(dewpointDep)                       \n",
       "DUSTA   =       -9999.00000000 / weatherData(dusta)                             \n",
       "DUSTB   =        1326.66666667 / weatherData(dustb)                             \n",
       "DUSTC   =        14545.3333333 / weatherData(dustc)                             \n",
       "DUSTD   =        1068.33333333 / weatherData(dustd)                             \n",
       "GUSTD   = 2.78100000000000E+02 / weatherData(gustd)                             \n",
       "GUSTS   =        22.0333333333 / weatherData(gusts)                             \n",
       "HUMIDITY=        22.7000000000 / weatherData(humidity)                          \n",
       "HUMIDOUT=        22.0000000000 / weatherData(humidout)                          \n",
       "PRESSURE=        21.4900000000 / weatherData(pressure)                          \n",
       "WINDD   =        268.933333333 / weatherData(windd)                             \n",
       "WINDS   =        14.6000000000 / weatherData(winds)                             \n",
       "TEMP01  =       -93.3600000000 / CCD 01 Temperature                             \n",
       "TEMP02  =       -93.4900000000 / CCD 02 Temperature                             \n",
       "TEMP03  =       -92.3200000000 / CCD 03 Temperature                             \n",
       "TEMP04  =       -92.5800000000 / CCD 04 Temperature                             \n",
       "VERSIDL = '6.3     '           / Version of IDL                                 \n",
       "VERSUTIL= 'v5_3_0  '           / Version of idlutils                            \n",
       "VERSREAD= 'v5_3_12 '           / Version of idlspec2d for pre-processing raw dat\n",
       "VERS2D  = 'v5_3_12 '           / Version of idlspec2d for 2D reduction          \n",
       "VERSCOMB= 'v5_3_12 '           / Version of idlspec2d for combining multiple spe\n",
       "VERSLOG = 'fermi-CVS 02/19/08' / Version of SPECLOG product                     \n",
       "VERSFLAT= 'v1_7    '           / Version of SPECFLAT product                    \n",
       "OPBC    = 'opBC-51813.par'     /                                                \n",
       "OPCONFIG= 'opConfig-50000.par' /                                                \n",
       "OPECALIB= 'opECalib-51577.par' /                                                \n",
       "XSIGMA  =       0.954296739300 /                                                \n",
       "XSIGMIN =       0.931442000000 /                                                \n",
       "XSIGMAX =        1.01137995720 /                                                \n",
       "WSIGMA  =       0.901983250553 /                                                \n",
       "WSIGMIN =       0.860031000000 /                                                \n",
       "WSIGMAX =        1.01668000221 /                                                \n",
       "PLUGFILE= 'plPlugMapM-1615-53160-01.par' /                                      \n",
       "LAMPLIST= 'lamphgcdne.dat'     /                                                \n",
       "SKYLIST = 'skylines.dat'       /                                                \n",
       "HELIO_RV=        27.9144043066 / Heliocentric correction (added to velocities)  \n",
       "VACUUM  =                    T / Wavelengths are in vacuum                      \n",
       "SFLATTEN=                    T / Superflat has been applied                     \n",
       "PSFSKY  =                    3 / Order of PSF skysubtraction                    \n",
       "SKYCHI2 =        1.10769758526 / Mean chi^2 of sky-subtraction                  \n",
       "SCHI2MIN=        1.03006584697 /                                                \n",
       "SCHI2MAX=        1.18506661222 /                                                \n",
       "PREJECT =             0.200000 / Profile area rejection threshold               \n",
       "SPEC1_G =              18.2607 /(S/N)^2 for spec  1 at mag 20.20                \n",
       "SPEC1_R =              20.4721 /(S/N)^2 for spec  1 at mag 20.25                \n",
       "SPEC1_I =              17.9823 /(S/N)^2 for spec  1 at mag 19.90                \n",
       "SPEC2_G =              18.1094 /(S/N)^2 for spec  2 at mag 20.20                \n",
       "SPEC2_R =              16.9816 /(S/N)^2 for spec  2 at mag 20.25                \n",
       "SPEC2_I =              15.8184 /(S/N)^2 for spec  2 at mag 19.90                \n",
       "NSTD    =                   16 / Number of (good) std stars                     \n",
       "GOFFSTD =           -0.0632305 / Spectrophoto offset for std stars in G-band    \n",
       "GRMSSTD =            0.0490740 / Spectrophoto RMS for std stars in G-band       \n",
       "ROFFSTD =           -0.0413189 / Spectrophoto offset for std stars in R-band    \n",
       "RRMSSTD =            0.0385442 / Spectrophoto RMS for std stars in R-band       \n",
       "IOFFSTD =           -0.0533543 / Spectrophoto offset for std stars in I-band    \n",
       "IRMSSTD =            0.0360228 / Spectrophoto RMS for std stars in I-band       \n",
       "GROFFSTD=           -0.0151310 / Spectrophoto offset for std stars in (GR)      \n",
       "GRRMSSTD=            0.0493313 / Spectrophoto RMS for std stars in (GR)         \n",
       "RIOFFSTD=          -0.00380993 / Spectrophoto offset for std stars in (RI)      \n",
       "RIRMSSTD=            0.0260582 / Spectrophoto RMS for std stars in (RI)         \n",
       "NGAL    =                  449 / Number of (good) main galaxies                 \n",
       "GOFFGAL =           0.00657845 / Spectrophoto offset for main galaxies in G-band\n",
       "GRMSGAL =            0.0510833 / Spectrophoto RMS for main galaxies in G-band   \n",
       "ROFFGAL =           0.00333977 / Spectrophoto offset for main galaxies in R-band\n",
       "RRMSGAL =            0.0503013 / Spectrophoto RMS for main galaxies in R-band   \n",
       "IOFFGAL =           0.00625038 / Spectrophoto offset for main galaxies in I-band\n",
       "IRMSGAL =            0.0562622 / Spectrophoto RMS for main galaxies in I-band   \n",
       "GROFFGAL=           0.00152683 / Spectrophoto offset for main galaxies in (GR)  \n",
       "GRRMSGAL=            0.0395328 / Spectrophoto RMS for main galaxies in (GR)     \n",
       "RIOFFGAL=          -0.00166512 / Spectrophoto offset for main galaxies in (RI)  \n",
       "RIRMSGAL=            0.0258653 / Spectrophoto RMS for main galaxies in (RI)     \n",
       "LOWREJ  =                    5 / Extraction: low rejection                      \n",
       "HIGHREJ =                    8 / Extraction: high rejection                     \n",
       "SCATPOLY=                    0 / Extraction: Order of scattered light polynomial\n",
       "PROFTYPE=                    3 / Extraction profile: 1=Gaussian                 \n",
       "NFITPOLY=                    1 / Extraction: Number of parameters in each profil\n",
       "XCHI2   =              1.19279 / Extraction: Mean chi^2                         \n",
       "XCHI2MIN=              1.05698 /                                                \n",
       "XCHI2MAX=              1.34296 /                                                \n",
       "SHIFTGUE=   -0.000812781513105 /                                                \n",
       "SHIFT   =        1.40045241549 /Angstroms, at 4000AA                            \n",
       "SHIFTERR=       0.836649418912 /                                                \n",
       "NWORDER =                    2 / Linear-log10 coefficients                      \n",
       "WFITTYPE= 'LOG-LINEAR'         / Linear-log10 dispersion                        \n",
       "UNAME   = 'fnpc210.fnal.gov'   /                                                \n",
       "FBADPIX =            0.0168228 / Fraction of bad pixels                         \n",
       "FBADPIX1=            0.0229780 / Fraction of bad pixels on spectro-1            \n",
       "FBADPIX2=            0.0106676 / Fraction of bad pixels on spectro-2            \n",
       "WAT0_001= 'system=linear'      /                                                \n",
       "WAT1_001= 'wtype=linear label=Wavelength units=Angstroms' /                     \n",
       "CRPIX1  =                    1 / Starting pixel (1-indexed)                     \n",
       "CTYPE1  = 'LINEAR  '           /                                                \n",
       "DC-FLAG =                    1 / Log-linear flag                                \n",
       "PIXMIN  = 0.00000000000000E+00 / Place Holder                                   \n",
       "PIXMAX  = 2.04700000000000E+03 / Place Holder                                   \n",
       "ARRAY1  = 'SPECTRUM'           / units of (10^-17 erg/s/cm^2/A                  \n",
       "ARRAY2  = 'CONTINUUM-SUBTRACTED SPECTRUM' / units of 10^-17 erg/s/cm^2/A        \n",
       "ARRAY3  = 'ERROR   '           / units of 10^-17 erg/s/cm^2/A                   \n",
       "ARRAY4  = 'MASK    '           / mask bit array                                 \n",
       "BUNIT   = '1.0E-17 erg/cm/s/Ang' / units                                        \n",
       "SN_G    = 4.17406000000000E+01 / Median S/N ration ig g'                        \n",
       "MAG_G   =            15.896603 / Synthetic magnitude in g' (corrected)          \n",
       "SN_R    = 5.14868000000000E+01 / Median S/N ratio in r'                         \n",
       "MAG_R   =            15.148924 / Synthetic magnitude in r' (corrected)          \n",
       "SN_I    = 4.99531000000000E+01 / Median S/N ratio in i'                         \n",
       "MAG_I   =            14.789673 / Synthetic magnitude in i' (corrected)          \n",
       "SCI_SN  = -9.9990000000000E+03 / Science signal to noise ratio                  \n",
       "SMEAR_SN= -9.9990000000000E+03 / Smear signal to noise ratio                    \n",
       "SM_LEG_0= -9.9990000000000E+03 / 1st legendre coeff. for smear correct          \n",
       "SM_LEG_1= -9.9990000000000E+03 / 2nd legendre coeff. for smear correct          \n",
       "SM_LEG_2= -9.9990000000000E+03 / 3rd legendre coeff. for smear correct          \n",
       "OBJID   = ' 3836 41 3 257 48'  / run rerun camcol field objID                   \n",
       "MAG     = ' 17.7042 16.0715 15.3562 14.9862 14.6943' / fiber Mags               \n",
       "OBJTYPE = 'GALAXY  '           / object Type                                    \n",
       "RAOBJ   = 1.87496170000000E+02 / RA(deg) of object                              \n",
       "DECOBJ  = 1.23486570000000E+01 / DEC(deg) of object                             \n",
       "XFOCAL  = 6.81100040000000E+00 / X position in Focal plane                      \n",
       "YFOCAL  = -3.0237266000000E+01 / Y position in focal plane                      \n",
       "PRIMTARG=                   96 / primary Target Flag                            \n",
       "SECTARGE=                    0 / Secondary Target Flag                          \n",
       "FIBERID =                  513 / fiber ID                                       \n",
       "SPECID  =                    2 / spectrograph ID                                \n",
       "SCIEXPTI= 0.00000000000000E+00 /                                                \n",
       "CALIB   = ' 118.834 491.09 990.997 1397 1866.31' /                              \n",
       "CALIBVAR= ' 0.9116 1.74418 0.745392 0.419276 0.0552864' /                       \n",
       "SFD_EBV = 2.75987000000000E-02 /                                                \n",
       "NGOOD   =                 3842 / Number of Good Pixels                          \n",
       "VERS_1D = 'v5_13   '           / Version of Spectro1d                           \n",
       "BESTTEMP=                   28 / Best cross-correlation template                \n",
       "COEFF0  = 3.57930000000000E+00 / Center wavelength (log10) of first pi          \n",
       "COEFF1  = 1.00000000000000E-04 / Log10 dispersion per pixel                     \n",
       "CRVAL1  = 3.57930000000000E+00 / Iraf zero point                                \n",
       "CD1_1   = 1.00000000000000E-04 / Iraf dispersion                                \n",
       "1D_PDATE= '02/20/08:01:23:50'  / 1D Processing/last Modification date           \n",
       "SPEC_CLN=                    2 / Spectral Classn                                \n",
       "VEL_DIS = -9.9990000000000E+03 / Velocity dispersion (km/s)                     \n",
       "VEL_DISE= -9.9990000000000E+03 / Error on Velocity Dispersion (km/s)            \n",
       "Z       = 6.57499000000000E-03 / Final redshift                                 \n",
       "Z_ERR   = 1.51556000000000E-04 / Redshift error                                 \n",
       "Z_CONF  = 9.99778000000000E-01 / Redshift confidence                            \n",
       "Z_STATUS=                    4 / Redshift Status                                \n",
       "Z_WARNIN=                    0 / Redshift Warning Flags                         \n",
       "ECLASS  = -8.9672500000000E-02 / galaxy classification parameter                \n",
       "ECOEFF1 = 9.93953000000000E-01 / 1st expansion coefficient                      \n",
       "ECOEFF2 = 8.93700000000000E-02 / 2nd expansion coefficient                      \n",
       "ECOEFF3 = -2.5869100000000E-02 / 3rd expansion coefficient                      \n",
       "ECOEFF4 = -4.6719800000000E-02 / 4th expansion coefficient                      \n",
       "ECOEFF5 = -3.4904000000000E-02 / 5th expansion coefficient                      "
      ]
     },
     "execution_count": 5,
     "metadata": {},
     "output_type": "execute_result"
    }
   ],
   "source": [
    "hdulist[0].header"
   ]
  },
  {
   "cell_type": "code",
   "execution_count": 6,
   "id": "37c4e34a-f611-4f08-b318-d892b912e5f5",
   "metadata": {
    "execution": {
     "iopub.execute_input": "2025-03-10T15:19:30.704510Z",
     "iopub.status.busy": "2025-03-10T15:19:30.703582Z",
     "iopub.status.idle": "2025-03-10T15:19:30.739446Z",
     "shell.execute_reply": "2025-03-10T15:19:30.737985Z",
     "shell.execute_reply.started": "2025-03-10T15:19:30.704453Z"
    }
   },
   "outputs": [
    {
     "data": {
      "text/plain": [
       "(5, 3856)"
      ]
     },
     "execution_count": 6,
     "metadata": {},
     "output_type": "execute_result"
    }
   ],
   "source": [
    "hdulist[0].data.shape"
   ]
  },
  {
   "cell_type": "code",
   "execution_count": 7,
   "id": "53f39352-888e-48cc-9f39-2e865346bfb2",
   "metadata": {
    "execution": {
     "iopub.execute_input": "2025-03-10T15:19:30.901582Z",
     "iopub.status.busy": "2025-03-10T15:19:30.901112Z",
     "iopub.status.idle": "2025-03-10T15:19:30.916505Z",
     "shell.execute_reply": "2025-03-10T15:19:30.914833Z",
     "shell.execute_reply.started": "2025-03-10T15:19:30.901556Z"
    }
   },
   "outputs": [],
   "source": [
    "data = hdulist[0].data\n",
    "name = hdulist[0].header['NAME']\n",
    "spec_cln = hdulist[0].header['SPEC_CLN']\n",
    "coeff0 = hdulist[0].header['COEFF0']\n",
    "coeff1 = hdulist[0].header['COEFF1']\n",
    "z = hdulist[0].header['Z']\n",
    "zerr = hdulist[0].header['Z_ERR']\n",
    "zconf = hdulist[0].header['Z_CONF']\n",
    "\n",
    "spectrum = data[0]\n",
    "spectrum_cont = data[1]\n",
    "error = data[2]\n",
    "mask = data[3]\n",
    "large_err = error.max() * 2\n",
    "hdulist = hdulist"
   ]
  },
  {
   "cell_type": "code",
   "execution_count": 8,
   "id": "7ff0c323-2b3b-4cb3-95f8-be291b619693",
   "metadata": {
    "execution": {
     "iopub.execute_input": "2025-03-10T15:19:31.571042Z",
     "iopub.status.busy": "2025-03-10T15:19:31.570452Z",
     "iopub.status.idle": "2025-03-10T15:19:31.581010Z",
     "shell.execute_reply": "2025-03-10T15:19:31.579611Z",
     "shell.execute_reply.started": "2025-03-10T15:19:31.571007Z"
    }
   },
   "outputs": [],
   "source": [
    "wavelength = 10 ** (coeff0 + coeff1 * np.arange(len(spectrum)))\n",
    "\n",
    "coeff0_restframe = coeff0 - np.log10(1 + z)\n",
    "wavelength_restframe = 10 ** (coeff0_restframe + coeff1 * np.arange(len(spectrum)))"
   ]
  },
  {
   "cell_type": "code",
   "execution_count": 9,
   "id": "4b4a0626-037c-4d4c-b8bc-7b4e8dba3e87",
   "metadata": {
    "execution": {
     "iopub.execute_input": "2025-03-10T15:19:31.761455Z",
     "iopub.status.busy": "2025-03-10T15:19:31.760944Z",
     "iopub.status.idle": "2025-03-10T15:19:32.657236Z",
     "shell.execute_reply": "2025-03-10T15:19:32.656800Z",
     "shell.execute_reply.started": "2025-03-10T15:19:31.761408Z"
    }
   },
   "outputs": [
    {
     "data": {
      "image/png": "[encoded data removed]",
      "text/plain": [
       "<Figure size 640x480 with 1 Axes>"
      ]
     },
     "metadata": {},
     "output_type": "display_data"
    }
   ],
   "source": [
    "import matplotlib.pyplot as plt\n",
    "plt.plot(wavelength, spectrum, \"-k\")\n",
    "plt.xlabel(r\"$\\lambda (\\AA) $\")\n",
    "plt.ylabel(\"Flux\")\n",
    "plt.title(\"Spectra\")\n",
    "plt.show()"
   ]
  },
  {
   "cell_type": "markdown",
   "id": "4a49ccfb-bb65-4858-a516-1cfc8842058c",
   "metadata": {},
   "source": [
    "## Opt 2: SpecUtils"
   ]
  },
  {
   "cell_type": "code",
   "execution_count": 10,
   "id": "d26248f5-58d1-42b4-a972-20a610a3c676",
   "metadata": {
    "execution": {
     "iopub.execute_input": "2025-03-10T15:19:33.867019Z",
     "iopub.status.busy": "2025-03-10T15:19:33.866129Z",
     "iopub.status.idle": "2025-03-10T15:19:36.757837Z",
     "shell.execute_reply": "2025-03-10T15:19:36.757506Z",
     "shell.execute_reply.started": "2025-03-10T15:19:33.866978Z"
    }
   },
   "outputs": [
    {
     "name": "stderr",
     "output_type": "stream",
     "text": [
      "WARNING: FITSFixedWarning: RADECSYS= 'FK5 ' / \n",
      "the RADECSYS keyword is deprecated, use RADESYSa. [astropy.wcs.wcs]\n",
      "WARNING: FITSFixedWarning: PLATEID = 1615 / Plate Id \n",
      "a string value was expected. [astropy.wcs.wcs]\n",
      "WARNING: FITSFixedWarning: 'cdfix' made the change 'Success'. [astropy.wcs.wcs]\n",
      "WARNING: FITSFixedWarning: 'datfix' made the change 'Set MJD-OBS to 53166.000000 from DATE-OBS'. [astropy.wcs.wcs]\n"
     ]
    }
   ],
   "source": [
    "import os\n",
    "from specutils import Spectrum1D\n",
    "\n",
    "file_path = 'spSpec-53166-1615-513.fit'\n",
    "\n",
    "spec = Spectrum1D.read(file_path) # format='SDSS-I/II spSpec'"
   ]
  },
  {
   "cell_type": "code",
   "execution_count": 11,
   "id": "5dfb62bb-5c69-4926-be6c-c09ea8b219ee",
   "metadata": {
    "execution": {
     "iopub.execute_input": "2025-03-10T15:19:36.758617Z",
     "iopub.status.busy": "2025-03-10T15:19:36.758490Z",
     "iopub.status.idle": "2025-03-10T15:19:36.814229Z",
     "shell.execute_reply": "2025-03-10T15:19:36.813892Z",
     "shell.execute_reply.started": "2025-03-10T15:19:36.758609Z"
    }
   },
   "outputs": [
    {
     "data": {
      "image/png": "[encoded data removed]",
      "text/plain": [
       "<Figure size 640x480 with 1 Axes>"
      ]
     },
     "metadata": {},
     "output_type": "display_data"
    }
   ],
   "source": [
    "plt.title('SDSS FITS')\n",
    "plt.xlabel('Wavelength (Angstrom)')\n",
    "plt.ylabel('Flux (erg/cm2/s/A)')\n",
    "plt.plot(spec.wavelength, spec.flux, \"k-\")\n",
    "plt.show()"
   ]
  }
 ],
 "metadata": {
  "kernelspec": {
   "display_name": "Python 3 (ipykernel)",
   "language": "python",
   "name": "python3"
  },
  "language_info": {
   "codemirror_mode": {
    "name": "ipython",
    "version": 3
   },
   "file_extension": ".py",
   "mimetype": "text/x-python",
   "name": "python",
   "nbconvert_exporter": "python",
   "pygments_lexer": "ipython3",
   "version": "3.11.11"
  }
 },
 "nbformat": 4,
 "nbformat_minor": 5
}
