{
 "cells": [
  {
   "cell_type": "code",
   "execution_count": 1,
   "metadata": {
    "execution": {
     "iopub.execute_input": "2025-03-14T17:20:19.822122Z",
     "iopub.status.busy": "2025-03-14T17:20:19.821332Z",
     "iopub.status.idle": "2025-03-14T17:20:20.820671Z",
     "shell.execute_reply": "2025-03-14T17:20:20.820389Z",
     "shell.execute_reply.started": "2025-03-14T17:20:19.822097Z"
    }
   },
   "outputs": [],
   "source": [
    "import glob\n",
    "\n",
    "import numpy as np\n",
    "import pandas as pd\n",
    "import pylab as plt\n",
    "from tqdm.auto import tqdm\n",
    "from astropy.io import ascii"
   ]
  },
  {
   "cell_type": "markdown",
   "metadata": {},
   "source": [
    "## 1. See how many spectra (%) can be opened by Astropy"
   ]
  },
  {
   "cell_type": "code",
   "execution_count": 2,
   "metadata": {
    "execution": {
     "iopub.execute_input": "2025-03-14T17:20:20.821166Z",
     "iopub.status.busy": "2025-03-14T17:20:20.821079Z",
     "iopub.status.idle": "2025-03-14T17:20:21.121348Z",
     "shell.execute_reply": "2025-03-14T17:20:21.120867Z",
     "shell.execute_reply.started": "2025-03-14T17:20:20.821157Z"
    }
   },
   "outputs": [],
   "source": [
    "# Read spectra metadata\n",
    "spectra_info = pd.read_csv(\n",
    "    \"../1. download ALL wise data/wiserep_spectra_combined.csv\"\n",
    ")  # .set_index(' IAU name').to_dict('index')"
   ]
  },
  {
   "cell_type": "code",
   "execution_count": 3,
   "metadata": {
    "execution": {
     "iopub.execute_input": "2025-03-14T17:20:21.121856Z",
     "iopub.status.busy": "2025-03-14T17:20:21.121761Z",
     "iopub.status.idle": "2025-03-14T17:20:21.125599Z",
     "shell.execute_reply": "2025-03-14T17:20:21.125304Z",
     "shell.execute_reply.started": "2025-03-14T17:20:21.121846Z"
    }
   },
   "outputs": [
    {
     "data": {
      "text/plain": [
       "(54005, 46)"
      ]
     },
     "execution_count": 3,
     "metadata": {},
     "output_type": "execute_result"
    }
   ],
   "source": [
    "spectra_info.shape"
   ]
  },
  {
   "cell_type": "code",
   "execution_count": 3,
   "metadata": {
    "execution": {
     "iopub.execute_input": "2025-03-13T01:37:41.589257Z",
     "iopub.status.busy": "2025-03-13T01:37:41.589067Z",
     "iopub.status.idle": "2025-03-13T02:14:39.400249Z",
     "shell.execute_reply": "2025-03-13T02:14:39.399502Z",
     "shell.execute_reply.started": "2025-03-13T01:37:41.589217Z"
    }
   },
   "outputs": [
    {
     "data": {
      "application/vnd.jupyter.widget-view+json": {
       "model_id": "d7df1c08e5cb4b97b1d30b05f0eed96a",
       "version_major": 2,
       "version_minor": 0
      },
      "text/plain": [
       "Reading spectra:   0%|          | 0/54005 [00:00<?, ?it/s]"
      ]
     },
     "metadata": {},
     "output_type": "display_data"
    },
    {
     "name": "stdout",
     "output_type": "stream",
     "text": [
      "Success rate: 22315/22765 (98.02%)"
     ]
    },
    {
     "name": "stderr",
     "output_type": "stream",
     "text": [
      "WARNING: UnitsWarning: 'mW/m2/0.1nm' did not parse as cds unit: Syntax error If this is meant to be a custom unit, define it with 'u.def_unit'. To have it recognized inside a file reader or other code, enable it with 'u.add_enabled_units'. For details, see https://docs.astropy.org/en/latest/units/combining_and_defining.html [astropy.units.core]\n"
     ]
    },
    {
     "name": "stdout",
     "output_type": "stream",
     "text": [
      "Success rate: 48312/49761 (97.09%)"
     ]
    },
    {
     "name": "stderr",
     "output_type": "stream",
     "text": [
      "WARNING: OverflowError converting to FloatType in column col2, possibly resulting in degraded precision. [astropy.io.ascii.fastbasic]\n"
     ]
    },
    {
     "name": "stdout",
     "output_type": "stream",
     "text": [
      "Success rate: 52301/54005 (96.84%)"
     ]
    }
   ],
   "source": [
    "#Loop over all spectra ascii filenames and see how many can be opened\n",
    "read_success = []\n",
    "cols = []\n",
    "n_cols = []\n",
    "exception = []\n",
    "wise_ids = []\n",
    "success_count = 0\n",
    "total_count = 0\n",
    "\n",
    "for fn in tqdm(spectra_info[\"Ascii file\"].values, desc=\"Reading spectra\"):\n",
    "    total_count += 1\n",
    "    try:\n",
    "        tab = ascii.read(f\"../1. download ALL wise data/wiserep_data/spectra/{fn}\")\n",
    "        # default: guess=True\n",
    "        read_success.append(True)\n",
    "        cols.append(tab.colnames)\n",
    "        n_cols.append(len(tab.colnames))\n",
    "        exception.append(np.nan)\n",
    "        success_count += 1\n",
    "        # Update progress bar description with success rate\n",
    "        tqdm.write(\n",
    "            f\"Success rate: {success_count}/{total_count} ({success_count/total_count:.2%})\",\n",
    "            end=\"\\r\",\n",
    "        )\n",
    "    except Exception as e:\n",
    "        read_success.append(False)\n",
    "        cols.append(np.nan)\n",
    "        n_cols.append(np.nan)\n",
    "        exception.append(e)"
   ]
  },
  {
   "cell_type": "code",
   "execution_count": 4,
   "metadata": {
    "execution": {
     "iopub.execute_input": "2025-03-13T02:14:39.405460Z",
     "iopub.status.busy": "2025-03-13T02:14:39.405294Z",
     "iopub.status.idle": "2025-03-13T02:14:39.553408Z",
     "shell.execute_reply": "2025-03-13T02:14:39.553112Z",
     "shell.execute_reply.started": "2025-03-13T02:14:39.405416Z"
    }
   },
   "outputs": [
    {
     "data": {
      "text/html": [
       "<div>\n",
       "<style scoped>\n",
       "    .dataframe tbody tr th:only-of-type {\n",
       "        vertical-align: middle;\n",
       "    }\n",
       "\n",
       "    .dataframe tbody tr th {\n",
       "        vertical-align: top;\n",
       "    }\n",
       "\n",
       "    .dataframe thead th {\n",
       "        text-align: right;\n",
       "    }\n",
       "</style>\n",
       "<table border=\"1\" class=\"dataframe\">\n",
       "  <thead>\n",
       "    <tr style=\"text-align: right;\">\n",
       "      <th></th>\n",
       "      <th>filename</th>\n",
       "      <th>read_success</th>\n",
       "      <th>columns</th>\n",
       "      <th>n_columns</th>\n",
       "      <th>exception</th>\n",
       "    </tr>\n",
       "  </thead>\n",
       "  <tbody>\n",
       "    <tr>\n",
       "      <th>0</th>\n",
       "      <td>1999gi_2000-03-15_00-00-00_Lick-3m_KAST_SUSPEC...</td>\n",
       "      <td>True</td>\n",
       "      <td>[col1, col2]</td>\n",
       "      <td>2.0</td>\n",
       "      <td>NaN</td>\n",
       "    </tr>\n",
       "    <tr>\n",
       "      <th>1</th>\n",
       "      <td>1999gi_2000-03-15_00-00-00_Lick-3m_KAST_SUSPEC...</td>\n",
       "      <td>True</td>\n",
       "      <td>[col1, col2]</td>\n",
       "      <td>2.0</td>\n",
       "      <td>NaN</td>\n",
       "    </tr>\n",
       "    <tr>\n",
       "      <th>2</th>\n",
       "      <td>SN1999gi_2000-03-15_00-00-00_Lick-3m_KAST_LOSS...</td>\n",
       "      <td>True</td>\n",
       "      <td>[col1, col2]</td>\n",
       "      <td>2.0</td>\n",
       "      <td>NaN</td>\n",
       "    </tr>\n",
       "    <tr>\n",
       "      <th>3</th>\n",
       "      <td>SN_1999gi_2000-03-15_00-00-00_Lick-3m_KAST_UCB...</td>\n",
       "      <td>True</td>\n",
       "      <td>[col1, col2]</td>\n",
       "      <td>2.0</td>\n",
       "      <td>NaN</td>\n",
       "    </tr>\n",
       "    <tr>\n",
       "      <th>4</th>\n",
       "      <td>1999gi_2000-03-25_00-00-00_Keck1_LRIS_SUSPECT.dat</td>\n",
       "      <td>True</td>\n",
       "      <td>[col1, col2]</td>\n",
       "      <td>2.0</td>\n",
       "      <td>NaN</td>\n",
       "    </tr>\n",
       "  </tbody>\n",
       "</table>\n",
       "</div>"
      ],
      "text/plain": [
       "                                            filename  read_success  \\\n",
       "0  1999gi_2000-03-15_00-00-00_Lick-3m_KAST_SUSPEC...          True   \n",
       "1  1999gi_2000-03-15_00-00-00_Lick-3m_KAST_SUSPEC...          True   \n",
       "2  SN1999gi_2000-03-15_00-00-00_Lick-3m_KAST_LOSS...          True   \n",
       "3  SN_1999gi_2000-03-15_00-00-00_Lick-3m_KAST_UCB...          True   \n",
       "4  1999gi_2000-03-25_00-00-00_Keck1_LRIS_SUSPECT.dat          True   \n",
       "\n",
       "        columns  n_columns exception  \n",
       "0  [col1, col2]        2.0       NaN  \n",
       "1  [col1, col2]        2.0       NaN  \n",
       "2  [col1, col2]        2.0       NaN  \n",
       "3  [col1, col2]        2.0       NaN  \n",
       "4  [col1, col2]        2.0       NaN  "
      ]
     },
     "execution_count": 4,
     "metadata": {},
     "output_type": "execute_result"
    }
   ],
   "source": [
    "# Save opening success rates to a csv file\n",
    "results_df = pd.DataFrame(\n",
    "    {\n",
    "        \"filename\": spectra_info[\"Ascii file\"].values,\n",
    "        \"wise_objid\": spectra_info[\"wise_objid\"].values,\n",
    "        \"read_success\": read_success,\n",
    "        \"columns\": cols,\n",
    "        \"n_columns\": n_cols,\n",
    "        \"exception\": exception,\n",
    "    }\n",
    ")\n",
    "# results_df.to_csv(\"96.84% success read - default options.csv\", index=False)\n",
    "\n",
    "\n",
    "# Display the first few rows of the DataFrame\n",
    "results_df.head()"
   ]
  },
  {
   "cell_type": "markdown",
   "metadata": {},
   "source": [
    "## 2. See characteristics of successfully opened spectra"
   ]
  },
  {
   "cell_type": "code",
   "execution_count": 11,
   "metadata": {
    "execution": {
     "iopub.execute_input": "2025-03-14T03:11:16.868824Z",
     "iopub.status.busy": "2025-03-14T03:11:16.867888Z",
     "iopub.status.idle": "2025-03-14T03:11:16.884259Z",
     "shell.execute_reply": "2025-03-14T03:11:16.883650Z",
     "shell.execute_reply.started": "2025-03-14T03:11:16.868788Z"
    }
   },
   "outputs": [
    {
     "data": {
      "text/plain": [
       "n_columns\n",
       "1.0         1\n",
       "2.0     29120\n",
       "3.0     16633\n",
       "4.0      6037\n",
       "5.0        16\n",
       "6.0       137\n",
       "7.0       215\n",
       "8.0       140\n",
       "10.0        1\n",
       "11.0        1\n",
       "Name: count, dtype: int64"
      ]
     },
     "execution_count": 11,
     "metadata": {},
     "output_type": "execute_result"
    }
   ],
   "source": [
    "# how many cols?\n",
    "results_df[\"n_columns\"].value_counts().sort_index()"
   ]
  },
  {
   "cell_type": "code",
   "execution_count": 12,
   "metadata": {
    "execution": {
     "iopub.execute_input": "2025-03-14T03:11:17.563945Z",
     "iopub.status.busy": "2025-03-14T03:11:17.563535Z",
     "iopub.status.idle": "2025-03-14T03:11:17.827776Z",
     "shell.execute_reply": "2025-03-14T03:11:17.827503Z",
     "shell.execute_reply.started": "2025-03-14T03:11:17.563920Z"
    }
   },
   "outputs": [
    {
     "data": {
      "text/plain": [
       "0         \n",
       "ascii         16834\n",
       "dat           10133\n",
       "flm            9541\n",
       "csv            5881\n",
       "txt            5432\n",
       "asci           5380\n",
       "spec            352\n",
       "clean           107\n",
       "asc             102\n",
       "cat              38\n",
       "cal              27\n",
       "ecsv             22\n",
       "cal_galsub       16\n",
       "text             14\n",
       "xy                4\n",
       "7                 3\n",
       "1                 3\n",
       "6                 2\n",
       "5                 2\n",
       "2                 2\n",
       "tab               2\n",
       "noheader          2\n",
       "9                 1\n",
       "spek              1\n",
       "190_ascii         1\n",
       "tx                1\n",
       "mod               1\n",
       "27-salt           1\n",
       "324_ascii         1\n",
       "4                 1\n",
       "627_ascii         1\n",
       "695_ascii         1\n",
       "0                 1\n",
       "Name: count, dtype: int64"
      ]
     },
     "execution_count": 12,
     "metadata": {},
     "output_type": "execute_result"
    }
   ],
   "source": [
    "# Extract file extensions from the Ascii file column\n",
    "file_extensions = spectra_info[\"Ascii file\"].str.lower().str.extract(r\"\\.([^.]+)$\")\n",
    "file_extensions.value_counts()"
   ]
  },
  {
   "cell_type": "code",
   "execution_count": 13,
   "metadata": {
    "execution": {
     "iopub.execute_input": "2025-03-14T03:11:20.094206Z",
     "iopub.status.busy": "2025-03-14T03:11:20.093147Z",
     "iopub.status.idle": "2025-03-14T03:11:20.139281Z",
     "shell.execute_reply": "2025-03-14T03:11:20.138776Z",
     "shell.execute_reply.started": "2025-03-14T03:11:20.094139Z"
    }
   },
   "outputs": [],
   "source": [
    "# What if we limit ourselves to spectra from a single telescope (p60)?\n",
    "p60df = spectra_info[spectra_info[\"Telescope\"] == \"P60\"]\n",
    "\n",
    "p60_results_df = results_df.set_index(\"filename\").loc[\n",
    "    p60df[\"Ascii file\"].values\n",
    "]"
   ]
  },
  {
   "cell_type": "code",
   "execution_count": 14,
   "metadata": {
    "execution": {
     "iopub.execute_input": "2025-03-14T03:11:20.287118Z",
     "iopub.status.busy": "2025-03-14T03:11:20.286389Z",
     "iopub.status.idle": "2025-03-14T03:11:20.302703Z",
     "shell.execute_reply": "2025-03-14T03:11:20.301958Z",
     "shell.execute_reply.started": "2025-03-14T03:11:20.287084Z"
    }
   },
   "outputs": [
    {
     "data": {
      "text/plain": [
       "read_success\n",
       "True     6274\n",
       "False      30\n",
       "Name: count, dtype: int64"
      ]
     },
     "execution_count": 14,
     "metadata": {},
     "output_type": "execute_result"
    }
   ],
   "source": [
    "p60_results_df[\"read_success\"].value_counts()"
   ]
  },
  {
   "cell_type": "markdown",
   "metadata": {},
   "source": [
    "## 3. Read and plot a single spectra"
   ]
  },
  {
   "cell_type": "markdown",
   "metadata": {},
   "source": [
    "### 3.1. Handchosen spectra"
   ]
  },
  {
   "cell_type": "code",
   "execution_count": 4,
   "metadata": {
    "execution": {
     "iopub.execute_input": "2025-03-14T17:20:28.355987Z",
     "iopub.status.busy": "2025-03-14T17:20:28.355594Z",
     "iopub.status.idle": "2025-03-14T17:20:28.492953Z",
     "shell.execute_reply": "2025-03-14T17:20:28.492546Z",
     "shell.execute_reply.started": "2025-03-14T17:20:28.355963Z"
    }
   },
   "outputs": [],
   "source": [
    "results_df = pd.read_csv(\"96.84% success read - default options.csv\")"
   ]
  },
  {
   "cell_type": "code",
   "execution_count": 5,
   "metadata": {
    "execution": {
     "iopub.execute_input": "2025-03-14T17:20:28.716330Z",
     "iopub.status.busy": "2025-03-14T17:20:28.715829Z",
     "iopub.status.idle": "2025-03-14T17:20:28.740745Z",
     "shell.execute_reply": "2025-03-14T17:20:28.739658Z",
     "shell.execute_reply.started": "2025-03-14T17:20:28.716305Z"
    }
   },
   "outputs": [
    {
     "data": {
      "text/plain": [
       "n_columns\n",
       "1.0         1\n",
       "2.0     29120\n",
       "3.0     16633\n",
       "4.0      6037\n",
       "5.0        16\n",
       "6.0       137\n",
       "7.0       215\n",
       "8.0       140\n",
       "10.0        1\n",
       "11.0        1\n",
       "Name: count, dtype: int64"
      ]
     },
     "execution_count": 5,
     "metadata": {},
     "output_type": "execute_result"
    }
   ],
   "source": [
    "results_df[\"n_columns\"].value_counts().sort_index()"
   ]
  },
  {
   "cell_type": "markdown",
   "metadata": {},
   "source": [
    "## Sid's notes:\n",
    "1. 1 col: `SN2014L_2014-01-27_00-00-00_XLT_BFOSC_None.dat`'s 1 col has \\t seperation for wavelength-flux.\n",
    "2. 2 cols: wavelength, flux (units in header file)\n",
    "3. 3 cols: "
   ]
  },
  {
   "cell_type": "code",
   "execution_count": 6,
   "metadata": {
    "execution": {
     "iopub.execute_input": "2025-03-14T17:20:31.561640Z",
     "iopub.status.busy": "2025-03-14T17:20:31.561290Z",
     "iopub.status.idle": "2025-03-14T17:20:31.571437Z",
     "shell.execute_reply": "2025-03-14T17:20:31.570877Z",
     "shell.execute_reply.started": "2025-03-14T17:20:31.561617Z"
    }
   },
   "outputs": [
    {
     "data": {
      "text/html": [
       "<div>\n",
       "<style scoped>\n",
       "    .dataframe tbody tr th:only-of-type {\n",
       "        vertical-align: middle;\n",
       "    }\n",
       "\n",
       "    .dataframe tbody tr th {\n",
       "        vertical-align: top;\n",
       "    }\n",
       "\n",
       "    .dataframe thead th {\n",
       "        text-align: right;\n",
       "    }\n",
       "</style>\n",
       "<table border=\"1\" class=\"dataframe\">\n",
       "  <thead>\n",
       "    <tr style=\"text-align: right;\">\n",
       "      <th></th>\n",
       "      <th>wise_objid</th>\n",
       "      <th>filename</th>\n",
       "      <th>read_success</th>\n",
       "      <th>columns</th>\n",
       "      <th>n_columns</th>\n",
       "      <th>exception</th>\n",
       "    </tr>\n",
       "  </thead>\n",
       "  <tbody>\n",
       "    <tr>\n",
       "      <th>53581</th>\n",
       "      <td>15026</td>\n",
       "      <td>DES17E2bhj_2017-10-23_AAT_AAOmega-2DF_None.dat</td>\n",
       "      <td>True</td>\n",
       "      <td>['col1', 'col2', 'col3']</td>\n",
       "      <td>3.0</td>\n",
       "      <td>NaN</td>\n",
       "    </tr>\n",
       "    <tr>\n",
       "      <th>53587</th>\n",
       "      <td>15025</td>\n",
       "      <td>DES17C3bei_2017-11-16_AAT_AAOmega-2DF_None.dat</td>\n",
       "      <td>True</td>\n",
       "      <td>['col1', 'col2', 'col3']</td>\n",
       "      <td>3.0</td>\n",
       "      <td>NaN</td>\n",
       "    </tr>\n",
       "    <tr>\n",
       "      <th>53589</th>\n",
       "      <td>15030</td>\n",
       "      <td>DES17X3dub_2017-11-16_AAT_AAOmega-2DF_None.dat</td>\n",
       "      <td>True</td>\n",
       "      <td>['col1', 'col2', 'col3']</td>\n",
       "      <td>3.0</td>\n",
       "      <td>NaN</td>\n",
       "    </tr>\n",
       "    <tr>\n",
       "      <th>53591</th>\n",
       "      <td>15028</td>\n",
       "      <td>DES17X1aow_2017-11-19_AAT_AAOmega-2DF_None.dat</td>\n",
       "      <td>True</td>\n",
       "      <td>['col1', 'col2', 'col3']</td>\n",
       "      <td>3.0</td>\n",
       "      <td>NaN</td>\n",
       "    </tr>\n",
       "    <tr>\n",
       "      <th>53592</th>\n",
       "      <td>15029</td>\n",
       "      <td>DES17X1axb_2017-11-19_AAT_AAOmega-2DF_None.dat</td>\n",
       "      <td>True</td>\n",
       "      <td>['col1', 'col2', 'col3']</td>\n",
       "      <td>3.0</td>\n",
       "      <td>NaN</td>\n",
       "    </tr>\n",
       "  </tbody>\n",
       "</table>\n",
       "</div>"
      ],
      "text/plain": [
       "       wise_objid                                        filename  \\\n",
       "53581       15026  DES17E2bhj_2017-10-23_AAT_AAOmega-2DF_None.dat   \n",
       "53587       15025  DES17C3bei_2017-11-16_AAT_AAOmega-2DF_None.dat   \n",
       "53589       15030  DES17X3dub_2017-11-16_AAT_AAOmega-2DF_None.dat   \n",
       "53591       15028  DES17X1aow_2017-11-19_AAT_AAOmega-2DF_None.dat   \n",
       "53592       15029  DES17X1axb_2017-11-19_AAT_AAOmega-2DF_None.dat   \n",
       "\n",
       "       read_success                   columns  n_columns exception  \n",
       "53581          True  ['col1', 'col2', 'col3']        3.0       NaN  \n",
       "53587          True  ['col1', 'col2', 'col3']        3.0       NaN  \n",
       "53589          True  ['col1', 'col2', 'col3']        3.0       NaN  \n",
       "53591          True  ['col1', 'col2', 'col3']        3.0       NaN  \n",
       "53592          True  ['col1', 'col2', 'col3']        3.0       NaN  "
      ]
     },
     "execution_count": 6,
     "metadata": {},
     "output_type": "execute_result"
    }
   ],
   "source": [
    "results_df[results_df[\"n_columns\"]==3].tail()"
   ]
  },
  {
   "cell_type": "code",
   "execution_count": 8,
   "metadata": {
    "execution": {
     "iopub.execute_input": "2025-03-14T17:22:33.161251Z",
     "iopub.status.busy": "2025-03-14T17:22:33.160894Z",
     "iopub.status.idle": "2025-03-14T17:22:33.237828Z",
     "shell.execute_reply": "2025-03-14T17:22:33.237125Z",
     "shell.execute_reply.started": "2025-03-14T17:22:33.161226Z"
    }
   },
   "outputs": [
    {
     "data": {
      "text/html": [
       "<div>\n",
       "<style scoped>\n",
       "    .dataframe tbody tr th:only-of-type {\n",
       "        vertical-align: middle;\n",
       "    }\n",
       "\n",
       "    .dataframe tbody tr th {\n",
       "        vertical-align: top;\n",
       "    }\n",
       "\n",
       "    .dataframe thead th {\n",
       "        text-align: right;\n",
       "    }\n",
       "</style>\n",
       "<table border=\"1\" class=\"dataframe\">\n",
       "  <thead>\n",
       "    <tr style=\"text-align: right;\">\n",
       "      <th></th>\n",
       "      <th>col1</th>\n",
       "      <th>col2</th>\n",
       "      <th>col3</th>\n",
       "    </tr>\n",
       "  </thead>\n",
       "  <tbody>\n",
       "    <tr>\n",
       "      <th>0</th>\n",
       "      <td>3752.499050</td>\n",
       "      <td>-198.682404</td>\n",
       "      <td>216.414429</td>\n",
       "    </tr>\n",
       "    <tr>\n",
       "      <th>1</th>\n",
       "      <td>3753.536701</td>\n",
       "      <td>26.505548</td>\n",
       "      <td>224.925140</td>\n",
       "    </tr>\n",
       "    <tr>\n",
       "      <th>2</th>\n",
       "      <td>3754.574353</td>\n",
       "      <td>202.917648</td>\n",
       "      <td>228.259811</td>\n",
       "    </tr>\n",
       "    <tr>\n",
       "      <th>3</th>\n",
       "      <td>3755.612004</td>\n",
       "      <td>130.071289</td>\n",
       "      <td>221.845718</td>\n",
       "    </tr>\n",
       "    <tr>\n",
       "      <th>4</th>\n",
       "      <td>3756.649655</td>\n",
       "      <td>-4.904921</td>\n",
       "      <td>215.443115</td>\n",
       "    </tr>\n",
       "    <tr>\n",
       "      <th>...</th>\n",
       "      <td>...</td>\n",
       "      <td>...</td>\n",
       "      <td>...</td>\n",
       "    </tr>\n",
       "    <tr>\n",
       "      <th>4925</th>\n",
       "      <td>8871.232255</td>\n",
       "      <td>74.170952</td>\n",
       "      <td>65.170082</td>\n",
       "    </tr>\n",
       "    <tr>\n",
       "      <th>4926</th>\n",
       "      <td>8872.269906</td>\n",
       "      <td>41.366215</td>\n",
       "      <td>44.078735</td>\n",
       "    </tr>\n",
       "    <tr>\n",
       "      <th>4927</th>\n",
       "      <td>8873.307557</td>\n",
       "      <td>46.970890</td>\n",
       "      <td>38.326050</td>\n",
       "    </tr>\n",
       "    <tr>\n",
       "      <th>4928</th>\n",
       "      <td>8874.345208</td>\n",
       "      <td>36.897865</td>\n",
       "      <td>35.209091</td>\n",
       "    </tr>\n",
       "    <tr>\n",
       "      <th>4929</th>\n",
       "      <td>8875.382859</td>\n",
       "      <td>19.149361</td>\n",
       "      <td>35.745750</td>\n",
       "    </tr>\n",
       "  </tbody>\n",
       "</table>\n",
       "<p>4930 rows × 3 columns</p>\n",
       "</div>"
      ],
      "text/plain": [
       "             col1        col2        col3\n",
       "0     3752.499050 -198.682404  216.414429\n",
       "1     3753.536701   26.505548  224.925140\n",
       "2     3754.574353  202.917648  228.259811\n",
       "3     3755.612004  130.071289  221.845718\n",
       "4     3756.649655   -4.904921  215.443115\n",
       "...           ...         ...         ...\n",
       "4925  8871.232255   74.170952   65.170082\n",
       "4926  8872.269906   41.366215   44.078735\n",
       "4927  8873.307557   46.970890   38.326050\n",
       "4928  8874.345208   36.897865   35.209091\n",
       "4929  8875.382859   19.149361   35.745750\n",
       "\n",
       "[4930 rows x 3 columns]"
      ]
     },
     "execution_count": 8,
     "metadata": {},
     "output_type": "execute_result"
    }
   ],
   "source": [
    "# SHOW FED: iloc[53581] https://www.wiserep.org/object/15026\n",
    "fn = results_df.iloc[53581][\"filename\"]\n",
    "\n",
    "# fn = \"SN2021rcn_2021-07-08_08-21-34_Magellan-Baade_IMACS_TNS.txt\"\n",
    "\n",
    "df = ascii.read(\n",
    "    f\"../1. download ALL wise data/wiserep_data/spectra/{fn}\"\n",
    ")\n",
    "df.to_pandas()"
   ]
  },
  {
   "cell_type": "code",
   "execution_count": 12,
   "metadata": {
    "execution": {
     "iopub.execute_input": "2025-03-14T17:22:55.684021Z",
     "iopub.status.busy": "2025-03-14T17:22:55.683593Z",
     "iopub.status.idle": "2025-03-14T17:22:55.709647Z",
     "shell.execute_reply": "2025-03-14T17:22:55.709218Z",
     "shell.execute_reply.started": "2025-03-14T17:22:55.683997Z"
    }
   },
   "outputs": [
    {
     "data": {
      "text/html": [
       "<div>\n",
       "<style scoped>\n",
       "    .dataframe tbody tr th:only-of-type {\n",
       "        vertical-align: middle;\n",
       "    }\n",
       "\n",
       "    .dataframe tbody tr th {\n",
       "        vertical-align: top;\n",
       "    }\n",
       "\n",
       "    .dataframe thead th {\n",
       "        text-align: right;\n",
       "    }\n",
       "</style>\n",
       "<table border=\"1\" class=\"dataframe\">\n",
       "  <thead>\n",
       "    <tr style=\"text-align: right;\">\n",
       "      <th></th>\n",
       "      <th>wise_objid</th>\n",
       "      <th>IAU name</th>\n",
       "      <th>Internal name/s</th>\n",
       "      <th>Obj. RA</th>\n",
       "      <th>Obj. DEC</th>\n",
       "      <th>Obj. Type</th>\n",
       "      <th>Redshift</th>\n",
       "      <th>Spec. ID</th>\n",
       "      <th>Obs-date</th>\n",
       "      <th>JD</th>\n",
       "      <th>...</th>\n",
       "      <th>Grating</th>\n",
       "      <th>Blaze</th>\n",
       "      <th>Lambda-min</th>\n",
       "      <th>Lambda-max</th>\n",
       "      <th>Del-Lambda</th>\n",
       "      <th>Contrib</th>\n",
       "      <th>Publish</th>\n",
       "      <th>Remarks</th>\n",
       "      <th>Created by</th>\n",
       "      <th>Creation date</th>\n",
       "    </tr>\n",
       "  </thead>\n",
       "  <tbody>\n",
       "    <tr>\n",
       "      <th>39878</th>\n",
       "      <td>15026</td>\n",
       "      <td>NaN</td>\n",
       "      <td>DES17E2bhj</td>\n",
       "      <td>9.944611</td>\n",
       "      <td>-43.976059</td>\n",
       "      <td>SN II</td>\n",
       "      <td>0.1864</td>\n",
       "      <td>57446</td>\n",
       "      <td>2017-10-23 00:00:00.00</td>\n",
       "      <td>2458049.5</td>\n",
       "      <td>...</td>\n",
       "      <td>NaN</td>\n",
       "      <td>NaN</td>\n",
       "      <td>3752.49905</td>\n",
       "      <td>8875.382859</td>\n",
       "      <td>1.039125</td>\n",
       "      <td>de Jaeger et al. 2020</td>\n",
       "      <td>2020MNRAS.495.4860D</td>\n",
       "      <td>NaN</td>\n",
       "      <td>WIS_Bot1</td>\n",
       "      <td>2020-07-09 06:41:00</td>\n",
       "    </tr>\n",
       "  </tbody>\n",
       "</table>\n",
       "<p>1 rows × 46 columns</p>\n",
       "</div>"
      ],
      "text/plain": [
       "       wise_objid IAU name Internal name/s   Obj. RA   Obj. DEC Obj. Type  \\\n",
       "39878       15026      NaN      DES17E2bhj  9.944611 -43.976059     SN II   \n",
       "\n",
       "       Redshift  Spec. ID                Obs-date         JD  ...  Grating  \\\n",
       "39878    0.1864     57446  2017-10-23 00:00:00.00  2458049.5  ...      NaN   \n",
       "\n",
       "       Blaze  Lambda-min   Lambda-max Del-Lambda                Contrib  \\\n",
       "39878    NaN  3752.49905  8875.382859   1.039125  de Jaeger et al. 2020   \n",
       "\n",
       "                   Publish Remarks Created by        Creation date  \n",
       "39878  2020MNRAS.495.4860D     NaN   WIS_Bot1  2020-07-09 06:41:00  \n",
       "\n",
       "[1 rows x 46 columns]"
      ]
     },
     "execution_count": 12,
     "metadata": {},
     "output_type": "execute_result"
    }
   ],
   "source": [
    "spectra_info[spectra_info[\"Ascii file\"]==fn]"
   ]
  },
  {
   "cell_type": "code",
   "execution_count": 14,
   "metadata": {
    "execution": {
     "iopub.execute_input": "2025-03-14T17:19:08.953693Z",
     "iopub.status.busy": "2025-03-14T17:19:08.953026Z",
     "iopub.status.idle": "2025-03-14T17:19:09.047740Z",
     "shell.execute_reply": "2025-03-14T17:19:09.047383Z",
     "shell.execute_reply.started": "2025-03-14T17:19:08.953667Z"
    }
   },
   "outputs": [
    {
     "data": {
      "text/plain": [
       "[<matplotlib.lines.Line2D at 0x14da7e950>]"
      ]
     },
     "execution_count": 14,
     "metadata": {},
     "output_type": "execute_result"
    },
    {
     "data": {
      "image/png": "[encoded data removed]",
      "text/plain": [
       "<Figure size 640x480 with 1 Axes>"
      ]
     },
     "metadata": {},
     "output_type": "display_data"
    }
   ],
   "source": [
    "x = df.to_pandas().to_numpy()[:, 0]\n",
    "y1 = df.to_pandas().to_numpy()[:, 1]\n",
    "y2 = df.to_pandas().to_numpy()[:, 2]\n",
    "\n",
    "plt.plot(x,y2)"
   ]
  },
  {
   "cell_type": "markdown",
   "metadata": {},
   "source": [
    "### 3.2. Random spectra"
   ]
  },
  {
   "cell_type": "code",
   "execution_count": 7,
   "metadata": {
    "execution": {
     "iopub.execute_input": "2025-03-14T02:49:23.269326Z",
     "iopub.status.busy": "2025-03-14T02:49:23.268748Z",
     "iopub.status.idle": "2025-03-14T02:49:23.867130Z",
     "shell.execute_reply": "2025-03-14T02:49:23.866894Z",
     "shell.execute_reply.started": "2025-03-14T02:49:23.269291Z"
    }
   },
   "outputs": [
    {
     "name": "stdout",
     "output_type": "stream",
     "text": [
      "2018bsz_2018-06-09_VLT-UT2_X-Shooter_Giorgos-Space.txt\n"
     ]
    },
    {
     "data": {
      "text/html": [
       "<div>\n",
       "<style scoped>\n",
       "    .dataframe tbody tr th:only-of-type {\n",
       "        vertical-align: middle;\n",
       "    }\n",
       "\n",
       "    .dataframe tbody tr th {\n",
       "        vertical-align: top;\n",
       "    }\n",
       "\n",
       "    .dataframe thead th {\n",
       "        text-align: right;\n",
       "    }\n",
       "</style>\n",
       "<table border=\"1\" class=\"dataframe\">\n",
       "  <thead>\n",
       "    <tr style=\"text-align: right;\">\n",
       "      <th></th>\n",
       "      <th>col1</th>\n",
       "      <th>col2</th>\n",
       "      <th>col3</th>\n",
       "    </tr>\n",
       "  </thead>\n",
       "  <tbody>\n",
       "    <tr>\n",
       "      <th>0</th>\n",
       "      <td>3200.10</td>\n",
       "      <td>6.941340e-15</td>\n",
       "      <td>4.688250e-16</td>\n",
       "    </tr>\n",
       "    <tr>\n",
       "      <th>1</th>\n",
       "      <td>3200.30</td>\n",
       "      <td>6.395860e-15</td>\n",
       "      <td>4.508930e-16</td>\n",
       "    </tr>\n",
       "    <tr>\n",
       "      <th>2</th>\n",
       "      <td>3200.50</td>\n",
       "      <td>6.812340e-15</td>\n",
       "      <td>4.548230e-16</td>\n",
       "    </tr>\n",
       "    <tr>\n",
       "      <th>3</th>\n",
       "      <td>3200.70</td>\n",
       "      <td>6.510880e-15</td>\n",
       "      <td>4.482360e-16</td>\n",
       "    </tr>\n",
       "    <tr>\n",
       "      <th>4</th>\n",
       "      <td>3200.90</td>\n",
       "      <td>7.070210e-15</td>\n",
       "      <td>4.517840e-16</td>\n",
       "    </tr>\n",
       "    <tr>\n",
       "      <th>...</th>\n",
       "      <td>...</td>\n",
       "      <td>...</td>\n",
       "      <td>...</td>\n",
       "    </tr>\n",
       "    <tr>\n",
       "      <th>59175</th>\n",
       "      <td>24793.78</td>\n",
       "      <td>-7.430620e-17</td>\n",
       "      <td>3.589720e-17</td>\n",
       "    </tr>\n",
       "    <tr>\n",
       "      <th>59176</th>\n",
       "      <td>24794.38</td>\n",
       "      <td>-7.112810e-17</td>\n",
       "      <td>3.589670e-17</td>\n",
       "    </tr>\n",
       "    <tr>\n",
       "      <th>59177</th>\n",
       "      <td>24794.98</td>\n",
       "      <td>-7.142030e-17</td>\n",
       "      <td>3.590910e-17</td>\n",
       "    </tr>\n",
       "    <tr>\n",
       "      <th>59178</th>\n",
       "      <td>24795.58</td>\n",
       "      <td>-6.880240e-17</td>\n",
       "      <td>3.591600e-17</td>\n",
       "    </tr>\n",
       "    <tr>\n",
       "      <th>59179</th>\n",
       "      <td>24796.18</td>\n",
       "      <td>-6.911560e-17</td>\n",
       "      <td>3.592210e-17</td>\n",
       "    </tr>\n",
       "  </tbody>\n",
       "</table>\n",
       "<p>59180 rows × 3 columns</p>\n",
       "</div>"
      ],
      "text/plain": [
       "           col1          col2          col3\n",
       "0       3200.10  6.941340e-15  4.688250e-16\n",
       "1       3200.30  6.395860e-15  4.508930e-16\n",
       "2       3200.50  6.812340e-15  4.548230e-16\n",
       "3       3200.70  6.510880e-15  4.482360e-16\n",
       "4       3200.90  7.070210e-15  4.517840e-16\n",
       "...         ...           ...           ...\n",
       "59175  24793.78 -7.430620e-17  3.589720e-17\n",
       "59176  24794.38 -7.112810e-17  3.589670e-17\n",
       "59177  24794.98 -7.142030e-17  3.590910e-17\n",
       "59178  24795.58 -6.880240e-17  3.591600e-17\n",
       "59179  24796.18 -6.911560e-17  3.592210e-17\n",
       "\n",
       "[59180 rows x 3 columns]"
      ]
     },
     "execution_count": 7,
     "metadata": {},
     "output_type": "execute_result"
    }
   ],
   "source": [
    "# fn = p60df.sample(n=1)[\"Ascii file\"].values[0]\n",
    "fn = spectra_info.sample(n=1)[\"Ascii file\"].values[0]\n",
    "\n",
    "print(fn)\n",
    "df = ascii.read(\n",
    "    f\"../1. download ALL wise data/wiserep_data/spectra/{fn}\",\n",
    ")\n",
    "df.to_pandas()"
   ]
  },
  {
   "cell_type": "code",
   "execution_count": 152,
   "metadata": {
    "execution": {
     "iopub.execute_input": "2025-03-13T18:24:11.056193Z",
     "iopub.status.busy": "2025-03-13T18:24:11.055562Z",
     "iopub.status.idle": "2025-03-13T18:24:11.091797Z",
     "shell.execute_reply": "2025-03-13T18:24:11.091045Z",
     "shell.execute_reply.started": "2025-03-13T18:24:11.056162Z"
    }
   },
   "outputs": [
    {
     "ename": "IndexError",
     "evalue": "index 1 is out of bounds for axis 1 with size 1",
     "output_type": "error",
     "traceback": [
      "\u001b[0;31m---------------------------------------------------------------------------\u001b[0m",
      "\u001b[0;31mIndexError\u001b[0m                                Traceback (most recent call last)",
      "Cell \u001b[0;32mIn[152], line 2\u001b[0m\n\u001b[1;32m      1\u001b[0m x \u001b[38;5;241m=\u001b[39m df\u001b[38;5;241m.\u001b[39mto_pandas()\u001b[38;5;241m.\u001b[39mto_numpy()[:, \u001b[38;5;241m0\u001b[39m]\n\u001b[0;32m----> 2\u001b[0m y1 \u001b[38;5;241m=\u001b[39m \u001b[43mdf\u001b[49m\u001b[38;5;241;43m.\u001b[39;49m\u001b[43mto_pandas\u001b[49m\u001b[43m(\u001b[49m\u001b[43m)\u001b[49m\u001b[38;5;241;43m.\u001b[39;49m\u001b[43mto_numpy\u001b[49m\u001b[43m(\u001b[49m\u001b[43m)\u001b[49m\u001b[43m[\u001b[49m\u001b[43m:\u001b[49m\u001b[43m,\u001b[49m\u001b[43m \u001b[49m\u001b[38;5;241;43m1\u001b[39;49m\u001b[43m]\u001b[49m\n\u001b[1;32m      3\u001b[0m y2 \u001b[38;5;241m=\u001b[39m df\u001b[38;5;241m.\u001b[39mto_pandas()\u001b[38;5;241m.\u001b[39mto_numpy()[:, \u001b[38;5;241m2\u001b[39m]\n",
      "\u001b[0;31mIndexError\u001b[0m: index 1 is out of bounds for axis 1 with size 1"
     ]
    }
   ],
   "source": [
    "x = df.to_pandas().to_numpy()[:, 0]\n",
    "y1 = df.to_pandas().to_numpy()[:, 1]\n",
    "y2 = df.to_pandas().to_numpy()[:, 2]"
   ]
  },
  {
   "cell_type": "code",
   "execution_count": 22,
   "metadata": {
    "execution": {
     "iopub.execute_input": "2025-03-13T13:46:03.295034Z",
     "iopub.status.busy": "2025-03-13T13:46:03.294451Z",
     "iopub.status.idle": "2025-03-13T13:46:03.301381Z",
     "shell.execute_reply": "2025-03-13T13:46:03.300730Z",
     "shell.execute_reply.started": "2025-03-13T13:46:03.295008Z"
    }
   },
   "outputs": [
    {
     "data": {
      "text/plain": [
       "np.float64(6691.8)"
      ]
     },
     "execution_count": 22,
     "metadata": {},
     "output_type": "execute_result"
    }
   ],
   "source": [
    "x[y1.argmax()]"
   ]
  },
  {
   "cell_type": "code",
   "execution_count": 76,
   "metadata": {
    "execution": {
     "iopub.execute_input": "2025-03-13T14:06:43.051363Z",
     "iopub.status.busy": "2025-03-13T14:06:43.049787Z",
     "iopub.status.idle": "2025-03-13T14:06:43.172737Z",
     "shell.execute_reply": "2025-03-13T14:06:43.172494Z",
     "shell.execute_reply.started": "2025-03-13T14:06:43.051267Z"
    }
   },
   "outputs": [
    {
     "data": {
      "image/png": "[encoded data removed]",
      "text/plain": [
       "<Figure size 500x600 with 2 Axes>"
      ]
     },
     "metadata": {},
     "output_type": "display_data"
    }
   ],
   "source": [
    "fig, (ax1, ax2) = plt.subplots(2, 1, figsize=(5, 6), sharex=True)\n",
    "\n",
    "# Plot y1 in the first subplot\n",
    "ax1.plot(x, y1, label=\"y1\")\n",
    "ax1.legend()\n",
    "\n",
    "# Plot y2 in the second subplot\n",
    "ax2.plot(x, y2, label=\"y2\", color=\"orange\")\n",
    "ax2.set_xlabel(\"Wavelength\")\n",
    "ax2.legend()\n",
    "\n",
    "plt.suptitle(fn)\n",
    "plt.tight_layout()\n",
    "plt.show()"
   ]
  },
  {
   "cell_type": "code",
   "execution_count": 211,
   "metadata": {
    "execution": {
     "iopub.execute_input": "2025-03-13T20:07:49.845638Z",
     "iopub.status.busy": "2025-03-13T20:07:49.844559Z",
     "iopub.status.idle": "2025-03-13T20:07:49.912871Z",
     "shell.execute_reply": "2025-03-13T20:07:49.912420Z",
     "shell.execute_reply.started": "2025-03-13T20:07:49.845601Z"
    }
   },
   "outputs": [
    {
     "data": {
      "text/html": [
       "<div>\n",
       "<style scoped>\n",
       "    .dataframe tbody tr th:only-of-type {\n",
       "        vertical-align: middle;\n",
       "    }\n",
       "\n",
       "    .dataframe tbody tr th {\n",
       "        vertical-align: top;\n",
       "    }\n",
       "\n",
       "    .dataframe thead th {\n",
       "        text-align: right;\n",
       "    }\n",
       "</style>\n",
       "<table border=\"1\" class=\"dataframe\">\n",
       "  <thead>\n",
       "    <tr style=\"text-align: right;\">\n",
       "      <th></th>\n",
       "      <th>IAU name</th>\n",
       "      <th>Internal name/s</th>\n",
       "      <th>Obj. RA</th>\n",
       "      <th>Obj. DEC</th>\n",
       "      <th>Obj. Type</th>\n",
       "      <th>Redshift</th>\n",
       "      <th>Spec. ID</th>\n",
       "      <th>Obs-date</th>\n",
       "      <th>JD</th>\n",
       "      <th>Phase (days)</th>\n",
       "      <th>...</th>\n",
       "      <th>Grating</th>\n",
       "      <th>Blaze</th>\n",
       "      <th>Lambda-min</th>\n",
       "      <th>Lambda-max</th>\n",
       "      <th>Del-Lambda</th>\n",
       "      <th>Contrib</th>\n",
       "      <th>Publish</th>\n",
       "      <th>Remarks</th>\n",
       "      <th>Created by</th>\n",
       "      <th>Creation date</th>\n",
       "    </tr>\n",
       "  </thead>\n",
       "  <tbody>\n",
       "    <tr>\n",
       "      <th>0</th>\n",
       "      <td>SN 1999gi</td>\n",
       "      <td>NaN</td>\n",
       "      <td>154.569420</td>\n",
       "      <td>41.44117</td>\n",
       "      <td>SN IIP</td>\n",
       "      <td>0.001961</td>\n",
       "      <td>10912</td>\n",
       "      <td>2000-03-15 00:00:00.00</td>\n",
       "      <td>2.451618e+06</td>\n",
       "      <td>NaN</td>\n",
       "      <td>...</td>\n",
       "      <td>NaN</td>\n",
       "      <td>NaN</td>\n",
       "      <td>3300.000000</td>\n",
       "      <td>5399.000000</td>\n",
       "      <td>0.999524</td>\n",
       "      <td>Leonard et al. 2002</td>\n",
       "      <td>2002AJ....124.2490L</td>\n",
       "      <td>Please note that the spectrum may have been er...</td>\n",
       "      <td>Migration From WISeREP1.0</td>\n",
       "      <td>2011-07-21 07:54:18</td>\n",
       "    </tr>\n",
       "    <tr>\n",
       "      <th>1</th>\n",
       "      <td>SN 1999gi</td>\n",
       "      <td>NaN</td>\n",
       "      <td>154.569420</td>\n",
       "      <td>41.44117</td>\n",
       "      <td>SN IIP</td>\n",
       "      <td>0.001961</td>\n",
       "      <td>10913</td>\n",
       "      <td>2000-03-15 00:00:00.00</td>\n",
       "      <td>2.451618e+06</td>\n",
       "      <td>NaN</td>\n",
       "      <td>...</td>\n",
       "      <td>NaN</td>\n",
       "      <td>NaN</td>\n",
       "      <td>5100.000000</td>\n",
       "      <td>10499.000000</td>\n",
       "      <td>0.999815</td>\n",
       "      <td>Leonard et al. 2002</td>\n",
       "      <td>2002AJ....124.2490L</td>\n",
       "      <td>Please note that the spectrum may have been er...</td>\n",
       "      <td>Migration From WISeREP1.0</td>\n",
       "      <td>2011-07-21 07:54:18</td>\n",
       "    </tr>\n",
       "    <tr>\n",
       "      <th>2</th>\n",
       "      <td>SN 1999gi</td>\n",
       "      <td>NaN</td>\n",
       "      <td>154.569420</td>\n",
       "      <td>41.44117</td>\n",
       "      <td>SN IIP</td>\n",
       "      <td>0.001961</td>\n",
       "      <td>10932</td>\n",
       "      <td>2000-03-15 00:00:00.00</td>\n",
       "      <td>2.451618e+06</td>\n",
       "      <td>NaN</td>\n",
       "      <td>...</td>\n",
       "      <td>NaN</td>\n",
       "      <td>NaN</td>\n",
       "      <td>3300.000000</td>\n",
       "      <td>10500.000000</td>\n",
       "      <td>1.999445</td>\n",
       "      <td>Shivvers et al. 2017</td>\n",
       "      <td>2017PASP..129e4201S</td>\n",
       "      <td>[Data obtained from:Shivvers, I.] [Prev. spec ...</td>\n",
       "      <td>Migration From WISeREP1.0</td>\n",
       "      <td>2011-07-21 07:54:18</td>\n",
       "    </tr>\n",
       "    <tr>\n",
       "      <th>3</th>\n",
       "      <td>SN 1999gi</td>\n",
       "      <td>NaN</td>\n",
       "      <td>154.569420</td>\n",
       "      <td>41.44117</td>\n",
       "      <td>SN IIP</td>\n",
       "      <td>0.001961</td>\n",
       "      <td>49488</td>\n",
       "      <td>2000-03-15 00:00:00.00</td>\n",
       "      <td>2.451618e+06</td>\n",
       "      <td>NaN</td>\n",
       "      <td>...</td>\n",
       "      <td>NaN</td>\n",
       "      <td>NaN</td>\n",
       "      <td>3300.000000</td>\n",
       "      <td>10500.000000</td>\n",
       "      <td>1.999445</td>\n",
       "      <td>NaN</td>\n",
       "      <td>2002AJ....124.2490L</td>\n",
       "      <td>SNR: 22.188;</td>\n",
       "      <td>WIS_Bot1</td>\n",
       "      <td>2019-01-23 10:48:35</td>\n",
       "    </tr>\n",
       "    <tr>\n",
       "      <th>4</th>\n",
       "      <td>SN 1999gi</td>\n",
       "      <td>NaN</td>\n",
       "      <td>154.569420</td>\n",
       "      <td>41.44117</td>\n",
       "      <td>SN IIP</td>\n",
       "      <td>0.001961</td>\n",
       "      <td>10914</td>\n",
       "      <td>2000-03-25 00:00:00.00</td>\n",
       "      <td>2.451628e+06</td>\n",
       "      <td>NaN</td>\n",
       "      <td>...</td>\n",
       "      <td>NaN</td>\n",
       "      <td>NaN</td>\n",
       "      <td>4380.000000</td>\n",
       "      <td>6839.000000</td>\n",
       "      <td>0.999593</td>\n",
       "      <td>Leonard et al. 2002</td>\n",
       "      <td>2002AJ....124.2490L</td>\n",
       "      <td>Please note that the spectrum may have been er...</td>\n",
       "      <td>Migration From WISeREP1.0</td>\n",
       "      <td>2011-07-21 07:54:18</td>\n",
       "    </tr>\n",
       "    <tr>\n",
       "      <th>...</th>\n",
       "      <td>...</td>\n",
       "      <td>...</td>\n",
       "      <td>...</td>\n",
       "      <td>...</td>\n",
       "      <td>...</td>\n",
       "      <td>...</td>\n",
       "      <td>...</td>\n",
       "      <td>...</td>\n",
       "      <td>...</td>\n",
       "      <td>...</td>\n",
       "      <td>...</td>\n",
       "      <td>...</td>\n",
       "      <td>...</td>\n",
       "      <td>...</td>\n",
       "      <td>...</td>\n",
       "      <td>...</td>\n",
       "      <td>...</td>\n",
       "      <td>...</td>\n",
       "      <td>...</td>\n",
       "      <td>...</td>\n",
       "      <td>...</td>\n",
       "    </tr>\n",
       "    <tr>\n",
       "      <th>54000</th>\n",
       "      <td>NaN</td>\n",
       "      <td>ZTF21aceuvhb</td>\n",
       "      <td>15.794479</td>\n",
       "      <td>3.07434</td>\n",
       "      <td>M dwarf</td>\n",
       "      <td>NaN</td>\n",
       "      <td>63947</td>\n",
       "      <td>2021-10-14 02:06:50.00</td>\n",
       "      <td>2.459502e+06</td>\n",
       "      <td>NaN</td>\n",
       "      <td>...</td>\n",
       "      <td>Free</td>\n",
       "      <td>NaN</td>\n",
       "      <td>3651.048340</td>\n",
       "      <td>9246.227457</td>\n",
       "      <td>5.512492</td>\n",
       "      <td>NaN</td>\n",
       "      <td>NaN</td>\n",
       "      <td>NaN</td>\n",
       "      <td>WIS_Bot1</td>\n",
       "      <td>2021-10-14 11:33:34</td>\n",
       "    </tr>\n",
       "    <tr>\n",
       "      <th>54001</th>\n",
       "      <td>NaN</td>\n",
       "      <td>ZTF22abgucbp</td>\n",
       "      <td>57.463603</td>\n",
       "      <td>-7.37529</td>\n",
       "      <td>AGN</td>\n",
       "      <td>0.382000</td>\n",
       "      <td>67804</td>\n",
       "      <td>2022-10-14 08:07:14.00</td>\n",
       "      <td>2.459867e+06</td>\n",
       "      <td>NaN</td>\n",
       "      <td>...</td>\n",
       "      <td>Free</td>\n",
       "      <td>NaN</td>\n",
       "      <td>3673.047852</td>\n",
       "      <td>9268.227452</td>\n",
       "      <td>5.512492</td>\n",
       "      <td>NaN</td>\n",
       "      <td>NaN</td>\n",
       "      <td>NaN</td>\n",
       "      <td>WIS_Bot1</td>\n",
       "      <td>2022-10-14 11:26:57</td>\n",
       "    </tr>\n",
       "    <tr>\n",
       "      <th>54002</th>\n",
       "      <td>NaN</td>\n",
       "      <td>ZTF20abodaps</td>\n",
       "      <td>359.810211</td>\n",
       "      <td>-17.69645</td>\n",
       "      <td>AGN</td>\n",
       "      <td>0.610000</td>\n",
       "      <td>78514</td>\n",
       "      <td>2023-10-04 06:26:57.00</td>\n",
       "      <td>2.460222e+06</td>\n",
       "      <td>NaN</td>\n",
       "      <td>...</td>\n",
       "      <td>Free</td>\n",
       "      <td>NaN</td>\n",
       "      <td>3671.381836</td>\n",
       "      <td>9267.085081</td>\n",
       "      <td>5.513008</td>\n",
       "      <td>NaN</td>\n",
       "      <td>NaN</td>\n",
       "      <td>NaN</td>\n",
       "      <td>WIS_Bot1</td>\n",
       "      <td>2023-10-04 13:16:26</td>\n",
       "    </tr>\n",
       "    <tr>\n",
       "      <th>54003</th>\n",
       "      <td>NaN</td>\n",
       "      <td>N0E8005418</td>\n",
       "      <td>315.551786</td>\n",
       "      <td>0.21671</td>\n",
       "      <td>Galaxy</td>\n",
       "      <td>0.191000</td>\n",
       "      <td>78971</td>\n",
       "      <td>2023-11-05 00:50:44.00</td>\n",
       "      <td>2.460254e+06</td>\n",
       "      <td>NaN</td>\n",
       "      <td>...</td>\n",
       "      <td>Free</td>\n",
       "      <td>NaN</td>\n",
       "      <td>3672.381836</td>\n",
       "      <td>9268.085081</td>\n",
       "      <td>5.513008</td>\n",
       "      <td>NaN</td>\n",
       "      <td>NaN</td>\n",
       "      <td>NaN</td>\n",
       "      <td>WIS_Bot1</td>\n",
       "      <td>2023-11-05 13:01:33</td>\n",
       "    </tr>\n",
       "    <tr>\n",
       "      <th>54004</th>\n",
       "      <td>NaN</td>\n",
       "      <td>SCI8003864</td>\n",
       "      <td>325.024498</td>\n",
       "      <td>-40.76959</td>\n",
       "      <td>NaN</td>\n",
       "      <td>0.000000</td>\n",
       "      <td>78972</td>\n",
       "      <td>2023-11-05 02:49:11.00</td>\n",
       "      <td>2.460254e+06</td>\n",
       "      <td>NaN</td>\n",
       "      <td>...</td>\n",
       "      <td>Free</td>\n",
       "      <td>NaN</td>\n",
       "      <td>3671.381836</td>\n",
       "      <td>9267.085081</td>\n",
       "      <td>5.513008</td>\n",
       "      <td>NaN</td>\n",
       "      <td>NaN</td>\n",
       "      <td>NaN</td>\n",
       "      <td>WIS_Bot1</td>\n",
       "      <td>2023-11-05 13:01:33</td>\n",
       "    </tr>\n",
       "  </tbody>\n",
       "</table>\n",
       "<p>54005 rows × 45 columns</p>\n",
       "</div>"
      ],
      "text/plain": [
       "        IAU name Internal name/s     Obj. RA  Obj. DEC Obj. Type  Redshift  \\\n",
       "0      SN 1999gi             NaN  154.569420  41.44117    SN IIP  0.001961   \n",
       "1      SN 1999gi             NaN  154.569420  41.44117    SN IIP  0.001961   \n",
       "2      SN 1999gi             NaN  154.569420  41.44117    SN IIP  0.001961   \n",
       "3      SN 1999gi             NaN  154.569420  41.44117    SN IIP  0.001961   \n",
       "4      SN 1999gi             NaN  154.569420  41.44117    SN IIP  0.001961   \n",
       "...          ...             ...         ...       ...       ...       ...   \n",
       "54000        NaN    ZTF21aceuvhb   15.794479   3.07434   M dwarf       NaN   \n",
       "54001        NaN    ZTF22abgucbp   57.463603  -7.37529       AGN  0.382000   \n",
       "54002        NaN    ZTF20abodaps  359.810211 -17.69645       AGN  0.610000   \n",
       "54003        NaN      N0E8005418  315.551786   0.21671    Galaxy  0.191000   \n",
       "54004        NaN      SCI8003864  325.024498 -40.76959       NaN  0.000000   \n",
       "\n",
       "       Spec. ID                Obs-date            JD  Phase (days)  ...  \\\n",
       "0         10912  2000-03-15 00:00:00.00  2.451618e+06           NaN  ...   \n",
       "1         10913  2000-03-15 00:00:00.00  2.451618e+06           NaN  ...   \n",
       "2         10932  2000-03-15 00:00:00.00  2.451618e+06           NaN  ...   \n",
       "3         49488  2000-03-15 00:00:00.00  2.451618e+06           NaN  ...   \n",
       "4         10914  2000-03-25 00:00:00.00  2.451628e+06           NaN  ...   \n",
       "...         ...                     ...           ...           ...  ...   \n",
       "54000     63947  2021-10-14 02:06:50.00  2.459502e+06           NaN  ...   \n",
       "54001     67804  2022-10-14 08:07:14.00  2.459867e+06           NaN  ...   \n",
       "54002     78514  2023-10-04 06:26:57.00  2.460222e+06           NaN  ...   \n",
       "54003     78971  2023-11-05 00:50:44.00  2.460254e+06           NaN  ...   \n",
       "54004     78972  2023-11-05 02:49:11.00  2.460254e+06           NaN  ...   \n",
       "\n",
       "       Grating Blaze   Lambda-min    Lambda-max Del-Lambda  \\\n",
       "0          NaN   NaN  3300.000000   5399.000000   0.999524   \n",
       "1          NaN   NaN  5100.000000  10499.000000   0.999815   \n",
       "2          NaN   NaN  3300.000000  10500.000000   1.999445   \n",
       "3          NaN   NaN  3300.000000  10500.000000   1.999445   \n",
       "4          NaN   NaN  4380.000000   6839.000000   0.999593   \n",
       "...        ...   ...          ...           ...        ...   \n",
       "54000     Free   NaN  3651.048340   9246.227457   5.512492   \n",
       "54001     Free   NaN  3673.047852   9268.227452   5.512492   \n",
       "54002     Free   NaN  3671.381836   9267.085081   5.513008   \n",
       "54003     Free   NaN  3672.381836   9268.085081   5.513008   \n",
       "54004     Free   NaN  3671.381836   9267.085081   5.513008   \n",
       "\n",
       "                    Contrib              Publish  \\\n",
       "0       Leonard et al. 2002  2002AJ....124.2490L   \n",
       "1       Leonard et al. 2002  2002AJ....124.2490L   \n",
       "2      Shivvers et al. 2017  2017PASP..129e4201S   \n",
       "3                       NaN  2002AJ....124.2490L   \n",
       "4       Leonard et al. 2002  2002AJ....124.2490L   \n",
       "...                     ...                  ...   \n",
       "54000                   NaN                  NaN   \n",
       "54001                   NaN                  NaN   \n",
       "54002                   NaN                  NaN   \n",
       "54003                   NaN                  NaN   \n",
       "54004                   NaN                  NaN   \n",
       "\n",
       "                                                 Remarks  \\\n",
       "0      Please note that the spectrum may have been er...   \n",
       "1      Please note that the spectrum may have been er...   \n",
       "2      [Data obtained from:Shivvers, I.] [Prev. spec ...   \n",
       "3                                           SNR: 22.188;   \n",
       "4      Please note that the spectrum may have been er...   \n",
       "...                                                  ...   \n",
       "54000                                                NaN   \n",
       "54001                                                NaN   \n",
       "54002                                                NaN   \n",
       "54003                                                NaN   \n",
       "54004                                                NaN   \n",
       "\n",
       "                       Created by        Creation date  \n",
       "0       Migration From WISeREP1.0  2011-07-21 07:54:18  \n",
       "1       Migration From WISeREP1.0  2011-07-21 07:54:18  \n",
       "2       Migration From WISeREP1.0  2011-07-21 07:54:18  \n",
       "3                        WIS_Bot1  2019-01-23 10:48:35  \n",
       "4       Migration From WISeREP1.0  2011-07-21 07:54:18  \n",
       "...                           ...                  ...  \n",
       "54000                    WIS_Bot1  2021-10-14 11:33:34  \n",
       "54001                    WIS_Bot1  2022-10-14 11:26:57  \n",
       "54002                    WIS_Bot1  2023-10-04 13:16:26  \n",
       "54003                    WIS_Bot1  2023-11-05 13:01:33  \n",
       "54004                    WIS_Bot1  2023-11-05 13:01:33  \n",
       "\n",
       "[54005 rows x 45 columns]"
      ]
     },
     "execution_count": 211,
     "metadata": {},
     "output_type": "execute_result"
    }
   ],
   "source": [
    "spectra_info"
   ]
  },
  {
   "cell_type": "code",
   "execution_count": 18,
   "metadata": {
    "execution": {
     "iopub.execute_input": "2025-03-13T13:45:53.031987Z",
     "iopub.status.busy": "2025-03-13T13:45:53.031107Z",
     "iopub.status.idle": "2025-03-13T13:45:53.172604Z",
     "shell.execute_reply": "2025-03-13T13:45:53.172125Z",
     "shell.execute_reply.started": "2025-03-13T13:45:53.031954Z"
    }
   },
   "outputs": [
    {
     "ename": "InconsistentTableError",
     "evalue": "Number of header columns (7) inconsistent with data columns (8) at data line 0\nHeader values: ['BITPIX', '=', '8', '/', '8-bit', 'ASCII', 'characters']\nData values: ['NAXIS', '=', '1', '/', 'Number', 'of', 'Image', 'Dimensions']",
     "output_type": "error",
     "traceback": [
      "\u001b[0;31m---------------------------------------------------------------------------\u001b[0m",
      "\u001b[0;31mInconsistentTableError\u001b[0m                    Traceback (most recent call last)",
      "Cell \u001b[0;32mIn[18], line 1\u001b[0m\n\u001b[0;32m----> 1\u001b[0m \u001b[43mascii\u001b[49m\u001b[38;5;241;43m.\u001b[39;49m\u001b[43mread\u001b[49m\u001b[43m(\u001b[49m\n\u001b[1;32m      2\u001b[0m \u001b[43m    \u001b[49m\u001b[38;5;124;43m\"\u001b[39;49m\u001b[38;5;124;43m../1. download ALL wise data/wiserep_data/spectra/ASASSN-14ad_2456700.6695_NOT_ALFOSC_None.dat\u001b[39;49m\u001b[38;5;124;43m\"\u001b[39;49m\u001b[43m,\u001b[49m\n\u001b[1;32m      3\u001b[0m \u001b[43m    \u001b[49m\u001b[43mguess\u001b[49m\u001b[38;5;241;43m=\u001b[39;49m\u001b[38;5;28;43;01mFalse\u001b[39;49;00m\u001b[43m,\u001b[49m\n\u001b[1;32m      4\u001b[0m \u001b[43m    \u001b[49m\u001b[43mfast_reader\u001b[49m\u001b[38;5;241;43m=\u001b[39;49m\u001b[38;5;28;43;01mFalse\u001b[39;49;00m\u001b[43m,\u001b[49m\n\u001b[1;32m      5\u001b[0m \u001b[43m)\u001b[49m\n",
      "File \u001b[0;32m~/miniconda3/envs/snwise/lib/python3.11/site-packages/astropy/utils/decorators.py:603\u001b[0m, in \u001b[0;36mdeprecated_renamed_argument.<locals>.decorator.<locals>.wrapper\u001b[0;34m(*args, **kwargs)\u001b[0m\n\u001b[1;32m    600\u001b[0m             msg \u001b[38;5;241m+\u001b[39m\u001b[38;5;241m=\u001b[39m \u001b[38;5;124mf\u001b[39m\u001b[38;5;124m\"\u001b[39m\u001b[38;5;130;01m\\n\u001b[39;00m\u001b[38;5;124m        Use \u001b[39m\u001b[38;5;132;01m{\u001b[39;00malternative\u001b[38;5;132;01m}\u001b[39;00m\u001b[38;5;124m instead.\u001b[39m\u001b[38;5;124m\"\u001b[39m\n\u001b[1;32m    601\u001b[0m         warnings\u001b[38;5;241m.\u001b[39mwarn(msg, warning_type, stacklevel\u001b[38;5;241m=\u001b[39m\u001b[38;5;241m2\u001b[39m)\n\u001b[0;32m--> 603\u001b[0m \u001b[38;5;28;01mreturn\u001b[39;00m \u001b[43mfunction\u001b[49m\u001b[43m(\u001b[49m\u001b[38;5;241;43m*\u001b[39;49m\u001b[43margs\u001b[49m\u001b[43m,\u001b[49m\u001b[43m \u001b[49m\u001b[38;5;241;43m*\u001b[39;49m\u001b[38;5;241;43m*\u001b[39;49m\u001b[43mkwargs\u001b[49m\u001b[43m)\u001b[49m\n",
      "File \u001b[0;32m~/miniconda3/envs/snwise/lib/python3.11/site-packages/astropy/utils/decorators.py:603\u001b[0m, in \u001b[0;36mdeprecated_renamed_argument.<locals>.decorator.<locals>.wrapper\u001b[0;34m(*args, **kwargs)\u001b[0m\n\u001b[1;32m    600\u001b[0m             msg \u001b[38;5;241m+\u001b[39m\u001b[38;5;241m=\u001b[39m \u001b[38;5;124mf\u001b[39m\u001b[38;5;124m\"\u001b[39m\u001b[38;5;130;01m\\n\u001b[39;00m\u001b[38;5;124m        Use \u001b[39m\u001b[38;5;132;01m{\u001b[39;00malternative\u001b[38;5;132;01m}\u001b[39;00m\u001b[38;5;124m instead.\u001b[39m\u001b[38;5;124m\"\u001b[39m\n\u001b[1;32m    601\u001b[0m         warnings\u001b[38;5;241m.\u001b[39mwarn(msg, warning_type, stacklevel\u001b[38;5;241m=\u001b[39m\u001b[38;5;241m2\u001b[39m)\n\u001b[0;32m--> 603\u001b[0m \u001b[38;5;28;01mreturn\u001b[39;00m \u001b[43mfunction\u001b[49m\u001b[43m(\u001b[49m\u001b[38;5;241;43m*\u001b[39;49m\u001b[43margs\u001b[49m\u001b[43m,\u001b[49m\u001b[43m \u001b[49m\u001b[38;5;241;43m*\u001b[39;49m\u001b[38;5;241;43m*\u001b[39;49m\u001b[43mkwargs\u001b[49m\u001b[43m)\u001b[49m\n",
      "    \u001b[0;31m[... skipping similar frames: deprecated_renamed_argument.<locals>.decorator.<locals>.wrapper at line 603 (2 times)]\u001b[0m\n",
      "File \u001b[0;32m~/miniconda3/envs/snwise/lib/python3.11/site-packages/astropy/utils/decorators.py:603\u001b[0m, in \u001b[0;36mdeprecated_renamed_argument.<locals>.decorator.<locals>.wrapper\u001b[0;34m(*args, **kwargs)\u001b[0m\n\u001b[1;32m    600\u001b[0m             msg \u001b[38;5;241m+\u001b[39m\u001b[38;5;241m=\u001b[39m \u001b[38;5;124mf\u001b[39m\u001b[38;5;124m\"\u001b[39m\u001b[38;5;130;01m\\n\u001b[39;00m\u001b[38;5;124m        Use \u001b[39m\u001b[38;5;132;01m{\u001b[39;00malternative\u001b[38;5;132;01m}\u001b[39;00m\u001b[38;5;124m instead.\u001b[39m\u001b[38;5;124m\"\u001b[39m\n\u001b[1;32m    601\u001b[0m         warnings\u001b[38;5;241m.\u001b[39mwarn(msg, warning_type, stacklevel\u001b[38;5;241m=\u001b[39m\u001b[38;5;241m2\u001b[39m)\n\u001b[0;32m--> 603\u001b[0m \u001b[38;5;28;01mreturn\u001b[39;00m \u001b[43mfunction\u001b[49m\u001b[43m(\u001b[49m\u001b[38;5;241;43m*\u001b[39;49m\u001b[43margs\u001b[49m\u001b[43m,\u001b[49m\u001b[43m \u001b[49m\u001b[38;5;241;43m*\u001b[39;49m\u001b[38;5;241;43m*\u001b[39;49m\u001b[43mkwargs\u001b[49m\u001b[43m)\u001b[49m\n",
      "File \u001b[0;32m~/miniconda3/envs/snwise/lib/python3.11/site-packages/astropy/io/ascii/ui.py:461\u001b[0m, in \u001b[0;36mread\u001b[0;34m(table, guess, **kwargs)\u001b[0m\n\u001b[1;32m    459\u001b[0m     \u001b[38;5;28;01melse\u001b[39;00m:\n\u001b[1;32m    460\u001b[0m         reader \u001b[38;5;241m=\u001b[39m get_reader(\u001b[38;5;241m*\u001b[39m\u001b[38;5;241m*\u001b[39mnew_kwargs)\n\u001b[0;32m--> 461\u001b[0m         dat \u001b[38;5;241m=\u001b[39m \u001b[43mreader\u001b[49m\u001b[38;5;241;43m.\u001b[39;49m\u001b[43mread\u001b[49m\u001b[43m(\u001b[49m\u001b[43mtable\u001b[49m\u001b[43m)\u001b[49m\n\u001b[1;32m    462\u001b[0m         _read_trace\u001b[38;5;241m.\u001b[39mappend(\n\u001b[1;32m    463\u001b[0m             {\n\u001b[1;32m    464\u001b[0m                 \u001b[38;5;124m\"\u001b[39m\u001b[38;5;124mkwargs\u001b[39m\u001b[38;5;124m\"\u001b[39m: copy\u001b[38;5;241m.\u001b[39mdeepcopy(new_kwargs),\n\u001b[0;32m   (...)\u001b[0m\n\u001b[1;32m    467\u001b[0m             }\n\u001b[1;32m    468\u001b[0m         )\n\u001b[1;32m    470\u001b[0m \u001b[38;5;66;03m# Static analysis (pyright) indicates `dat` might be left undefined, so just\u001b[39;00m\n\u001b[1;32m    471\u001b[0m \u001b[38;5;66;03m# to be sure define it at the beginning and check here.\u001b[39;00m\n",
      "File \u001b[0;32m~/miniconda3/envs/snwise/lib/python3.11/site-packages/astropy/io/ascii/core.py:1457\u001b[0m, in \u001b[0;36mBaseReader.read\u001b[0;34m(self, table)\u001b[0m\n\u001b[1;32m   1449\u001b[0m     \u001b[38;5;28;01mif\u001b[39;00m \u001b[38;5;28mlen\u001b[39m(str_vals) \u001b[38;5;241m!=\u001b[39m n_cols:\n\u001b[1;32m   1450\u001b[0m         errmsg \u001b[38;5;241m=\u001b[39m (\n\u001b[1;32m   1451\u001b[0m             \u001b[38;5;124mf\u001b[39m\u001b[38;5;124m\"\u001b[39m\u001b[38;5;124mNumber of header columns (\u001b[39m\u001b[38;5;132;01m{\u001b[39;00mn_cols\u001b[38;5;132;01m}\u001b[39;00m\u001b[38;5;124m) inconsistent with \u001b[39m\u001b[38;5;124m\"\u001b[39m\n\u001b[1;32m   1452\u001b[0m             \u001b[38;5;124mf\u001b[39m\u001b[38;5;124m\"\u001b[39m\u001b[38;5;124mdata columns (\u001b[39m\u001b[38;5;132;01m{\u001b[39;00m\u001b[38;5;28mlen\u001b[39m(str_vals)\u001b[38;5;132;01m}\u001b[39;00m\u001b[38;5;124m) at data line \u001b[39m\u001b[38;5;132;01m{\u001b[39;00mi\u001b[38;5;132;01m}\u001b[39;00m\u001b[38;5;130;01m\\n\u001b[39;00m\u001b[38;5;124m\"\u001b[39m\n\u001b[1;32m   1453\u001b[0m             \u001b[38;5;124mf\u001b[39m\u001b[38;5;124m\"\u001b[39m\u001b[38;5;124mHeader values: \u001b[39m\u001b[38;5;132;01m{\u001b[39;00m[x\u001b[38;5;241m.\u001b[39mname\u001b[38;5;250m \u001b[39m\u001b[38;5;28;01mfor\u001b[39;00m\u001b[38;5;250m \u001b[39mx\u001b[38;5;250m \u001b[39m\u001b[38;5;129;01min\u001b[39;00m\u001b[38;5;250m \u001b[39mcols]\u001b[38;5;132;01m}\u001b[39;00m\u001b[38;5;130;01m\\n\u001b[39;00m\u001b[38;5;124m\"\u001b[39m\n\u001b[1;32m   1454\u001b[0m             \u001b[38;5;124mf\u001b[39m\u001b[38;5;124m\"\u001b[39m\u001b[38;5;124mData values: \u001b[39m\u001b[38;5;132;01m{\u001b[39;00mstr_vals\u001b[38;5;132;01m}\u001b[39;00m\u001b[38;5;124m\"\u001b[39m\n\u001b[1;32m   1455\u001b[0m         )\n\u001b[0;32m-> 1457\u001b[0m         \u001b[38;5;28;01mraise\u001b[39;00m InconsistentTableError(errmsg)\n\u001b[1;32m   1459\u001b[0m \u001b[38;5;28;01mfor\u001b[39;00m j, col \u001b[38;5;129;01min\u001b[39;00m \u001b[38;5;28menumerate\u001b[39m(cols):\n\u001b[1;32m   1460\u001b[0m     col\u001b[38;5;241m.\u001b[39mstr_vals\u001b[38;5;241m.\u001b[39mappend(str_vals[j])\n",
      "\u001b[0;31mInconsistentTableError\u001b[0m: Number of header columns (7) inconsistent with data columns (8) at data line 0\nHeader values: ['BITPIX', '=', '8', '/', '8-bit', 'ASCII', 'characters']\nData values: ['NAXIS', '=', '1', '/', 'Number', 'of', 'Image', 'Dimensions']"
     ]
    }
   ],
   "source": [
    "# ascii.read(\n",
    "#     \"../1. download ALL wise data/wiserep_data/spectra/ASASSN-14ad_2456700.6695_NOT_ALFOSC_None.dat\",\n",
    "#     guess=False,\n",
    "#     fast_reader=False,\n",
    "# )"
   ]
  },
  {
   "cell_type": "code",
   "execution_count": null,
   "metadata": {},
   "outputs": [],
   "source": []
  }
 ],
 "metadata": {
  "kernelspec": {
   "display_name": "Python 3 (ipykernel)",
   "language": "python",
   "name": "python3"
  },
  "language_info": {
   "codemirror_mode": {
    "name": "ipython",
    "version": 3
   },
   "file_extension": ".py",
   "mimetype": "text/x-python",
   "name": "python",
   "nbconvert_exporter": "python",
   "pygments_lexer": "ipython3",
   "version": "3.11.11"
  }
 },
 "nbformat": 4,
 "nbformat_minor": 4
}
