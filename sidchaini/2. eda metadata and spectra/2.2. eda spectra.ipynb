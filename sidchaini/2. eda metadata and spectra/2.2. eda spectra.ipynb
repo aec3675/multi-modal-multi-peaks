{
 "cells": [
  {
   "cell_type": "code",
   "execution_count": 1,
   "metadata": {
    "execution": {
     "iopub.execute_input": "2025-04-05T22:07:51.168991Z",
     "iopub.status.busy": "2025-04-05T22:07:51.167979Z",
     "iopub.status.idle": "2025-04-05T22:07:54.250594Z",
     "shell.execute_reply": "2025-04-05T22:07:54.250261Z",
     "shell.execute_reply.started": "2025-04-05T22:07:51.168927Z"
    }
   },
   "outputs": [],
   "source": [
    "import numpy as np\n",
    "import pandas as pd\n",
    "import pylab as plt\n",
    "from tqdm.auto import tqdm\n",
    "from astropy.io import ascii"
   ]
  },
  {
   "cell_type": "markdown",
   "metadata": {},
   "source": [
    "## 1. See how many spectra (%) can be opened by Astropy"
   ]
  },
  {
   "cell_type": "code",
   "execution_count": 2,
   "metadata": {
    "execution": {
     "iopub.execute_input": "2025-04-05T22:07:54.251791Z",
     "iopub.status.busy": "2025-04-05T22:07:54.251438Z",
     "iopub.status.idle": "2025-04-05T22:07:54.554173Z",
     "shell.execute_reply": "2025-04-05T22:07:54.553905Z",
     "shell.execute_reply.started": "2025-04-05T22:07:54.251772Z"
    }
   },
   "outputs": [],
   "source": [
    "# Read spectra metadata\n",
    "spectra_info = pd.read_csv(\n",
    "    \"../1. download ALL wise data/wiserep_spectra_combined.csv\"\n",
    ")  # .set_index(' IAU name').to_dict('index')"
   ]
  },
  {
   "cell_type": "code",
   "execution_count": 3,
   "metadata": {
    "execution": {
     "iopub.execute_input": "2025-04-05T22:07:54.554573Z",
     "iopub.status.busy": "2025-04-05T22:07:54.554491Z",
     "iopub.status.idle": "2025-04-05T22:07:54.560222Z",
     "shell.execute_reply": "2025-04-05T22:07:54.559596Z",
     "shell.execute_reply.started": "2025-04-05T22:07:54.554563Z"
    }
   },
   "outputs": [
    {
     "data": {
      "text/plain": [
       "(54005, 46)"
      ]
     },
     "execution_count": 3,
     "metadata": {},
     "output_type": "execute_result"
    }
   ],
   "source": [
    "spectra_info.shape"
   ]
  },
  {
   "cell_type": "markdown",
   "metadata": {},
   "source": [
    "---\n",
    "### Run later\n",
    "---"
   ]
  },
  {
   "cell_type": "code",
   "execution_count": 3,
   "metadata": {
    "execution": {
     "iopub.execute_input": "2025-03-13T01:37:41.589257Z",
     "iopub.status.busy": "2025-03-13T01:37:41.589067Z",
     "iopub.status.idle": "2025-03-13T02:14:39.400249Z",
     "shell.execute_reply": "2025-03-13T02:14:39.399502Z",
     "shell.execute_reply.started": "2025-03-13T01:37:41.589217Z"
    }
   },
   "outputs": [
    {
     "data": {
      "application/vnd.jupyter.widget-view+json": {
       "model_id": "d7df1c08e5cb4b97b1d30b05f0eed96a",
       "version_major": 2,
       "version_minor": 0
      },
      "text/plain": [
       "Reading spectra:   0%|          | 0/54005 [00:00<?, ?it/s]"
      ]
     },
     "metadata": {},
     "output_type": "display_data"
    },
    {
     "name": "stdout",
     "output_type": "stream",
     "text": [
      "Success rate: 22315/22765 (98.02%)"
     ]
    },
    {
     "name": "stderr",
     "output_type": "stream",
     "text": [
      "WARNING: UnitsWarning: 'mW/m2/0.1nm' did not parse as cds unit: Syntax error If this is meant to be a custom unit, define it with 'u.def_unit'. To have it recognized inside a file reader or other code, enable it with 'u.add_enabled_units'. For details, see https://docs.astropy.org/en/latest/units/combining_and_defining.html [astropy.units.core]\n"
     ]
    },
    {
     "name": "stdout",
     "output_type": "stream",
     "text": [
      "Success rate: 48312/49761 (97.09%)"
     ]
    },
    {
     "name": "stderr",
     "output_type": "stream",
     "text": [
      "WARNING: OverflowError converting to FloatType in column col2, possibly resulting in degraded precision. [astropy.io.ascii.fastbasic]\n"
     ]
    },
    {
     "name": "stdout",
     "output_type": "stream",
     "text": [
      "Success rate: 52301/54005 (96.84%)"
     ]
    }
   ],
   "source": [
    "#Loop over all spectra ascii filenames and see how many can be opened\n",
    "read_success = []\n",
    "cols = []\n",
    "n_cols = []\n",
    "exception = []\n",
    "wise_ids = []\n",
    "success_count = 0\n",
    "total_count = 0\n",
    "\n",
    "for fn in tqdm(spectra_info[\"Ascii file\"].values, desc=\"Reading spectra\"):\n",
    "    total_count += 1\n",
    "    try:\n",
    "        tab = sidhelpers.read_spectra((f\"../1. download ALL wise data/wiserep_data/spectra/{fn}\")\n",
    "        # default: guess=True\n",
    "        read_success.append(True)\n",
    "        cols.append(tab.colnames)\n",
    "        n_cols.append(len(tab.colnames))\n",
    "        exception.append(np.nan)\n",
    "        success_count += 1\n",
    "        # Update progress bar description with success rate\n",
    "        tqdm.write(\n",
    "            f\"Success rate: {success_count}/{total_count} ({success_count/total_count:.2%})\",\n",
    "            end=\"\\r\",\n",
    "        )\n",
    "    except Exception as e:\n",
    "        read_success.append(False)\n",
    "        cols.append(np.nan)\n",
    "        n_cols.append(np.nan)\n",
    "        exception.append(e)"
   ]
  },
  {
   "cell_type": "code",
   "execution_count": 4,
   "metadata": {
    "execution": {
     "iopub.execute_input": "2025-03-13T02:14:39.405460Z",
     "iopub.status.busy": "2025-03-13T02:14:39.405294Z",
     "iopub.status.idle": "2025-03-13T02:14:39.553408Z",
     "shell.execute_reply": "2025-03-13T02:14:39.553112Z",
     "shell.execute_reply.started": "2025-03-13T02:14:39.405416Z"
    }
   },
   "outputs": [
    {
     "data": {
      "text/html": [
       "<div>\n",
       "<style scoped>\n",
       "    .dataframe tbody tr th:only-of-type {\n",
       "        vertical-align: middle;\n",
       "    }\n",
       "\n",
       "    .dataframe tbody tr th {\n",
       "        vertical-align: top;\n",
       "    }\n",
       "\n",
       "    .dataframe thead th {\n",
       "        text-align: right;\n",
       "    }\n",
       "</style>\n",
       "<table border=\"1\" class=\"dataframe\">\n",
       "  <thead>\n",
       "    <tr style=\"text-align: right;\">\n",
       "      <th></th>\n",
       "      <th>filename</th>\n",
       "      <th>read_success</th>\n",
       "      <th>columns</th>\n",
       "      <th>n_columns</th>\n",
       "      <th>exception</th>\n",
       "    </tr>\n",
       "  </thead>\n",
       "  <tbody>\n",
       "    <tr>\n",
       "      <th>0</th>\n",
       "      <td>1999gi_2000-03-15_00-00-00_Lick-3m_KAST_SUSPEC...</td>\n",
       "      <td>True</td>\n",
       "      <td>[col1, col2]</td>\n",
       "      <td>2.0</td>\n",
       "      <td>NaN</td>\n",
       "    </tr>\n",
       "    <tr>\n",
       "      <th>1</th>\n",
       "      <td>1999gi_2000-03-15_00-00-00_Lick-3m_KAST_SUSPEC...</td>\n",
       "      <td>True</td>\n",
       "      <td>[col1, col2]</td>\n",
       "      <td>2.0</td>\n",
       "      <td>NaN</td>\n",
       "    </tr>\n",
       "    <tr>\n",
       "      <th>2</th>\n",
       "      <td>SN1999gi_2000-03-15_00-00-00_Lick-3m_KAST_LOSS...</td>\n",
       "      <td>True</td>\n",
       "      <td>[col1, col2]</td>\n",
       "      <td>2.0</td>\n",
       "      <td>NaN</td>\n",
       "    </tr>\n",
       "    <tr>\n",
       "      <th>3</th>\n",
       "      <td>SN_1999gi_2000-03-15_00-00-00_Lick-3m_KAST_UCB...</td>\n",
       "      <td>True</td>\n",
       "      <td>[col1, col2]</td>\n",
       "      <td>2.0</td>\n",
       "      <td>NaN</td>\n",
       "    </tr>\n",
       "    <tr>\n",
       "      <th>4</th>\n",
       "      <td>1999gi_2000-03-25_00-00-00_Keck1_LRIS_SUSPECT.dat</td>\n",
       "      <td>True</td>\n",
       "      <td>[col1, col2]</td>\n",
       "      <td>2.0</td>\n",
       "      <td>NaN</td>\n",
       "    </tr>\n",
       "  </tbody>\n",
       "</table>\n",
       "</div>"
      ],
      "text/plain": [
       "                                            filename  read_success  \\\n",
       "0  1999gi_2000-03-15_00-00-00_Lick-3m_KAST_SUSPEC...          True   \n",
       "1  1999gi_2000-03-15_00-00-00_Lick-3m_KAST_SUSPEC...          True   \n",
       "2  SN1999gi_2000-03-15_00-00-00_Lick-3m_KAST_LOSS...          True   \n",
       "3  SN_1999gi_2000-03-15_00-00-00_Lick-3m_KAST_UCB...          True   \n",
       "4  1999gi_2000-03-25_00-00-00_Keck1_LRIS_SUSPECT.dat          True   \n",
       "\n",
       "        columns  n_columns exception  \n",
       "0  [col1, col2]        2.0       NaN  \n",
       "1  [col1, col2]        2.0       NaN  \n",
       "2  [col1, col2]        2.0       NaN  \n",
       "3  [col1, col2]        2.0       NaN  \n",
       "4  [col1, col2]        2.0       NaN  "
      ]
     },
     "execution_count": 4,
     "metadata": {},
     "output_type": "execute_result"
    }
   ],
   "source": [
    "# Save opening success rates to a csv file\n",
    "results_df = pd.DataFrame(\n",
    "    {\n",
    "        \"filename\": spectra_info[\"Ascii file\"].values,\n",
    "        \"wise_objid\": spectra_info[\"wise_objid\"].values,\n",
    "        \"read_success\": read_success,\n",
    "        \"columns\": cols,\n",
    "        \"n_columns\": n_cols,\n",
    "        \"exception\": exception,\n",
    "    }\n",
    ")\n",
    "# results_df.to_csv(\"96.84% success read - default options.csv\", index=False)\n",
    "\n",
    "\n",
    "# Display the first few rows of the DataFrame\n",
    "results_df.head()"
   ]
  },
  {
   "cell_type": "markdown",
   "metadata": {},
   "source": [
    "## 2. See characteristics of successfully opened spectra"
   ]
  },
  {
   "cell_type": "code",
   "execution_count": 11,
   "metadata": {
    "execution": {
     "iopub.execute_input": "2025-03-14T03:11:16.868824Z",
     "iopub.status.busy": "2025-03-14T03:11:16.867888Z",
     "iopub.status.idle": "2025-03-14T03:11:16.884259Z",
     "shell.execute_reply": "2025-03-14T03:11:16.883650Z",
     "shell.execute_reply.started": "2025-03-14T03:11:16.868788Z"
    }
   },
   "outputs": [
    {
     "data": {
      "text/plain": [
       "n_columns\n",
       "1.0         1\n",
       "2.0     29120\n",
       "3.0     16633\n",
       "4.0      6037\n",
       "5.0        16\n",
       "6.0       137\n",
       "7.0       215\n",
       "8.0       140\n",
       "10.0        1\n",
       "11.0        1\n",
       "Name: count, dtype: int64"
      ]
     },
     "execution_count": 11,
     "metadata": {},
     "output_type": "execute_result"
    }
   ],
   "source": [
    "# how many cols?\n",
    "results_df[\"n_columns\"].value_counts().sort_index()"
   ]
  },
  {
   "cell_type": "code",
   "execution_count": 12,
   "metadata": {
    "execution": {
     "iopub.execute_input": "2025-03-14T03:11:17.563945Z",
     "iopub.status.busy": "2025-03-14T03:11:17.563535Z",
     "iopub.status.idle": "2025-03-14T03:11:17.827776Z",
     "shell.execute_reply": "2025-03-14T03:11:17.827503Z",
     "shell.execute_reply.started": "2025-03-14T03:11:17.563920Z"
    }
   },
   "outputs": [
    {
     "data": {
      "text/plain": [
       "0         \n",
       "ascii         16834\n",
       "dat           10133\n",
       "flm            9541\n",
       "csv            5881\n",
       "txt            5432\n",
       "asci           5380\n",
       "spec            352\n",
       "clean           107\n",
       "asc             102\n",
       "cat              38\n",
       "cal              27\n",
       "ecsv             22\n",
       "cal_galsub       16\n",
       "text             14\n",
       "xy                4\n",
       "7                 3\n",
       "1                 3\n",
       "6                 2\n",
       "5                 2\n",
       "2                 2\n",
       "tab               2\n",
       "noheader          2\n",
       "9                 1\n",
       "spek              1\n",
       "190_ascii         1\n",
       "tx                1\n",
       "mod               1\n",
       "27-salt           1\n",
       "324_ascii         1\n",
       "4                 1\n",
       "627_ascii         1\n",
       "695_ascii         1\n",
       "0                 1\n",
       "Name: count, dtype: int64"
      ]
     },
     "execution_count": 12,
     "metadata": {},
     "output_type": "execute_result"
    }
   ],
   "source": [
    "# Extract file extensions from the Ascii file column\n",
    "file_extensions = spectra_info[\"Ascii file\"].str.lower().str.extract(r\"\\.([^.]+)$\")\n",
    "file_extensions.value_counts()"
   ]
  },
  {
   "cell_type": "code",
   "execution_count": 13,
   "metadata": {
    "execution": {
     "iopub.execute_input": "2025-03-14T03:11:20.094206Z",
     "iopub.status.busy": "2025-03-14T03:11:20.093147Z",
     "iopub.status.idle": "2025-03-14T03:11:20.139281Z",
     "shell.execute_reply": "2025-03-14T03:11:20.138776Z",
     "shell.execute_reply.started": "2025-03-14T03:11:20.094139Z"
    }
   },
   "outputs": [],
   "source": [
    "# What if we limit ourselves to spectra from a single telescope (p60)?\n",
    "p60df = spectra_info[spectra_info[\"Telescope\"] == \"P60\"]\n",
    "\n",
    "p60_results_df = results_df.set_index(\"filename\").loc[\n",
    "    p60df[\"Ascii file\"].values\n",
    "]"
   ]
  },
  {
   "cell_type": "code",
   "execution_count": 14,
   "metadata": {
    "execution": {
     "iopub.execute_input": "2025-03-14T03:11:20.287118Z",
     "iopub.status.busy": "2025-03-14T03:11:20.286389Z",
     "iopub.status.idle": "2025-03-14T03:11:20.302703Z",
     "shell.execute_reply": "2025-03-14T03:11:20.301958Z",
     "shell.execute_reply.started": "2025-03-14T03:11:20.287084Z"
    }
   },
   "outputs": [
    {
     "data": {
      "text/plain": [
       "read_success\n",
       "True     6274\n",
       "False      30\n",
       "Name: count, dtype: int64"
      ]
     },
     "execution_count": 14,
     "metadata": {},
     "output_type": "execute_result"
    }
   ],
   "source": [
    "p60_results_df[\"read_success\"].value_counts()"
   ]
  },
  {
   "cell_type": "markdown",
   "metadata": {},
   "source": [
    "## 3. Read and plot a single spectra"
   ]
  },
  {
   "cell_type": "markdown",
   "metadata": {},
   "source": [
    "### 3.1. Handchosen spectra"
   ]
  },
  {
   "cell_type": "code",
   "execution_count": 4,
   "metadata": {
    "execution": {
     "iopub.execute_input": "2025-04-05T22:07:58.577857Z",
     "iopub.status.busy": "2025-04-05T22:07:58.577247Z",
     "iopub.status.idle": "2025-04-05T22:07:58.709852Z",
     "shell.execute_reply": "2025-04-05T22:07:58.709560Z",
     "shell.execute_reply.started": "2025-04-05T22:07:58.577822Z"
    }
   },
   "outputs": [],
   "source": [
    "results_df = pd.read_csv(\"96.84% success read - default options.csv\")"
   ]
  },
  {
   "cell_type": "code",
   "execution_count": 5,
   "metadata": {
    "execution": {
     "iopub.execute_input": "2025-04-05T22:07:59.008632Z",
     "iopub.status.busy": "2025-04-05T22:07:59.007714Z",
     "iopub.status.idle": "2025-04-05T22:07:59.070886Z",
     "shell.execute_reply": "2025-04-05T22:07:59.070553Z",
     "shell.execute_reply.started": "2025-04-05T22:07:59.008574Z"
    }
   },
   "outputs": [
    {
     "data": {
      "text/plain": [
       "n_columns\n",
       "1.0         1\n",
       "2.0     29120\n",
       "3.0     16633\n",
       "4.0      6037\n",
       "5.0        16\n",
       "6.0       137\n",
       "7.0       215\n",
       "8.0       140\n",
       "10.0        1\n",
       "11.0        1\n",
       "Name: count, dtype: int64"
      ]
     },
     "execution_count": 5,
     "metadata": {},
     "output_type": "execute_result"
    }
   ],
   "source": [
    "results_df[\"n_columns\"].value_counts().sort_index()"
   ]
  },
  {
   "cell_type": "markdown",
   "metadata": {},
   "source": [
    "## Sid's notes:\n",
    "1. 1 col: `SN2014L_2014-01-27_00-00-00_XLT_BFOSC_None.dat`'s 1 col has \\t seperation for wavelength-flux.\n",
    "2. 2 cols: wavelength, flux (units in header file)\n",
    "3. 3 cols: "
   ]
  },
  {
   "cell_type": "code",
   "execution_count": 6,
   "metadata": {
    "execution": {
     "iopub.execute_input": "2025-04-05T22:08:02.614927Z",
     "iopub.status.busy": "2025-04-05T22:08:02.613297Z",
     "iopub.status.idle": "2025-04-05T22:08:02.636530Z",
     "shell.execute_reply": "2025-04-05T22:08:02.636103Z",
     "shell.execute_reply.started": "2025-04-05T22:08:02.614877Z"
    }
   },
   "outputs": [
    {
     "data": {
      "text/html": [
       "<div>\n",
       "<style scoped>\n",
       "    .dataframe tbody tr th:only-of-type {\n",
       "        vertical-align: middle;\n",
       "    }\n",
       "\n",
       "    .dataframe tbody tr th {\n",
       "        vertical-align: top;\n",
       "    }\n",
       "\n",
       "    .dataframe thead th {\n",
       "        text-align: right;\n",
       "    }\n",
       "</style>\n",
       "<table border=\"1\" class=\"dataframe\">\n",
       "  <thead>\n",
       "    <tr style=\"text-align: right;\">\n",
       "      <th></th>\n",
       "      <th>wise_objid</th>\n",
       "      <th>filename</th>\n",
       "      <th>read_success</th>\n",
       "      <th>columns</th>\n",
       "      <th>n_columns</th>\n",
       "      <th>exception</th>\n",
       "    </tr>\n",
       "  </thead>\n",
       "  <tbody>\n",
       "    <tr>\n",
       "      <th>53581</th>\n",
       "      <td>15026</td>\n",
       "      <td>DES17E2bhj_2017-10-23_AAT_AAOmega-2DF_None.dat</td>\n",
       "      <td>True</td>\n",
       "      <td>['col1', 'col2', 'col3']</td>\n",
       "      <td>3.0</td>\n",
       "      <td>NaN</td>\n",
       "    </tr>\n",
       "    <tr>\n",
       "      <th>53587</th>\n",
       "      <td>15025</td>\n",
       "      <td>DES17C3bei_2017-11-16_AAT_AAOmega-2DF_None.dat</td>\n",
       "      <td>True</td>\n",
       "      <td>['col1', 'col2', 'col3']</td>\n",
       "      <td>3.0</td>\n",
       "      <td>NaN</td>\n",
       "    </tr>\n",
       "    <tr>\n",
       "      <th>53589</th>\n",
       "      <td>15030</td>\n",
       "      <td>DES17X3dub_2017-11-16_AAT_AAOmega-2DF_None.dat</td>\n",
       "      <td>True</td>\n",
       "      <td>['col1', 'col2', 'col3']</td>\n",
       "      <td>3.0</td>\n",
       "      <td>NaN</td>\n",
       "    </tr>\n",
       "    <tr>\n",
       "      <th>53591</th>\n",
       "      <td>15028</td>\n",
       "      <td>DES17X1aow_2017-11-19_AAT_AAOmega-2DF_None.dat</td>\n",
       "      <td>True</td>\n",
       "      <td>['col1', 'col2', 'col3']</td>\n",
       "      <td>3.0</td>\n",
       "      <td>NaN</td>\n",
       "    </tr>\n",
       "    <tr>\n",
       "      <th>53592</th>\n",
       "      <td>15029</td>\n",
       "      <td>DES17X1axb_2017-11-19_AAT_AAOmega-2DF_None.dat</td>\n",
       "      <td>True</td>\n",
       "      <td>['col1', 'col2', 'col3']</td>\n",
       "      <td>3.0</td>\n",
       "      <td>NaN</td>\n",
       "    </tr>\n",
       "  </tbody>\n",
       "</table>\n",
       "</div>"
      ],
      "text/plain": [
       "       wise_objid                                        filename  \\\n",
       "53581       15026  DES17E2bhj_2017-10-23_AAT_AAOmega-2DF_None.dat   \n",
       "53587       15025  DES17C3bei_2017-11-16_AAT_AAOmega-2DF_None.dat   \n",
       "53589       15030  DES17X3dub_2017-11-16_AAT_AAOmega-2DF_None.dat   \n",
       "53591       15028  DES17X1aow_2017-11-19_AAT_AAOmega-2DF_None.dat   \n",
       "53592       15029  DES17X1axb_2017-11-19_AAT_AAOmega-2DF_None.dat   \n",
       "\n",
       "       read_success                   columns  n_columns exception  \n",
       "53581          True  ['col1', 'col2', 'col3']        3.0       NaN  \n",
       "53587          True  ['col1', 'col2', 'col3']        3.0       NaN  \n",
       "53589          True  ['col1', 'col2', 'col3']        3.0       NaN  \n",
       "53591          True  ['col1', 'col2', 'col3']        3.0       NaN  \n",
       "53592          True  ['col1', 'col2', 'col3']        3.0       NaN  "
      ]
     },
     "execution_count": 6,
     "metadata": {},
     "output_type": "execute_result"
    }
   ],
   "source": [
    "results_df[results_df[\"n_columns\"]==3].tail()"
   ]
  },
  {
   "cell_type": "code",
   "execution_count": 7,
   "metadata": {
    "execution": {
     "iopub.execute_input": "2025-04-05T22:08:07.249561Z",
     "iopub.status.busy": "2025-04-05T22:08:07.248921Z",
     "iopub.status.idle": "2025-04-05T22:08:10.040601Z",
     "shell.execute_reply": "2025-04-05T22:08:10.039276Z",
     "shell.execute_reply.started": "2025-04-05T22:08:07.249526Z"
    }
   },
   "outputs": [],
   "source": [
    "import sys\n",
    "sys.path.append(\"../\")\n",
    "import sidhelpers"
   ]
  },
  {
   "cell_type": "code",
   "execution_count": 8,
   "metadata": {
    "execution": {
     "iopub.execute_input": "2025-04-05T22:08:12.166415Z",
     "iopub.status.busy": "2025-04-05T22:08:12.165330Z",
     "iopub.status.idle": "2025-04-05T22:08:12.202551Z",
     "shell.execute_reply": "2025-04-05T22:08:12.202178Z",
     "shell.execute_reply.started": "2025-04-05T22:08:12.166377Z"
    },
    "scrolled": true
   },
   "outputs": [
    {
     "data": {
      "text/html": [
       "<div>\n",
       "<style scoped>\n",
       "    .dataframe tbody tr th:only-of-type {\n",
       "        vertical-align: middle;\n",
       "    }\n",
       "\n",
       "    .dataframe tbody tr th {\n",
       "        vertical-align: top;\n",
       "    }\n",
       "\n",
       "    .dataframe thead th {\n",
       "        text-align: right;\n",
       "    }\n",
       "</style>\n",
       "<table border=\"1\" class=\"dataframe\">\n",
       "  <thead>\n",
       "    <tr style=\"text-align: right;\">\n",
       "      <th></th>\n",
       "      <th>WAVE</th>\n",
       "      <th>FLUX</th>\n",
       "      <th>ERR</th>\n",
       "      <th>BGFLUX</th>\n",
       "    </tr>\n",
       "  </thead>\n",
       "  <tbody>\n",
       "    <tr>\n",
       "      <th>0</th>\n",
       "      <td>3635.4087</td>\n",
       "      <td>7.530460e-17</td>\n",
       "      <td>1.050885e-17</td>\n",
       "      <td>3.614473e-16</td>\n",
       "    </tr>\n",
       "    <tr>\n",
       "      <th>1</th>\n",
       "      <td>3640.9302</td>\n",
       "      <td>8.718280e-17</td>\n",
       "      <td>1.054113e-17</td>\n",
       "      <td>3.724926e-16</td>\n",
       "    </tr>\n",
       "    <tr>\n",
       "      <th>2</th>\n",
       "      <td>3646.4514</td>\n",
       "      <td>1.006256e-16</td>\n",
       "      <td>1.053848e-17</td>\n",
       "      <td>3.801366e-16</td>\n",
       "    </tr>\n",
       "    <tr>\n",
       "      <th>3</th>\n",
       "      <td>3651.9730</td>\n",
       "      <td>7.587752e-17</td>\n",
       "      <td>1.024857e-17</td>\n",
       "      <td>4.018404e-16</td>\n",
       "    </tr>\n",
       "    <tr>\n",
       "      <th>4</th>\n",
       "      <td>3657.4941</td>\n",
       "      <td>7.661118e-17</td>\n",
       "      <td>9.990271e-18</td>\n",
       "      <td>3.909091e-16</td>\n",
       "    </tr>\n",
       "    <tr>\n",
       "      <th>...</th>\n",
       "      <td>...</td>\n",
       "      <td>...</td>\n",
       "      <td>...</td>\n",
       "      <td>...</td>\n",
       "    </tr>\n",
       "    <tr>\n",
       "      <th>1010</th>\n",
       "      <td>9211.9790</td>\n",
       "      <td>3.571510e-17</td>\n",
       "      <td>7.691349e-18</td>\n",
       "      <td>1.656962e-16</td>\n",
       "    </tr>\n",
       "    <tr>\n",
       "      <th>1011</th>\n",
       "      <td>9217.5000</td>\n",
       "      <td>2.429709e-17</td>\n",
       "      <td>7.517376e-18</td>\n",
       "      <td>1.716068e-16</td>\n",
       "    </tr>\n",
       "    <tr>\n",
       "      <th>1012</th>\n",
       "      <td>9223.0210</td>\n",
       "      <td>1.358497e-17</td>\n",
       "      <td>7.291053e-18</td>\n",
       "      <td>1.745894e-16</td>\n",
       "    </tr>\n",
       "    <tr>\n",
       "      <th>1013</th>\n",
       "      <td>9228.5430</td>\n",
       "      <td>1.587982e-17</td>\n",
       "      <td>7.303001e-18</td>\n",
       "      <td>1.869318e-16</td>\n",
       "    </tr>\n",
       "    <tr>\n",
       "      <th>1014</th>\n",
       "      <td>9234.0640</td>\n",
       "      <td>2.349919e-17</td>\n",
       "      <td>7.180101e-18</td>\n",
       "      <td>1.815606e-16</td>\n",
       "    </tr>\n",
       "  </tbody>\n",
       "</table>\n",
       "<p>1015 rows × 4 columns</p>\n",
       "</div>"
      ],
      "text/plain": [
       "           WAVE          FLUX           ERR        BGFLUX\n",
       "0     3635.4087  7.530460e-17  1.050885e-17  3.614473e-16\n",
       "1     3640.9302  8.718280e-17  1.054113e-17  3.724926e-16\n",
       "2     3646.4514  1.006256e-16  1.053848e-17  3.801366e-16\n",
       "3     3651.9730  7.587752e-17  1.024857e-17  4.018404e-16\n",
       "4     3657.4941  7.661118e-17  9.990271e-18  3.909091e-16\n",
       "...         ...           ...           ...           ...\n",
       "1010  9211.9790  3.571510e-17  7.691349e-18  1.656962e-16\n",
       "1011  9217.5000  2.429709e-17  7.517376e-18  1.716068e-16\n",
       "1012  9223.0210  1.358497e-17  7.291053e-18  1.745894e-16\n",
       "1013  9228.5430  1.587982e-17  7.303001e-18  1.869318e-16\n",
       "1014  9234.0640  2.349919e-17  7.180101e-18  1.815606e-16\n",
       "\n",
       "[1015 rows x 4 columns]"
      ]
     },
     "execution_count": 8,
     "metadata": {},
     "output_type": "execute_result"
    }
   ],
   "source": [
    "# SHOW FED: iloc[53581] https://www.wiserep.org/object/15026\n",
    "# fn = results_df.iloc[53581][\"filename\"]\n",
    "\n",
    "# fn = \"iPTF15wb_2457116.4561_NOT_ALFOSC_None.dat\"\n",
    "# fn = \"TEMP.dat\"\n",
    "\n",
    "# fn = \"Gaia16aec_2016-02-25_04-42-48_ESO-NTT_EFOSC2-NTT_PESSTO.asci\"\n",
    "\n",
    "fn = \"SN2016ixe_2016-12-20_08-10-50_ESO-NTT_EFOSC2-NTT_PESSTO_SSDR1-4.csv\"\n",
    "\n",
    "# df = ascii.read(\n",
    "df = sidhelpers.read_spectra(\n",
    "    f\"../1. download ALL wise data/wiserep_data/spectra/{fn}\"\n",
    ")\n",
    "df"
   ]
  },
  {
   "cell_type": "code",
   "execution_count": 9,
   "metadata": {
    "execution": {
     "iopub.execute_input": "2025-04-05T22:08:20.204537Z",
     "iopub.status.busy": "2025-04-05T22:08:20.203908Z",
     "iopub.status.idle": "2025-04-05T22:08:20.211965Z",
     "shell.execute_reply": "2025-04-05T22:08:20.210574Z",
     "shell.execute_reply.started": "2025-04-05T22:08:20.204506Z"
    }
   },
   "outputs": [],
   "source": [
    "# maybe check if 99% of flux values are postiive??"
   ]
  },
  {
   "cell_type": "code",
   "execution_count": 10,
   "metadata": {
    "execution": {
     "iopub.execute_input": "2025-04-05T22:08:20.436163Z",
     "iopub.status.busy": "2025-04-05T22:08:20.434969Z",
     "iopub.status.idle": "2025-04-05T22:08:20.453773Z",
     "shell.execute_reply": "2025-04-05T22:08:20.453098Z",
     "shell.execute_reply.started": "2025-04-05T22:08:20.436130Z"
    }
   },
   "outputs": [
    {
     "data": {
      "text/html": [
       "<div>\n",
       "<style scoped>\n",
       "    .dataframe tbody tr th:only-of-type {\n",
       "        vertical-align: middle;\n",
       "    }\n",
       "\n",
       "    .dataframe tbody tr th {\n",
       "        vertical-align: top;\n",
       "    }\n",
       "\n",
       "    .dataframe thead th {\n",
       "        text-align: right;\n",
       "    }\n",
       "</style>\n",
       "<table border=\"1\" class=\"dataframe\">\n",
       "  <thead>\n",
       "    <tr style=\"text-align: right;\">\n",
       "      <th></th>\n",
       "      <th>WAVE</th>\n",
       "      <th>FLUX</th>\n",
       "      <th>ERR</th>\n",
       "      <th>BGFLUX</th>\n",
       "    </tr>\n",
       "  </thead>\n",
       "  <tbody>\n",
       "    <tr>\n",
       "      <th>0</th>\n",
       "      <td>3635.4087</td>\n",
       "      <td>7.530460e-17</td>\n",
       "      <td>1.050885e-17</td>\n",
       "      <td>3.614473e-16</td>\n",
       "    </tr>\n",
       "    <tr>\n",
       "      <th>1</th>\n",
       "      <td>3640.9302</td>\n",
       "      <td>8.718280e-17</td>\n",
       "      <td>1.054113e-17</td>\n",
       "      <td>3.724926e-16</td>\n",
       "    </tr>\n",
       "    <tr>\n",
       "      <th>2</th>\n",
       "      <td>3646.4514</td>\n",
       "      <td>1.006256e-16</td>\n",
       "      <td>1.053848e-17</td>\n",
       "      <td>3.801366e-16</td>\n",
       "    </tr>\n",
       "    <tr>\n",
       "      <th>3</th>\n",
       "      <td>3651.9730</td>\n",
       "      <td>7.587752e-17</td>\n",
       "      <td>1.024857e-17</td>\n",
       "      <td>4.018404e-16</td>\n",
       "    </tr>\n",
       "    <tr>\n",
       "      <th>4</th>\n",
       "      <td>3657.4941</td>\n",
       "      <td>7.661118e-17</td>\n",
       "      <td>9.990271e-18</td>\n",
       "      <td>3.909091e-16</td>\n",
       "    </tr>\n",
       "    <tr>\n",
       "      <th>...</th>\n",
       "      <td>...</td>\n",
       "      <td>...</td>\n",
       "      <td>...</td>\n",
       "      <td>...</td>\n",
       "    </tr>\n",
       "    <tr>\n",
       "      <th>1010</th>\n",
       "      <td>9211.9790</td>\n",
       "      <td>3.571510e-17</td>\n",
       "      <td>7.691349e-18</td>\n",
       "      <td>1.656962e-16</td>\n",
       "    </tr>\n",
       "    <tr>\n",
       "      <th>1011</th>\n",
       "      <td>9217.5000</td>\n",
       "      <td>2.429709e-17</td>\n",
       "      <td>7.517376e-18</td>\n",
       "      <td>1.716068e-16</td>\n",
       "    </tr>\n",
       "    <tr>\n",
       "      <th>1012</th>\n",
       "      <td>9223.0210</td>\n",
       "      <td>1.358497e-17</td>\n",
       "      <td>7.291053e-18</td>\n",
       "      <td>1.745894e-16</td>\n",
       "    </tr>\n",
       "    <tr>\n",
       "      <th>1013</th>\n",
       "      <td>9228.5430</td>\n",
       "      <td>1.587982e-17</td>\n",
       "      <td>7.303001e-18</td>\n",
       "      <td>1.869318e-16</td>\n",
       "    </tr>\n",
       "    <tr>\n",
       "      <th>1014</th>\n",
       "      <td>9234.0640</td>\n",
       "      <td>2.349919e-17</td>\n",
       "      <td>7.180101e-18</td>\n",
       "      <td>1.815606e-16</td>\n",
       "    </tr>\n",
       "  </tbody>\n",
       "</table>\n",
       "<p>1015 rows × 4 columns</p>\n",
       "</div>"
      ],
      "text/plain": [
       "           WAVE          FLUX           ERR        BGFLUX\n",
       "0     3635.4087  7.530460e-17  1.050885e-17  3.614473e-16\n",
       "1     3640.9302  8.718280e-17  1.054113e-17  3.724926e-16\n",
       "2     3646.4514  1.006256e-16  1.053848e-17  3.801366e-16\n",
       "3     3651.9730  7.587752e-17  1.024857e-17  4.018404e-16\n",
       "4     3657.4941  7.661118e-17  9.990271e-18  3.909091e-16\n",
       "...         ...           ...           ...           ...\n",
       "1010  9211.9790  3.571510e-17  7.691349e-18  1.656962e-16\n",
       "1011  9217.5000  2.429709e-17  7.517376e-18  1.716068e-16\n",
       "1012  9223.0210  1.358497e-17  7.291053e-18  1.745894e-16\n",
       "1013  9228.5430  1.587982e-17  7.303001e-18  1.869318e-16\n",
       "1014  9234.0640  2.349919e-17  7.180101e-18  1.815606e-16\n",
       "\n",
       "[1015 rows x 4 columns]"
      ]
     },
     "execution_count": 10,
     "metadata": {},
     "output_type": "execute_result"
    }
   ],
   "source": [
    "df"
   ]
  },
  {
   "cell_type": "code",
   "execution_count": 11,
   "metadata": {
    "execution": {
     "iopub.execute_input": "2025-04-05T22:08:20.963306Z",
     "iopub.status.busy": "2025-04-05T22:08:20.962643Z",
     "iopub.status.idle": "2025-04-05T22:08:21.136034Z",
     "shell.execute_reply": "2025-04-05T22:08:21.135703Z",
     "shell.execute_reply.started": "2025-04-05T22:08:20.963273Z"
    }
   },
   "outputs": [
    {
     "data": {
      "text/plain": [
       "[<matplotlib.lines.Line2D at 0x175a7e810>]"
      ]
     },
     "execution_count": 11,
     "metadata": {},
     "output_type": "execute_result"
    },
    {
     "data": {
      "image/png": "[encoded data removed]",
      "text/plain": [
       "<Figure size 640x480 with 1 Axes>"
      ]
     },
     "metadata": {},
     "output_type": "display_data"
    }
   ],
   "source": [
    "x = df.to_numpy()[:, 0]\n",
    "y1 = df.to_numpy()[:, 1]\n",
    "# y2 = df.to_pandas().to_numpy()[:, 2]\n",
    "\n",
    "plt.plot(x,y1)"
   ]
  },
  {
   "cell_type": "markdown",
   "metadata": {},
   "source": [
    "### 3.2. Random spectra"
   ]
  },
  {
   "cell_type": "code",
   "execution_count": 16,
   "metadata": {
    "execution": {
     "iopub.execute_input": "2025-04-06T02:08:04.700319Z",
     "iopub.status.busy": "2025-04-06T02:08:04.697237Z",
     "iopub.status.idle": "2025-04-06T02:08:04.864492Z",
     "shell.execute_reply": "2025-04-06T02:08:04.864102Z",
     "shell.execute_reply.started": "2025-04-06T02:08:04.699838Z"
    }
   },
   "outputs": [
    {
     "name": "stdout",
     "output_type": "stream",
     "text": [
      "SN2025cku_2025-02-27_10-53-27_P60_SEDM_TNS.ascii\n"
     ]
    },
    {
     "data": {
      "text/html": [
       "<div>\n",
       "<style scoped>\n",
       "    .dataframe tbody tr th:only-of-type {\n",
       "        vertical-align: middle;\n",
       "    }\n",
       "\n",
       "    .dataframe tbody tr th {\n",
       "        vertical-align: top;\n",
       "    }\n",
       "\n",
       "    .dataframe thead th {\n",
       "        text-align: right;\n",
       "    }\n",
       "</style>\n",
       "<table border=\"1\" class=\"dataframe\">\n",
       "  <thead>\n",
       "    <tr style=\"text-align: right;\">\n",
       "      <th></th>\n",
       "      <th>col1</th>\n",
       "      <th>col2</th>\n",
       "      <th>col3</th>\n",
       "    </tr>\n",
       "  </thead>\n",
       "  <tbody>\n",
       "    <tr>\n",
       "      <th>0</th>\n",
       "      <td>3776.7</td>\n",
       "      <td>9.093000e-17</td>\n",
       "      <td>6.201000e-31</td>\n",
       "    </tr>\n",
       "    <tr>\n",
       "      <th>1</th>\n",
       "      <td>3802.3</td>\n",
       "      <td>-4.808000e-17</td>\n",
       "      <td>4.872000e-31</td>\n",
       "    </tr>\n",
       "    <tr>\n",
       "      <th>2</th>\n",
       "      <td>3827.9</td>\n",
       "      <td>-2.715000e-16</td>\n",
       "      <td>2.627000e-31</td>\n",
       "    </tr>\n",
       "    <tr>\n",
       "      <th>3</th>\n",
       "      <td>3853.4</td>\n",
       "      <td>-7.058000e-16</td>\n",
       "      <td>1.168000e-33</td>\n",
       "    </tr>\n",
       "    <tr>\n",
       "      <th>4</th>\n",
       "      <td>3879.0</td>\n",
       "      <td>1.666000e-16</td>\n",
       "      <td>1.148000e-33</td>\n",
       "    </tr>\n",
       "    <tr>\n",
       "      <th>...</th>\n",
       "      <td>...</td>\n",
       "      <td>...</td>\n",
       "      <td>...</td>\n",
       "    </tr>\n",
       "    <tr>\n",
       "      <th>209</th>\n",
       "      <td>9121.0</td>\n",
       "      <td>9.326000e-17</td>\n",
       "      <td>4.787000e-34</td>\n",
       "    </tr>\n",
       "    <tr>\n",
       "      <th>210</th>\n",
       "      <td>9146.6</td>\n",
       "      <td>1.019000e-16</td>\n",
       "      <td>5.096000e-34</td>\n",
       "    </tr>\n",
       "    <tr>\n",
       "      <th>211</th>\n",
       "      <td>9172.1</td>\n",
       "      <td>1.068000e-16</td>\n",
       "      <td>3.742000e-34</td>\n",
       "    </tr>\n",
       "    <tr>\n",
       "      <th>212</th>\n",
       "      <td>9197.7</td>\n",
       "      <td>1.089000e-16</td>\n",
       "      <td>8.871000e-34</td>\n",
       "    </tr>\n",
       "    <tr>\n",
       "      <th>213</th>\n",
       "      <td>9223.3</td>\n",
       "      <td>1.131000e-16</td>\n",
       "      <td>2.623000e-33</td>\n",
       "    </tr>\n",
       "  </tbody>\n",
       "</table>\n",
       "<p>214 rows × 3 columns</p>\n",
       "</div>"
      ],
      "text/plain": [
       "       col1          col2          col3\n",
       "0    3776.7  9.093000e-17  6.201000e-31\n",
       "1    3802.3 -4.808000e-17  4.872000e-31\n",
       "2    3827.9 -2.715000e-16  2.627000e-31\n",
       "3    3853.4 -7.058000e-16  1.168000e-33\n",
       "4    3879.0  1.666000e-16  1.148000e-33\n",
       "..      ...           ...           ...\n",
       "209  9121.0  9.326000e-17  4.787000e-34\n",
       "210  9146.6  1.019000e-16  5.096000e-34\n",
       "211  9172.1  1.068000e-16  3.742000e-34\n",
       "212  9197.7  1.089000e-16  8.871000e-34\n",
       "213  9223.3  1.131000e-16  2.623000e-33\n",
       "\n",
       "[214 rows x 3 columns]"
      ]
     },
     "execution_count": 16,
     "metadata": {},
     "output_type": "execute_result"
    }
   ],
   "source": [
    "# fn = p60df.sample(n=1)[\"Ascii file\"].values[0]\n",
    "fn = spectra_info.sample(n=1)[\"Ascii file\"].values[0]\n",
    "fn = \"SN2025cku_2025-02-27_10-53-27_P60_SEDM_TNS.ascii\"\n",
    "print(fn)\n",
    "df = sidhelpers.read_spectra(\n",
    "    f\"../1. download ALL wise data/wiserep_data/spectra/{fn}\",\n",
    ")\n",
    "df"
   ]
  },
  {
   "cell_type": "code",
   "execution_count": 17,
   "metadata": {
    "execution": {
     "iopub.execute_input": "2025-04-06T02:08:07.713840Z",
     "iopub.status.busy": "2025-04-06T02:08:07.713212Z",
     "iopub.status.idle": "2025-04-06T02:08:07.726387Z",
     "shell.execute_reply": "2025-04-06T02:08:07.725153Z",
     "shell.execute_reply.started": "2025-04-06T02:08:07.713812Z"
    }
   },
   "outputs": [],
   "source": [
    "x = df.to_numpy()[:, 0]\n",
    "y1 = df.to_numpy()[:, 1]\n",
    "# y2 = df.to_pandas().to_numpy()[:, 2]"
   ]
  },
  {
   "cell_type": "code",
   "execution_count": 18,
   "metadata": {
    "execution": {
     "iopub.execute_input": "2025-04-06T02:08:07.967679Z",
     "iopub.status.busy": "2025-04-06T02:08:07.967039Z",
     "iopub.status.idle": "2025-04-06T02:08:07.981543Z",
     "shell.execute_reply": "2025-04-06T02:08:07.980770Z",
     "shell.execute_reply.started": "2025-04-06T02:08:07.967647Z"
    }
   },
   "outputs": [
    {
     "data": {
      "text/plain": [
       "np.float64(4364.8)"
      ]
     },
     "execution_count": 18,
     "metadata": {},
     "output_type": "execute_result"
    }
   ],
   "source": [
    "x[y1.argmax()]"
   ]
  },
  {
   "cell_type": "code",
   "execution_count": 19,
   "metadata": {
    "execution": {
     "iopub.execute_input": "2025-04-06T02:08:08.823479Z",
     "iopub.status.busy": "2025-04-06T02:08:08.822276Z",
     "iopub.status.idle": "2025-04-06T02:08:08.941551Z",
     "shell.execute_reply": "2025-04-06T02:08:08.941152Z",
     "shell.execute_reply.started": "2025-04-06T02:08:08.823421Z"
    }
   },
   "outputs": [
    {
     "data": {
      "text/plain": [
       "[<matplotlib.lines.Line2D at 0x175c0f350>]"
      ]
     },
     "execution_count": 19,
     "metadata": {},
     "output_type": "execute_result"
    },
    {
     "data": {
      "image/png": "[encoded data removed]",
      "text/plain": [
       "<Figure size 640x480 with 1 Axes>"
      ]
     },
     "metadata": {},
     "output_type": "display_data"
    }
   ],
   "source": [
    "plt.plot(x, y1, label=\"y1\")\n"
   ]
  },
  {
   "cell_type": "code",
   "execution_count": 24,
   "metadata": {
    "execution": {
     "iopub.execute_input": "2025-04-04T22:22:57.954616Z",
     "iopub.status.busy": "2025-04-04T22:22:57.953995Z",
     "iopub.status.idle": "2025-04-04T22:22:57.962339Z",
     "shell.execute_reply": "2025-04-04T22:22:57.961549Z",
     "shell.execute_reply.started": "2025-04-04T22:22:57.954582Z"
    }
   },
   "outputs": [],
   "source": [
    "# fig, (ax1, ax2) = plt.subplots(2, 1, figsize=(5, 6), sharex=True)\n",
    "\n",
    "# # Plot y1 in the first subplot\n",
    "# ax1.plot(x, y1, label=\"y1\")\n",
    "# ax1.legend()\n",
    "\n",
    "# # Plot y2 in the second subplot\n",
    "# ax2.plot(x, y2, label=\"y2\", color=\"orange\")\n",
    "# ax2.set_xlabel(\"Wavelength\")\n",
    "# ax2.legend()\n",
    "\n",
    "# plt.suptitle(fn)\n",
    "# plt.tight_layout()\n",
    "# plt.show()"
   ]
  },
  {
   "cell_type": "code",
   "execution_count": null,
   "metadata": {},
   "outputs": [],
   "source": []
  }
 ],
 "metadata": {
  "kernelspec": {
   "display_name": "Python 3 (ipykernel)",
   "language": "python",
   "name": "python3"
  },
  "language_info": {
   "codemirror_mode": {
    "name": "ipython",
    "version": 3
   },
   "file_extension": ".py",
   "mimetype": "text/x-python",
   "name": "python",
   "nbconvert_exporter": "python",
   "pygments_lexer": "ipython3",
   "version": "3.11.11"
  }
 },
 "nbformat": 4,
 "nbformat_minor": 4
}
