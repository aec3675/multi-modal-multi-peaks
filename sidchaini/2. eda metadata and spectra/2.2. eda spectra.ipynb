{
 "cells": [
  {
   "cell_type": "code",
   "execution_count": 1,
   "metadata": {
    "execution": {
     "iopub.execute_input": "2025-03-13T01:37:40.033537Z",
     "iopub.status.busy": "2025-03-13T01:37:40.032609Z",
     "iopub.status.idle": "2025-03-13T01:37:41.278732Z",
     "shell.execute_reply": "2025-03-13T01:37:41.278454Z",
     "shell.execute_reply.started": "2025-03-13T01:37:40.033504Z"
    }
   },
   "outputs": [],
   "source": [
    "import glob\n",
    "\n",
    "import numpy as np\n",
    "import pandas as pd\n",
    "import pylab as plt\n",
    "from tqdm.auto import tqdm\n",
    "from astropy.io import ascii"
   ]
  },
  {
   "cell_type": "code",
   "execution_count": 2,
   "metadata": {
    "execution": {
     "iopub.execute_input": "2025-03-13T01:37:41.279599Z",
     "iopub.status.busy": "2025-03-13T01:37:41.279491Z",
     "iopub.status.idle": "2025-03-13T01:37:41.573791Z",
     "shell.execute_reply": "2025-03-13T01:37:41.573309Z",
     "shell.execute_reply.started": "2025-03-13T01:37:41.279586Z"
    }
   },
   "outputs": [
    {
     "name": "stderr",
     "output_type": "stream",
     "text": [
      "/var/folders/2d/ht34x6mn7hx9d1sv4g_j8nfr0000gn/T/ipykernel_77298/2540553969.py:1: DtypeWarning: Columns (0,33) have mixed types. Specify dtype option on import or set low_memory=False.\n",
      "  spectra_info = df = pd.read_csv(\n"
     ]
    }
   ],
   "source": [
    "spectra_info = df = pd.read_csv(\n",
    "    \"../1. download ALL wise data/wiserep_spectra_combined.csv\"\n",
    ")  # .set_index(' IAU name').to_dict('index')"
   ]
  },
  {
   "cell_type": "code",
   "execution_count": 22,
   "metadata": {
    "execution": {
     "iopub.execute_input": "2025-03-13T02:23:54.432832Z",
     "iopub.status.busy": "2025-03-13T02:23:54.431638Z",
     "iopub.status.idle": "2025-03-13T02:23:54.446626Z",
     "shell.execute_reply": "2025-03-13T02:23:54.445816Z",
     "shell.execute_reply.started": "2025-03-13T02:23:54.432775Z"
    }
   },
   "outputs": [
    {
     "data": {
      "text/plain": [
       "(54005, 45)"
      ]
     },
     "execution_count": 22,
     "metadata": {},
     "output_type": "execute_result"
    }
   ],
   "source": [
    "spectra_info.shape"
   ]
  },
  {
   "cell_type": "code",
   "execution_count": 3,
   "metadata": {
    "execution": {
     "iopub.execute_input": "2025-03-13T01:37:41.589257Z",
     "iopub.status.busy": "2025-03-13T01:37:41.589067Z",
     "iopub.status.idle": "2025-03-13T02:14:39.400249Z",
     "shell.execute_reply": "2025-03-13T02:14:39.399502Z",
     "shell.execute_reply.started": "2025-03-13T01:37:41.589217Z"
    }
   },
   "outputs": [
    {
     "data": {
      "application/vnd.jupyter.widget-view+json": {
       "model_id": "d7df1c08e5cb4b97b1d30b05f0eed96a",
       "version_major": 2,
       "version_minor": 0
      },
      "text/plain": [
       "Reading spectra:   0%|          | 0/54005 [00:00<?, ?it/s]"
      ]
     },
     "metadata": {},
     "output_type": "display_data"
    },
    {
     "name": "stdout",
     "output_type": "stream",
     "text": [
      "Success rate: 22315/22765 (98.02%)"
     ]
    },
    {
     "name": "stderr",
     "output_type": "stream",
     "text": [
      "WARNING: UnitsWarning: 'mW/m2/0.1nm' did not parse as cds unit: Syntax error If this is meant to be a custom unit, define it with 'u.def_unit'. To have it recognized inside a file reader or other code, enable it with 'u.add_enabled_units'. For details, see https://docs.astropy.org/en/latest/units/combining_and_defining.html [astropy.units.core]\n"
     ]
    },
    {
     "name": "stdout",
     "output_type": "stream",
     "text": [
      "Success rate: 48312/49761 (97.09%)"
     ]
    },
    {
     "name": "stderr",
     "output_type": "stream",
     "text": [
      "WARNING: OverflowError converting to FloatType in column col2, possibly resulting in degraded precision. [astropy.io.ascii.fastbasic]\n"
     ]
    },
    {
     "name": "stdout",
     "output_type": "stream",
     "text": [
      "Success rate: 52301/54005 (96.84%)"
     ]
    }
   ],
   "source": [
    "read_success = []\n",
    "cols = []\n",
    "n_cols = []\n",
    "exception = []\n",
    "success_count = 0\n",
    "total_count = 0\n",
    "\n",
    "for fn in tqdm(spectra_info[\"Ascii file\"].values, desc=\"Reading spectra\"):\n",
    "    total_count += 1\n",
    "    try:\n",
    "        tab = ascii.read(f\"../1. download ALL wise data/wiserep_data/spectra/{fn}\")\n",
    "        read_success.append(True)\n",
    "        cols.append(tab.colnames)\n",
    "        n_cols.append(len(tab.colnames))\n",
    "        exception.append(np.nan)\n",
    "        success_count += 1\n",
    "        # Update progress bar description with success rate\n",
    "        tqdm.write(\n",
    "            f\"Success rate: {success_count}/{total_count} ({success_count/total_count:.2%})\",\n",
    "            end=\"\\r\",\n",
    "        )\n",
    "    except Exception as e:\n",
    "        read_success.append(False)\n",
    "        cols.append(np.nan)\n",
    "        n_cols.append(np.nan)\n",
    "        exception.append(e)"
   ]
  },
  {
   "cell_type": "code",
   "execution_count": 4,
   "metadata": {
    "execution": {
     "iopub.execute_input": "2025-03-13T02:14:39.405460Z",
     "iopub.status.busy": "2025-03-13T02:14:39.405294Z",
     "iopub.status.idle": "2025-03-13T02:14:39.553408Z",
     "shell.execute_reply": "2025-03-13T02:14:39.553112Z",
     "shell.execute_reply.started": "2025-03-13T02:14:39.405416Z"
    }
   },
   "outputs": [
    {
     "data": {
      "text/html": [
       "<div>\n",
       "<style scoped>\n",
       "    .dataframe tbody tr th:only-of-type {\n",
       "        vertical-align: middle;\n",
       "    }\n",
       "\n",
       "    .dataframe tbody tr th {\n",
       "        vertical-align: top;\n",
       "    }\n",
       "\n",
       "    .dataframe thead th {\n",
       "        text-align: right;\n",
       "    }\n",
       "</style>\n",
       "<table border=\"1\" class=\"dataframe\">\n",
       "  <thead>\n",
       "    <tr style=\"text-align: right;\">\n",
       "      <th></th>\n",
       "      <th>filename</th>\n",
       "      <th>read_success</th>\n",
       "      <th>columns</th>\n",
       "      <th>n_columns</th>\n",
       "      <th>exception</th>\n",
       "    </tr>\n",
       "  </thead>\n",
       "  <tbody>\n",
       "    <tr>\n",
       "      <th>0</th>\n",
       "      <td>1999gi_2000-03-15_00-00-00_Lick-3m_KAST_SUSPEC...</td>\n",
       "      <td>True</td>\n",
       "      <td>[col1, col2]</td>\n",
       "      <td>2.0</td>\n",
       "      <td>NaN</td>\n",
       "    </tr>\n",
       "    <tr>\n",
       "      <th>1</th>\n",
       "      <td>1999gi_2000-03-15_00-00-00_Lick-3m_KAST_SUSPEC...</td>\n",
       "      <td>True</td>\n",
       "      <td>[col1, col2]</td>\n",
       "      <td>2.0</td>\n",
       "      <td>NaN</td>\n",
       "    </tr>\n",
       "    <tr>\n",
       "      <th>2</th>\n",
       "      <td>SN1999gi_2000-03-15_00-00-00_Lick-3m_KAST_LOSS...</td>\n",
       "      <td>True</td>\n",
       "      <td>[col1, col2]</td>\n",
       "      <td>2.0</td>\n",
       "      <td>NaN</td>\n",
       "    </tr>\n",
       "    <tr>\n",
       "      <th>3</th>\n",
       "      <td>SN_1999gi_2000-03-15_00-00-00_Lick-3m_KAST_UCB...</td>\n",
       "      <td>True</td>\n",
       "      <td>[col1, col2]</td>\n",
       "      <td>2.0</td>\n",
       "      <td>NaN</td>\n",
       "    </tr>\n",
       "    <tr>\n",
       "      <th>4</th>\n",
       "      <td>1999gi_2000-03-25_00-00-00_Keck1_LRIS_SUSPECT.dat</td>\n",
       "      <td>True</td>\n",
       "      <td>[col1, col2]</td>\n",
       "      <td>2.0</td>\n",
       "      <td>NaN</td>\n",
       "    </tr>\n",
       "  </tbody>\n",
       "</table>\n",
       "</div>"
      ],
      "text/plain": [
       "                                            filename  read_success  \\\n",
       "0  1999gi_2000-03-15_00-00-00_Lick-3m_KAST_SUSPEC...          True   \n",
       "1  1999gi_2000-03-15_00-00-00_Lick-3m_KAST_SUSPEC...          True   \n",
       "2  SN1999gi_2000-03-15_00-00-00_Lick-3m_KAST_LOSS...          True   \n",
       "3  SN_1999gi_2000-03-15_00-00-00_Lick-3m_KAST_UCB...          True   \n",
       "4  1999gi_2000-03-25_00-00-00_Keck1_LRIS_SUSPECT.dat          True   \n",
       "\n",
       "        columns  n_columns exception  \n",
       "0  [col1, col2]        2.0       NaN  \n",
       "1  [col1, col2]        2.0       NaN  \n",
       "2  [col1, col2]        2.0       NaN  \n",
       "3  [col1, col2]        2.0       NaN  \n",
       "4  [col1, col2]        2.0       NaN  "
      ]
     },
     "execution_count": 4,
     "metadata": {},
     "output_type": "execute_result"
    }
   ],
   "source": [
    "# Create DataFrame with results\n",
    "results_df = pd.DataFrame({\n",
    "    'filename': spectra_info[\"Ascii file\"].values,\n",
    "    'read_success': read_success,\n",
    "    'columns': cols,\n",
    "    'n_columns': n_cols,\n",
    "    'exception': exception\n",
    "})\n",
    "\n",
    "# Display the first few rows of the DataFrame\n",
    "results_df.head()"
   ]
  },
  {
   "cell_type": "code",
   "execution_count": 72,
   "metadata": {
    "execution": {
     "iopub.execute_input": "2025-03-13T03:03:08.959335Z",
     "iopub.status.busy": "2025-03-13T03:03:08.958235Z",
     "iopub.status.idle": "2025-03-13T03:03:09.795600Z",
     "shell.execute_reply": "2025-03-13T03:03:09.795106Z",
     "shell.execute_reply.started": "2025-03-13T03:03:08.959293Z"
    }
   },
   "outputs": [],
   "source": [
    "results_df.to_csv(\"96.84% success read - default options.csv\")"
   ]
  },
  {
   "cell_type": "code",
   "execution_count": 44,
   "metadata": {
    "execution": {
     "iopub.execute_input": "2025-03-13T02:46:51.340368Z",
     "iopub.status.busy": "2025-03-13T02:46:51.339305Z",
     "iopub.status.idle": "2025-03-13T02:46:51.373425Z",
     "shell.execute_reply": "2025-03-13T02:46:51.372600Z",
     "shell.execute_reply.started": "2025-03-13T02:46:51.340296Z"
    }
   },
   "outputs": [
    {
     "name": "stdout",
     "output_type": "stream",
     "text": [
      "SN_2009nr_2010-05-07_09-43-12_Lick-3m_KAST_UCB-SNDB.flm\n"
     ]
    }
   ],
   "source": [
    "fn = spectra_info.sample(n=1)[\"Ascii file\"].values[0]\n",
    "print(fn)\n",
    "df = ascii.read(\n",
    "    f\"../1. download ALL wise data/wiserep_data/spectra/{fn}\",\n",
    "    guess=False,\n",
    "    fast_reader=False,\n",
    ")"
   ]
  },
  {
   "cell_type": "code",
   "execution_count": 62,
   "metadata": {
    "execution": {
     "iopub.execute_input": "2025-03-13T02:51:50.922141Z",
     "iopub.status.busy": "2025-03-13T02:51:50.920042Z",
     "iopub.status.idle": "2025-03-13T02:51:50.936282Z",
     "shell.execute_reply": "2025-03-13T02:51:50.934006Z",
     "shell.execute_reply.started": "2025-03-13T02:51:50.922037Z"
    }
   },
   "outputs": [],
   "source": [
    "x = df.to_pandas().to_numpy()[:,0]\n",
    "y1 = df.to_pandas().to_numpy()[:,1]\n",
    "y2 = df.to_pandas().to_numpy()[:,2]"
   ]
  },
  {
   "cell_type": "code",
   "execution_count": 70,
   "metadata": {
    "execution": {
     "iopub.execute_input": "2025-03-13T02:53:05.925594Z",
     "iopub.status.busy": "2025-03-13T02:53:05.924776Z",
     "iopub.status.idle": "2025-03-13T02:53:05.938872Z",
     "shell.execute_reply": "2025-03-13T02:53:05.936695Z",
     "shell.execute_reply.started": "2025-03-13T02:53:05.925525Z"
    }
   },
   "outputs": [
    {
     "data": {
      "text/plain": [
       "np.float64(4708.0)"
      ]
     },
     "execution_count": 70,
     "metadata": {},
     "output_type": "execute_result"
    }
   ],
   "source": [
    "x[y1.argmax()]"
   ]
  },
  {
   "cell_type": "code",
   "execution_count": 17,
   "metadata": {
    "execution": {
     "iopub.execute_input": "2025-03-12T20:53:19.842007Z",
     "iopub.status.busy": "2025-03-12T20:53:19.841229Z",
     "iopub.status.idle": "2025-03-12T20:53:19.921411Z",
     "shell.execute_reply": "2025-03-12T20:53:19.920515Z",
     "shell.execute_reply.started": "2025-03-12T20:53:19.841970Z"
    }
   },
   "outputs": [
    {
     "ename": "InconsistentTableError",
     "evalue": "Number of header columns (7) inconsistent with data columns (8) at data line 0\nHeader values: ['BITPIX', '=', '8', '/', '8-bit', 'ASCII', 'characters']\nData values: ['NAXIS', '=', '1', '/', 'Number', 'of', 'Image', 'Dimensions']",
     "output_type": "error",
     "traceback": [
      "\u001b[0;31m---------------------------------------------------------------------------\u001b[0m",
      "\u001b[0;31mInconsistentTableError\u001b[0m                    Traceback (most recent call last)",
      "Cell \u001b[0;32mIn[17], line 1\u001b[0m\n\u001b[0;32m----> 1\u001b[0m \u001b[43mascii\u001b[49m\u001b[38;5;241;43m.\u001b[39;49m\u001b[43mread\u001b[49m\u001b[43m(\u001b[49m\u001b[38;5;124;43m\"\u001b[39;49m\u001b[38;5;124;43m../1. download ALL wise data/wiserep_data/spectra/ASASSN-14ad_2456700.6695_NOT_ALFOSC_None.dat\u001b[39;49m\u001b[38;5;124;43m\"\u001b[39;49m\u001b[43m,\u001b[49m\u001b[43m \u001b[49m\u001b[43mguess\u001b[49m\u001b[38;5;241;43m=\u001b[39;49m\u001b[38;5;28;43;01mFalse\u001b[39;49;00m\u001b[43m,\u001b[49m\u001b[43m \u001b[49m\u001b[43mfast_reader\u001b[49m\u001b[38;5;241;43m=\u001b[39;49m\u001b[38;5;28;43;01mFalse\u001b[39;49;00m\u001b[43m)\u001b[49m\n",
      "File \u001b[0;32m~/miniconda3/envs/snwise/lib/python3.11/site-packages/astropy/utils/decorators.py:603\u001b[0m, in \u001b[0;36mdeprecated_renamed_argument.<locals>.decorator.<locals>.wrapper\u001b[0;34m(*args, **kwargs)\u001b[0m\n\u001b[1;32m    600\u001b[0m             msg \u001b[38;5;241m+\u001b[39m\u001b[38;5;241m=\u001b[39m \u001b[38;5;124mf\u001b[39m\u001b[38;5;124m\"\u001b[39m\u001b[38;5;130;01m\\n\u001b[39;00m\u001b[38;5;124m        Use \u001b[39m\u001b[38;5;132;01m{\u001b[39;00malternative\u001b[38;5;132;01m}\u001b[39;00m\u001b[38;5;124m instead.\u001b[39m\u001b[38;5;124m\"\u001b[39m\n\u001b[1;32m    601\u001b[0m         warnings\u001b[38;5;241m.\u001b[39mwarn(msg, warning_type, stacklevel\u001b[38;5;241m=\u001b[39m\u001b[38;5;241m2\u001b[39m)\n\u001b[0;32m--> 603\u001b[0m \u001b[38;5;28;01mreturn\u001b[39;00m \u001b[43mfunction\u001b[49m\u001b[43m(\u001b[49m\u001b[38;5;241;43m*\u001b[39;49m\u001b[43margs\u001b[49m\u001b[43m,\u001b[49m\u001b[43m \u001b[49m\u001b[38;5;241;43m*\u001b[39;49m\u001b[38;5;241;43m*\u001b[39;49m\u001b[43mkwargs\u001b[49m\u001b[43m)\u001b[49m\n",
      "File \u001b[0;32m~/miniconda3/envs/snwise/lib/python3.11/site-packages/astropy/utils/decorators.py:603\u001b[0m, in \u001b[0;36mdeprecated_renamed_argument.<locals>.decorator.<locals>.wrapper\u001b[0;34m(*args, **kwargs)\u001b[0m\n\u001b[1;32m    600\u001b[0m             msg \u001b[38;5;241m+\u001b[39m\u001b[38;5;241m=\u001b[39m \u001b[38;5;124mf\u001b[39m\u001b[38;5;124m\"\u001b[39m\u001b[38;5;130;01m\\n\u001b[39;00m\u001b[38;5;124m        Use \u001b[39m\u001b[38;5;132;01m{\u001b[39;00malternative\u001b[38;5;132;01m}\u001b[39;00m\u001b[38;5;124m instead.\u001b[39m\u001b[38;5;124m\"\u001b[39m\n\u001b[1;32m    601\u001b[0m         warnings\u001b[38;5;241m.\u001b[39mwarn(msg, warning_type, stacklevel\u001b[38;5;241m=\u001b[39m\u001b[38;5;241m2\u001b[39m)\n\u001b[0;32m--> 603\u001b[0m \u001b[38;5;28;01mreturn\u001b[39;00m \u001b[43mfunction\u001b[49m\u001b[43m(\u001b[49m\u001b[38;5;241;43m*\u001b[39;49m\u001b[43margs\u001b[49m\u001b[43m,\u001b[49m\u001b[43m \u001b[49m\u001b[38;5;241;43m*\u001b[39;49m\u001b[38;5;241;43m*\u001b[39;49m\u001b[43mkwargs\u001b[49m\u001b[43m)\u001b[49m\n",
      "    \u001b[0;31m[... skipping similar frames: deprecated_renamed_argument.<locals>.decorator.<locals>.wrapper at line 603 (2 times)]\u001b[0m\n",
      "File \u001b[0;32m~/miniconda3/envs/snwise/lib/python3.11/site-packages/astropy/utils/decorators.py:603\u001b[0m, in \u001b[0;36mdeprecated_renamed_argument.<locals>.decorator.<locals>.wrapper\u001b[0;34m(*args, **kwargs)\u001b[0m\n\u001b[1;32m    600\u001b[0m             msg \u001b[38;5;241m+\u001b[39m\u001b[38;5;241m=\u001b[39m \u001b[38;5;124mf\u001b[39m\u001b[38;5;124m\"\u001b[39m\u001b[38;5;130;01m\\n\u001b[39;00m\u001b[38;5;124m        Use \u001b[39m\u001b[38;5;132;01m{\u001b[39;00malternative\u001b[38;5;132;01m}\u001b[39;00m\u001b[38;5;124m instead.\u001b[39m\u001b[38;5;124m\"\u001b[39m\n\u001b[1;32m    601\u001b[0m         warnings\u001b[38;5;241m.\u001b[39mwarn(msg, warning_type, stacklevel\u001b[38;5;241m=\u001b[39m\u001b[38;5;241m2\u001b[39m)\n\u001b[0;32m--> 603\u001b[0m \u001b[38;5;28;01mreturn\u001b[39;00m \u001b[43mfunction\u001b[49m\u001b[43m(\u001b[49m\u001b[38;5;241;43m*\u001b[39;49m\u001b[43margs\u001b[49m\u001b[43m,\u001b[49m\u001b[43m \u001b[49m\u001b[38;5;241;43m*\u001b[39;49m\u001b[38;5;241;43m*\u001b[39;49m\u001b[43mkwargs\u001b[49m\u001b[43m)\u001b[49m\n",
      "File \u001b[0;32m~/miniconda3/envs/snwise/lib/python3.11/site-packages/astropy/io/ascii/ui.py:461\u001b[0m, in \u001b[0;36mread\u001b[0;34m(table, guess, **kwargs)\u001b[0m\n\u001b[1;32m    459\u001b[0m     \u001b[38;5;28;01melse\u001b[39;00m:\n\u001b[1;32m    460\u001b[0m         reader \u001b[38;5;241m=\u001b[39m get_reader(\u001b[38;5;241m*\u001b[39m\u001b[38;5;241m*\u001b[39mnew_kwargs)\n\u001b[0;32m--> 461\u001b[0m         dat \u001b[38;5;241m=\u001b[39m \u001b[43mreader\u001b[49m\u001b[38;5;241;43m.\u001b[39;49m\u001b[43mread\u001b[49m\u001b[43m(\u001b[49m\u001b[43mtable\u001b[49m\u001b[43m)\u001b[49m\n\u001b[1;32m    462\u001b[0m         _read_trace\u001b[38;5;241m.\u001b[39mappend(\n\u001b[1;32m    463\u001b[0m             {\n\u001b[1;32m    464\u001b[0m                 \u001b[38;5;124m\"\u001b[39m\u001b[38;5;124mkwargs\u001b[39m\u001b[38;5;124m\"\u001b[39m: copy\u001b[38;5;241m.\u001b[39mdeepcopy(new_kwargs),\n\u001b[0;32m   (...)\u001b[0m\n\u001b[1;32m    467\u001b[0m             }\n\u001b[1;32m    468\u001b[0m         )\n\u001b[1;32m    470\u001b[0m \u001b[38;5;66;03m# Static analysis (pyright) indicates `dat` might be left undefined, so just\u001b[39;00m\n\u001b[1;32m    471\u001b[0m \u001b[38;5;66;03m# to be sure define it at the beginning and check here.\u001b[39;00m\n",
      "File \u001b[0;32m~/miniconda3/envs/snwise/lib/python3.11/site-packages/astropy/io/ascii/core.py:1457\u001b[0m, in \u001b[0;36mBaseReader.read\u001b[0;34m(self, table)\u001b[0m\n\u001b[1;32m   1449\u001b[0m     \u001b[38;5;28;01mif\u001b[39;00m \u001b[38;5;28mlen\u001b[39m(str_vals) \u001b[38;5;241m!=\u001b[39m n_cols:\n\u001b[1;32m   1450\u001b[0m         errmsg \u001b[38;5;241m=\u001b[39m (\n\u001b[1;32m   1451\u001b[0m             \u001b[38;5;124mf\u001b[39m\u001b[38;5;124m\"\u001b[39m\u001b[38;5;124mNumber of header columns (\u001b[39m\u001b[38;5;132;01m{\u001b[39;00mn_cols\u001b[38;5;132;01m}\u001b[39;00m\u001b[38;5;124m) inconsistent with \u001b[39m\u001b[38;5;124m\"\u001b[39m\n\u001b[1;32m   1452\u001b[0m             \u001b[38;5;124mf\u001b[39m\u001b[38;5;124m\"\u001b[39m\u001b[38;5;124mdata columns (\u001b[39m\u001b[38;5;132;01m{\u001b[39;00m\u001b[38;5;28mlen\u001b[39m(str_vals)\u001b[38;5;132;01m}\u001b[39;00m\u001b[38;5;124m) at data line \u001b[39m\u001b[38;5;132;01m{\u001b[39;00mi\u001b[38;5;132;01m}\u001b[39;00m\u001b[38;5;130;01m\\n\u001b[39;00m\u001b[38;5;124m\"\u001b[39m\n\u001b[1;32m   1453\u001b[0m             \u001b[38;5;124mf\u001b[39m\u001b[38;5;124m\"\u001b[39m\u001b[38;5;124mHeader values: \u001b[39m\u001b[38;5;132;01m{\u001b[39;00m[x\u001b[38;5;241m.\u001b[39mname\u001b[38;5;250m \u001b[39m\u001b[38;5;28;01mfor\u001b[39;00m\u001b[38;5;250m \u001b[39mx\u001b[38;5;250m \u001b[39m\u001b[38;5;129;01min\u001b[39;00m\u001b[38;5;250m \u001b[39mcols]\u001b[38;5;132;01m}\u001b[39;00m\u001b[38;5;130;01m\\n\u001b[39;00m\u001b[38;5;124m\"\u001b[39m\n\u001b[1;32m   1454\u001b[0m             \u001b[38;5;124mf\u001b[39m\u001b[38;5;124m\"\u001b[39m\u001b[38;5;124mData values: \u001b[39m\u001b[38;5;132;01m{\u001b[39;00mstr_vals\u001b[38;5;132;01m}\u001b[39;00m\u001b[38;5;124m\"\u001b[39m\n\u001b[1;32m   1455\u001b[0m         )\n\u001b[0;32m-> 1457\u001b[0m         \u001b[38;5;28;01mraise\u001b[39;00m InconsistentTableError(errmsg)\n\u001b[1;32m   1459\u001b[0m \u001b[38;5;28;01mfor\u001b[39;00m j, col \u001b[38;5;129;01min\u001b[39;00m \u001b[38;5;28menumerate\u001b[39m(cols):\n\u001b[1;32m   1460\u001b[0m     col\u001b[38;5;241m.\u001b[39mstr_vals\u001b[38;5;241m.\u001b[39mappend(str_vals[j])\n",
      "\u001b[0;31mInconsistentTableError\u001b[0m: Number of header columns (7) inconsistent with data columns (8) at data line 0\nHeader values: ['BITPIX', '=', '8', '/', '8-bit', 'ASCII', 'characters']\nData values: ['NAXIS', '=', '1', '/', 'Number', 'of', 'Image', 'Dimensions']"
     ]
    }
   ],
   "source": [
    "ascii.read(\n",
    "    \"../1. download ALL wise data/wiserep_data/spectra/ASASSN-14ad_2456700.6695_NOT_ALFOSC_None.dat\",\n",
    "    guess=False,\n",
    "    fast_reader=False,\n",
    ")"
   ]
  },
  {
   "cell_type": "code",
   "execution_count": null,
   "metadata": {},
   "outputs": [],
   "source": []
  }
 ],
 "metadata": {
  "kernelspec": {
   "display_name": "Python 3 (ipykernel)",
   "language": "python",
   "name": "python3"
  },
  "language_info": {
   "codemirror_mode": {
    "name": "ipython",
    "version": 3
   },
   "file_extension": ".py",
   "mimetype": "text/x-python",
   "name": "python",
   "nbconvert_exporter": "python",
   "pygments_lexer": "ipython3",
   "version": "3.11.11"
  }
 },
 "nbformat": 4,
 "nbformat_minor": 4
}
