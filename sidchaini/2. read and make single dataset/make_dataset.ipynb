{
 "cells": [
  {
   "cell_type": "code",
   "execution_count": 2,
   "id": "3d8d8cd1",
   "metadata": {},
   "outputs": [],
   "source": [
    "import pandas as pd"
   ]
  },
  {
   "cell_type": "code",
   "execution_count": null,
   "id": "741776e4",
   "metadata": {},
   "outputs": [
    {
     "name": "stderr",
     "output_type": "stream",
     "text": [
      "/var/folders/2d/ht34x6mn7hx9d1sv4g_j8nfr0000gn/T/ipykernel_57710/2388625108.py:1: DtypeWarning: Columns (1,34) have mixed types. Specify dtype option on import or set low_memory=False.\n",
      "  df = pd.read_csv(\"../1. download ALL wise data/wiserep_spectra_combined.csv\", index_col=0)\n"
     ]
    }
   ],
   "source": [
    "df = pd.read_csv(\n",
    "    \"../1. download ALL wise data/wiserep_spectra_combined.csv\", index_col=0\n",
    ")"
   ]
  },
  {
   "cell_type": "code",
   "execution_count": 12,
   "id": "c51e5d6a",
   "metadata": {},
   "outputs": [],
   "source": [
    "df = df.reset_index(drop=True)"
   ]
  },
  {
   "cell_type": "code",
   "execution_count": 22,
   "id": "44e95d94",
   "metadata": {},
   "outputs": [
    {
     "name": "stdout",
     "output_type": "stream",
     "text": [
      "CSS161010:045834-081803_2457679.64_NOT_ALFOSC_None.txt\n",
      "CSS161010:045834-081803_2457680.67_NOT_ALFOSC_None.txt\n",
      "CSS161010:045834-081803_2457681.59_NOT_ALFOSC_None.txt\n",
      "CSS161010:045834-081803_2457691.65_NOT_ALFOSC_None.txt\n",
      "CSS161010:045834-081803_2457692.66_NOT_ALFOSC_None.txt\n",
      "CSS161010:045834-081803_2457697.44_SALT_RSS_None.txt\n",
      "CSS161010:045834-081803_2457697.73_Magellan-Baade_IMACS_None.txt\n",
      "CSS161010:045834-081803_2457698.78_Magellan-Baade_IMACS_None.txt\n",
      "CSS161010:045834-081803_2457711.88_LBT_MODS1_None.txt\n",
      "CSS161010:045834-081803_2457716.55_GTC_OSIRIS_None.txt\n",
      "CSS161010:045834-081803_2457729.58_GTC_OSIRIS_None.txt\n",
      "CSS161010:045834-081803_2457779.48_GTC_OSIRIS_None.txt\n"
     ]
    }
   ],
   "source": [
    "for c in df[df[\"Ascii file\"].str.contains(\":\")][\"Ascii file\"]:\n",
    "    print(c)"
   ]
  },
  {
   "cell_type": "code",
   "execution_count": 23,
   "id": "1531c86e",
   "metadata": {},
   "outputs": [
    {
     "name": "stdout",
     "output_type": "stream",
     "text": [
      "Files after renaming:\n",
      "CSS161010_045834-081803_2457679.64_NOT_ALFOSC_None.txt\n",
      "CSS161010_045834-081803_2457680.67_NOT_ALFOSC_None.txt\n",
      "CSS161010_045834-081803_2457681.59_NOT_ALFOSC_None.txt\n",
      "CSS161010_045834-081803_2457691.65_NOT_ALFOSC_None.txt\n",
      "CSS161010_045834-081803_2457692.66_NOT_ALFOSC_None.txt\n",
      "CSS161010_045834-081803_2457697.44_SALT_RSS_None.txt\n",
      "CSS161010_045834-081803_2457697.73_Magellan-Baade_IMACS_None.txt\n",
      "CSS161010_045834-081803_2457698.78_Magellan-Baade_IMACS_None.txt\n",
      "CSS161010_045834-081803_2457711.88_LBT_MODS1_None.txt\n",
      "CSS161010_045834-081803_2457716.55_GTC_OSIRIS_None.txt\n",
      "CSS161010_045834-081803_2457729.58_GTC_OSIRIS_None.txt\n",
      "CSS161010_045834-081803_2457779.48_GTC_OSIRIS_None.txt\n"
     ]
    }
   ],
   "source": [
    "# # Replace \"CSS161010:\" with \"CSS161010_\" in the \"Ascii file\" column\n",
    "# # This will preserve any characters that come after the colon\n",
    "# df[\"Ascii file\"] = df[\"Ascii file\"].apply(lambda x: x.replace(\"CSS161010:\", \"CSS161010_\") if isinstance(x, str) and x.startswith(\"CSS161010:\") else x)\n",
    "\n",
    "# # Verify the changes\n",
    "# print(\"Files after renaming:\")\n",
    "# for c in df[df[\"Ascii file\"].str.contains(\"CSS161010_\")][\"Ascii file\"]:\n",
    "#     print(c)"
   ]
  },
  {
   "cell_type": "code",
   "execution_count": null,
   "id": "78901208",
   "metadata": {},
   "outputs": [],
   "source": [
    "# df.to_csv(\"../1. download ALL wise data/wiserep_spectra_combined.csv\", index=False)"
   ]
  },
  {
   "cell_type": "code",
   "execution_count": null,
   "id": "5009ba48",
   "metadata": {},
   "outputs": [
    {
     "name": "stderr",
     "output_type": "stream",
     "text": [
      "/var/folders/2d/ht34x6mn7hx9d1sv4g_j8nfr0000gn/T/ipykernel_57710/314156500.py:1: DtypeWarning: Columns (0,33) have mixed types. Specify dtype option on import or set low_memory=False.\n",
      "  df = pd.read_csv(\n"
     ]
    }
   ],
   "source": [
    "df = pd.read_csv(\"../1. download ALL wise data/wiserep_spectra_combined.csv\")"
   ]
  },
  {
   "cell_type": "code",
   "execution_count": 47,
   "id": "4132d684",
   "metadata": {},
   "outputs": [],
   "source": [
    "colvals = df[\"Ascii file\"].to_numpy()"
   ]
  },
  {
   "cell_type": "code",
   "execution_count": 48,
   "id": "ed456f51",
   "metadata": {},
   "outputs": [],
   "source": [
    "import os\n",
    "\n",
    "fn = os.listdir(\"../1. download ALL wise data/wiserep_data/spectra\")"
   ]
  },
  {
   "cell_type": "code",
   "execution_count": null,
   "id": "3ba26602",
   "metadata": {},
   "outputs": [],
   "source": [
    "from tqdm.auto import tqdm"
   ]
  },
  {
   "cell_type": "code",
   "execution_count": 54,
   "id": "638664f4",
   "metadata": {},
   "outputs": [
    {
     "ename": "KeyboardInterrupt",
     "evalue": "",
     "output_type": "error",
     "traceback": [
      "\u001b[0;31m---------------------------------------------------------------------------\u001b[0m",
      "\u001b[0;31mKeyboardInterrupt\u001b[0m                         Traceback (most recent call last)",
      "Cell \u001b[0;32mIn[54], line 5\u001b[0m\n\u001b[1;32m      2\u001b[0m intersection \u001b[38;5;241m=\u001b[39m np\u001b[38;5;241m.\u001b[39mintersect1d(np\u001b[38;5;241m.\u001b[39marray(fn), colvals)\n\u001b[1;32m      4\u001b[0m \u001b[38;5;66;03m# Find files that are in directory but not in dataframe\u001b[39;00m\n\u001b[0;32m----> 5\u001b[0m files_in_dir_not_in_df \u001b[38;5;241m=\u001b[39m \u001b[43mnp\u001b[49m\u001b[38;5;241;43m.\u001b[39;49m\u001b[43msetdiff1d\u001b[49m\u001b[43m(\u001b[49m\u001b[43mnp\u001b[49m\u001b[38;5;241;43m.\u001b[39;49m\u001b[43marray\u001b[49m\u001b[43m(\u001b[49m\u001b[43mfn\u001b[49m\u001b[43m)\u001b[49m\u001b[43m,\u001b[49m\u001b[43m \u001b[49m\u001b[43mcolvals\u001b[49m\u001b[43m)\u001b[49m\n\u001b[1;32m      6\u001b[0m \u001b[38;5;66;03m# Find files that are in dataframe but not in directory\u001b[39;00m\n\u001b[1;32m      7\u001b[0m files_in_df_not_in_dir \u001b[38;5;241m=\u001b[39m np\u001b[38;5;241m.\u001b[39msetdiff1d(colvals, np\u001b[38;5;241m.\u001b[39marray(fn))\n",
      "File \u001b[0;32m~/miniconda3/lib/python3.12/site-packages/numpy/lib/arraysetops.py:981\u001b[0m, in \u001b[0;36msetdiff1d\u001b[0;34m(ar1, ar2, assume_unique)\u001b[0m\n\u001b[1;32m    979\u001b[0m     ar1 \u001b[38;5;241m=\u001b[39m unique(ar1)\n\u001b[1;32m    980\u001b[0m     ar2 \u001b[38;5;241m=\u001b[39m unique(ar2)\n\u001b[0;32m--> 981\u001b[0m \u001b[38;5;28;01mreturn\u001b[39;00m ar1[\u001b[43min1d\u001b[49m\u001b[43m(\u001b[49m\u001b[43mar1\u001b[49m\u001b[43m,\u001b[49m\u001b[43m \u001b[49m\u001b[43mar2\u001b[49m\u001b[43m,\u001b[49m\u001b[43m \u001b[49m\u001b[43massume_unique\u001b[49m\u001b[38;5;241;43m=\u001b[39;49m\u001b[38;5;28;43;01mTrue\u001b[39;49;00m\u001b[43m,\u001b[49m\u001b[43m \u001b[49m\u001b[43minvert\u001b[49m\u001b[38;5;241;43m=\u001b[39;49m\u001b[38;5;28;43;01mTrue\u001b[39;49;00m\u001b[43m)\u001b[49m]\n",
      "File \u001b[0;32m~/miniconda3/lib/python3.12/site-packages/numpy/lib/arraysetops.py:729\u001b[0m, in \u001b[0;36min1d\u001b[0;34m(ar1, ar2, assume_unique, invert, kind)\u001b[0m\n\u001b[1;32m    727\u001b[0m     mask \u001b[38;5;241m=\u001b[39m np\u001b[38;5;241m.\u001b[39mones(\u001b[38;5;28mlen\u001b[39m(ar1), dtype\u001b[38;5;241m=\u001b[39m\u001b[38;5;28mbool\u001b[39m)\n\u001b[1;32m    728\u001b[0m     \u001b[38;5;28;01mfor\u001b[39;00m a \u001b[38;5;129;01min\u001b[39;00m ar2:\n\u001b[0;32m--> 729\u001b[0m         mask \u001b[38;5;241m&\u001b[39m\u001b[38;5;241m=\u001b[39m (ar1 \u001b[38;5;241m!=\u001b[39m a)\n\u001b[1;32m    730\u001b[0m \u001b[38;5;28;01melse\u001b[39;00m:\n\u001b[1;32m    731\u001b[0m     mask \u001b[38;5;241m=\u001b[39m np\u001b[38;5;241m.\u001b[39mzeros(\u001b[38;5;28mlen\u001b[39m(ar1), dtype\u001b[38;5;241m=\u001b[39m\u001b[38;5;28mbool\u001b[39m)\n",
      "\u001b[0;31mKeyboardInterrupt\u001b[0m: "
     ]
    }
   ],
   "source": [
    "# Find the intersection of the two arrays\n",
    "intersection = np.intersect1d(np.array(fn), colvals)\n",
    "\n",
    "# Find files that are in directory but not in dataframe\n",
    "files_in_dir_not_in_df = np.setdiff1d(np.array(fn), colvals)\n",
    "# Find files that are in dataframe but not in directory\n",
    "files_in_df_not_in_dir = np.setdiff1d(colvals, np.array(fn))\n",
    "\n",
    "# Print the differences\n",
    "print(f\"Files in directory but not in dataframe ({len(files_in_dir_not_in_df)}):\")\n",
    "for file in files_in_dir_not_in_df:\n",
    "    print(f\"  - {file}\")\n",
    "\n",
    "print(f\"\\nFiles in dataframe but not in directory ({len(files_in_df_not_in_dir)}):\")\n",
    "for file in files_in_df_not_in_dir:\n",
    "    print(f\"  - {file}\")\n",
    "\n",
    "print(\n",
    "    f\"\\nIntersection: {len(intersection)} files match between directory and dataframe\"\n",
    ")"
   ]
  },
  {
   "cell_type": "code",
   "execution_count": null,
   "id": "10896db4",
   "metadata": {},
   "outputs": [],
   "source": []
  }
 ],
 "metadata": {
  "kernelspec": {
   "display_name": "base",
   "language": "python",
   "name": "python3"
  },
  "language_info": {
   "codemirror_mode": {
    "name": "ipython",
    "version": 3
   },
   "file_extension": ".py",
   "mimetype": "text/x-python",
   "name": "python",
   "nbconvert_exporter": "python",
   "pygments_lexer": "ipython3",
   "version": "3.12.4"
  }
 },
 "nbformat": 4,
 "nbformat_minor": 5
}
