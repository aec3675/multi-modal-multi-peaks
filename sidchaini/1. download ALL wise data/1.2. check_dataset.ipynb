{
 "cells": [
  {
   "cell_type": "code",
   "execution_count": 1,
   "id": "3d8d8cd1",
   "metadata": {
    "execution": {
     "iopub.execute_input": "2025-03-14T02:59:18.104372Z",
     "iopub.status.busy": "2025-03-14T02:59:18.103583Z",
     "iopub.status.idle": "2025-03-14T02:59:18.704473Z",
     "shell.execute_reply": "2025-03-14T02:59:18.704156Z",
     "shell.execute_reply.started": "2025-03-14T02:59:18.104332Z"
    }
   },
   "outputs": [],
   "source": [
    "import pandas as pd\n",
    "import os\n",
    "import numpy as np\n",
    "from tqdm.auto import tqdm\n",
    "\n",
    "df = pd.read_csv(\"../1. download ALL wise data/wiserep_spectra_combined.csv\")"
   ]
  },
  {
   "cell_type": "code",
   "execution_count": 22,
   "id": "04269704",
   "metadata": {},
   "outputs": [],
   "source": [
    "# df.head()"
   ]
  },
  {
   "cell_type": "code",
   "execution_count": 23,
   "id": "4132d684",
   "metadata": {},
   "outputs": [],
   "source": [
    "colvals = df[\"Ascii file\"].to_numpy()\n",
    "fn = os.listdir(\"wiserep_data/spectra\")"
   ]
  },
  {
   "cell_type": "code",
   "execution_count": 24,
   "id": "10896db4",
   "metadata": {},
   "outputs": [
    {
     "data": {
      "application/vnd.jupyter.widget-view+json": {
       "model_id": "915ff32628f54d7892a953a0f6f4c5aa",
       "version_major": 2,
       "version_minor": 0
      },
      "text/plain": [
       "  0%|          | 0/54005 [00:00<?, ?it/s]"
      ]
     },
     "metadata": {},
     "output_type": "display_data"
    }
   ],
   "source": [
    "for i, f in enumerate(tqdm(colvals)):\n",
    "    if f not in fn:\n",
    "        print(f)  # , df.iloc[i])"
   ]
  },
  {
   "cell_type": "code",
   "execution_count": 5,
   "id": "4a0face2",
   "metadata": {},
   "outputs": [],
   "source": [
    "### manual downloads format\n",
    "# https://www.wiserep.org/system/files/uploaded/TNS/SN2022xkt_2022-10-16_10-50-31_UH88_SNIFS_TNS.\n",
    "# https://www.wiserep.org/system/files/uploaded/DESI/2023ixf_2023-05-23_03-19-22_Mayall_DESI_DESI.ecsv\n",
    "# https://www.wiserep.org/system/files/uploaded/general/2008jd_2009-10-12_01-17-53.829_VLT-UT2_X-Shooter_None.tx"
   ]
  }
 ],
 "metadata": {
  "kernelspec": {
   "display_name": "Python 3 (ipykernel)",
   "language": "python",
   "name": "python3"
  },
  "language_info": {
   "codemirror_mode": {
    "name": "ipython",
    "version": 3
   },
   "file_extension": ".py",
   "mimetype": "text/x-python",
   "name": "python",
   "nbconvert_exporter": "python",
   "pygments_lexer": "ipython3",
   "version": "3.11.11"
  }
 },
 "nbformat": 4,
 "nbformat_minor": 5
}
